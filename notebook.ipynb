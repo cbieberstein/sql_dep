{
 "cells": [
  {
   "cell_type": "code",
   "execution_count": 45,
   "metadata": {
    "collapsed": true,
    "pycharm": {
     "name": "#%%\n"
    }
   },
   "outputs": [],
   "source": [
    "from queries import *\n",
    "from pathlib import Path\n",
    "from pandas_profiling import ProfileReport\n",
    "from sql_metadata import Parser\n",
    "import sqlparse\n",
    "import sqlglot\n",
    "import re\n",
    "from pprint import pprint"
   ]
  },
  {
   "cell_type": "code",
   "execution_count": 2,
   "outputs": [],
   "source": [
    "pd.set_option('display.max_rows', 20)\n",
    "pd.set_option('display.max_columns', None)"
   ],
   "metadata": {
    "collapsed": false,
    "pycharm": {
     "name": "#%%\n"
    }
   }
  },
  {
   "cell_type": "code",
   "execution_count": 3,
   "outputs": [],
   "source": [
    "engine = connect_sqlserver_windowsauth('bidatacentre','master')\n",
    "db_df = fetch_all_dbs(engine)\n"
   ],
   "metadata": {
    "collapsed": false,
    "pycharm": {
     "name": "#%%\n"
    }
   }
  },
  {
   "cell_type": "code",
   "execution_count": 4,
   "outputs": [],
   "source": [
    "def markdown_table(in_df):\n",
    "    header = \"\"\n",
    "    line2 = \"\"\n",
    "    data = \"\"\n",
    "    for col in in_df.columns:\n",
    "        header = header + f\"| {col} \"\n",
    "        line2 = line2 + f\"| --- \"\n",
    "    header = header + \"|\\n\"\n",
    "    line2 = line2 + \"|\\n\"\n",
    "    for row in in_df.itertuples():\n",
    "        for col in range(1,len(row)):\n",
    "            data = data + f\"| {row[col]} \"\n",
    "        data = data + \"|\\n\"\n",
    "    table_string = header + line2 + data + \"\\n\"\n",
    "    return table_string"
   ],
   "metadata": {
    "collapsed": false,
    "pycharm": {
     "name": "#%%\n"
    }
   }
  },
  {
   "cell_type": "code",
   "execution_count": 5,
   "outputs": [],
   "source": [
    "# Test code\n",
    "deps = fetch_all_db_dependencies(engine)"
   ],
   "metadata": {
    "collapsed": false,
    "pycharm": {
     "name": "#%%\n"
    }
   }
  },
  {
   "cell_type": "code",
   "execution_count": 6,
   "outputs": [
    {
     "data": {
      "text/plain": "                  DATABASE referencing_schema_name  \\\n0                     APPS                     dbo   \n1                     APPS                     dbo   \n2                     APPS                     dbo   \n3                     APPS                     dbo   \n4                     APPS                     dbo   \n...                    ...                     ...   \n41519  iTrak3_SecureEnergy                     dbo   \n41520  iTrak3_SecureEnergy                     dbo   \n41521  iTrak3_SecureEnergy                     dbo   \n41522  iTrak3_SecureEnergy                     dbo   \n41523  iTrak3_SecureEnergy                     dbo   \n\n                        referencing_object_name referencing_type_desc  \\\n0                           AX_GL_BudgetDetails                  VIEW   \n1                                  AX_GL_Master                  VIEW   \n2                                  AX_GL_Master                  VIEW   \n3                            AX_GL_TransDetails                  VIEW   \n4                              AX_PChemCustomer                  VIEW   \n...                                         ...                   ...   \n41519  WorkflowTasksSelectByWorkflowSubreportRS  SQL_STORED_PROCEDURE   \n41520  WorkflowTasksSelectByWorkflowSubreportRS  SQL_STORED_PROCEDURE   \n41521  WorkflowTasksSelectByWorkflowSubreportRS  SQL_STORED_PROCEDURE   \n41522                   WorkflowTasksSelectList  SQL_STORED_PROCEDURE   \n41523                       WorkflowTasksUpdate  SQL_STORED_PROCEDURE   \n\n      referenced_server_name     referenced_db_name referenced_schema_name  \\\n0                       None                     BI                    dbo   \n1                       None  AX_SECURE_PRD_REPLICA                    dbo   \n2                       None  AX_SECURE_PRD_REPLICA                    dbo   \n3                       None                     BI                    dbo   \n4                       None                     BI                    dbo   \n...                      ...                    ...                    ...   \n41519                   None    iTrak3_SecureEnergy                    dbo   \n41520                   None    iTrak3_SecureEnergy                    dbo   \n41521                   None    iTrak3_SecureEnergy                    dbo   \n41522                   None    iTrak3_SecureEnergy                    dbo   \n41523                   None    iTrak3_SecureEnergy                    dbo   \n\n      referenced_entity_name  \n0            AX_Budget_Trans  \n1                MAINACCOUNT  \n2        MAINACCOUNTCATEGORY  \n3         AX_GL_TransDetails  \n4         AX_Customer_Master  \n...                      ...  \n41519   TaskStatusTranslated  \n41520    TaskTypesTranslated  \n41521          WorkflowTasks  \n41522          WorkflowTasks  \n41523          WorkflowTasks  \n\n[70402 rows x 8 columns]",
      "text/html": "<div>\n<style scoped>\n    .dataframe tbody tr th:only-of-type {\n        vertical-align: middle;\n    }\n\n    .dataframe tbody tr th {\n        vertical-align: top;\n    }\n\n    .dataframe thead th {\n        text-align: right;\n    }\n</style>\n<table border=\"1\" class=\"dataframe\">\n  <thead>\n    <tr style=\"text-align: right;\">\n      <th></th>\n      <th>DATABASE</th>\n      <th>referencing_schema_name</th>\n      <th>referencing_object_name</th>\n      <th>referencing_type_desc</th>\n      <th>referenced_server_name</th>\n      <th>referenced_db_name</th>\n      <th>referenced_schema_name</th>\n      <th>referenced_entity_name</th>\n    </tr>\n  </thead>\n  <tbody>\n    <tr>\n      <th>0</th>\n      <td>APPS</td>\n      <td>dbo</td>\n      <td>AX_GL_BudgetDetails</td>\n      <td>VIEW</td>\n      <td>None</td>\n      <td>BI</td>\n      <td>dbo</td>\n      <td>AX_Budget_Trans</td>\n    </tr>\n    <tr>\n      <th>1</th>\n      <td>APPS</td>\n      <td>dbo</td>\n      <td>AX_GL_Master</td>\n      <td>VIEW</td>\n      <td>None</td>\n      <td>AX_SECURE_PRD_REPLICA</td>\n      <td>dbo</td>\n      <td>MAINACCOUNT</td>\n    </tr>\n    <tr>\n      <th>2</th>\n      <td>APPS</td>\n      <td>dbo</td>\n      <td>AX_GL_Master</td>\n      <td>VIEW</td>\n      <td>None</td>\n      <td>AX_SECURE_PRD_REPLICA</td>\n      <td>dbo</td>\n      <td>MAINACCOUNTCATEGORY</td>\n    </tr>\n    <tr>\n      <th>3</th>\n      <td>APPS</td>\n      <td>dbo</td>\n      <td>AX_GL_TransDetails</td>\n      <td>VIEW</td>\n      <td>None</td>\n      <td>BI</td>\n      <td>dbo</td>\n      <td>AX_GL_TransDetails</td>\n    </tr>\n    <tr>\n      <th>4</th>\n      <td>APPS</td>\n      <td>dbo</td>\n      <td>AX_PChemCustomer</td>\n      <td>VIEW</td>\n      <td>None</td>\n      <td>BI</td>\n      <td>dbo</td>\n      <td>AX_Customer_Master</td>\n    </tr>\n    <tr>\n      <th>...</th>\n      <td>...</td>\n      <td>...</td>\n      <td>...</td>\n      <td>...</td>\n      <td>...</td>\n      <td>...</td>\n      <td>...</td>\n      <td>...</td>\n    </tr>\n    <tr>\n      <th>41519</th>\n      <td>iTrak3_SecureEnergy</td>\n      <td>dbo</td>\n      <td>WorkflowTasksSelectByWorkflowSubreportRS</td>\n      <td>SQL_STORED_PROCEDURE</td>\n      <td>None</td>\n      <td>iTrak3_SecureEnergy</td>\n      <td>dbo</td>\n      <td>TaskStatusTranslated</td>\n    </tr>\n    <tr>\n      <th>41520</th>\n      <td>iTrak3_SecureEnergy</td>\n      <td>dbo</td>\n      <td>WorkflowTasksSelectByWorkflowSubreportRS</td>\n      <td>SQL_STORED_PROCEDURE</td>\n      <td>None</td>\n      <td>iTrak3_SecureEnergy</td>\n      <td>dbo</td>\n      <td>TaskTypesTranslated</td>\n    </tr>\n    <tr>\n      <th>41521</th>\n      <td>iTrak3_SecureEnergy</td>\n      <td>dbo</td>\n      <td>WorkflowTasksSelectByWorkflowSubreportRS</td>\n      <td>SQL_STORED_PROCEDURE</td>\n      <td>None</td>\n      <td>iTrak3_SecureEnergy</td>\n      <td>dbo</td>\n      <td>WorkflowTasks</td>\n    </tr>\n    <tr>\n      <th>41522</th>\n      <td>iTrak3_SecureEnergy</td>\n      <td>dbo</td>\n      <td>WorkflowTasksSelectList</td>\n      <td>SQL_STORED_PROCEDURE</td>\n      <td>None</td>\n      <td>iTrak3_SecureEnergy</td>\n      <td>dbo</td>\n      <td>WorkflowTasks</td>\n    </tr>\n    <tr>\n      <th>41523</th>\n      <td>iTrak3_SecureEnergy</td>\n      <td>dbo</td>\n      <td>WorkflowTasksUpdate</td>\n      <td>SQL_STORED_PROCEDURE</td>\n      <td>None</td>\n      <td>iTrak3_SecureEnergy</td>\n      <td>dbo</td>\n      <td>WorkflowTasks</td>\n    </tr>\n  </tbody>\n</table>\n<p>70402 rows × 8 columns</p>\n</div>"
     },
     "execution_count": 6,
     "metadata": {},
     "output_type": "execute_result"
    }
   ],
   "source": [
    "deps\n"
   ],
   "metadata": {
    "collapsed": false,
    "pycharm": {
     "name": "#%%\n"
    }
   }
  },
  {
   "cell_type": "code",
   "execution_count": 7,
   "outputs": [
    {
     "data": {
      "text/plain": "                    DATABASE referencing_schema_name  \\\n0                       APPS                     dbo   \n24974  AX_SECURE_PRD_REPLICA                    temp   \n24975  AX_SECURE_PRD_REPLICA                    temp   \n24979  AX_SECURE_PRD_REPLICA                    temp   \n24980  AX_SECURE_PRD_REPLICA                    temp   \n1217                      BI                     dbo   \n1455                      BI                    temp   \n\n                                 referencing_object_name referencing_type_desc  \n0                                    AX_GL_BudgetDetails                  VIEW  \n24974  /_Master/PRD-FIN-01 Facility Roll Up Print Cop...  SQL_STORED_PROCEDURE  \n24975  /_Master/PRD-FIN-01 Facility Roll Up Print Cop...  SQL_STORED_PROCEDURE  \n24979  /_Master/PRD-FIN-01 Facility Roll Up Print Cop...  SQL_STORED_PROCEDURE  \n24980    /_Master/PRD-FIN-02 PRD Summary Report - CAN__1  SQL_STORED_PROCEDURE  \n1217                               zPowerBI_PRDQForecast                  VIEW  \n1455   /Report Parts/Admin Temp/PRD-FIN-XX PRD Summar...  SQL_STORED_PROCEDURE  ",
      "text/html": "<div>\n<style scoped>\n    .dataframe tbody tr th:only-of-type {\n        vertical-align: middle;\n    }\n\n    .dataframe tbody tr th {\n        vertical-align: top;\n    }\n\n    .dataframe thead th {\n        text-align: right;\n    }\n</style>\n<table border=\"1\" class=\"dataframe\">\n  <thead>\n    <tr style=\"text-align: right;\">\n      <th></th>\n      <th>DATABASE</th>\n      <th>referencing_schema_name</th>\n      <th>referencing_object_name</th>\n      <th>referencing_type_desc</th>\n    </tr>\n  </thead>\n  <tbody>\n    <tr>\n      <th>0</th>\n      <td>APPS</td>\n      <td>dbo</td>\n      <td>AX_GL_BudgetDetails</td>\n      <td>VIEW</td>\n    </tr>\n    <tr>\n      <th>24974</th>\n      <td>AX_SECURE_PRD_REPLICA</td>\n      <td>temp</td>\n      <td>/_Master/PRD-FIN-01 Facility Roll Up Print Cop...</td>\n      <td>SQL_STORED_PROCEDURE</td>\n    </tr>\n    <tr>\n      <th>24975</th>\n      <td>AX_SECURE_PRD_REPLICA</td>\n      <td>temp</td>\n      <td>/_Master/PRD-FIN-01 Facility Roll Up Print Cop...</td>\n      <td>SQL_STORED_PROCEDURE</td>\n    </tr>\n    <tr>\n      <th>24979</th>\n      <td>AX_SECURE_PRD_REPLICA</td>\n      <td>temp</td>\n      <td>/_Master/PRD-FIN-01 Facility Roll Up Print Cop...</td>\n      <td>SQL_STORED_PROCEDURE</td>\n    </tr>\n    <tr>\n      <th>24980</th>\n      <td>AX_SECURE_PRD_REPLICA</td>\n      <td>temp</td>\n      <td>/_Master/PRD-FIN-02 PRD Summary Report - CAN__1</td>\n      <td>SQL_STORED_PROCEDURE</td>\n    </tr>\n    <tr>\n      <th>1217</th>\n      <td>BI</td>\n      <td>dbo</td>\n      <td>zPowerBI_PRDQForecast</td>\n      <td>VIEW</td>\n    </tr>\n    <tr>\n      <th>1455</th>\n      <td>BI</td>\n      <td>temp</td>\n      <td>/Report Parts/Admin Temp/PRD-FIN-XX PRD Summar...</td>\n      <td>SQL_STORED_PROCEDURE</td>\n    </tr>\n  </tbody>\n</table>\n</div>"
     },
     "execution_count": 7,
     "metadata": {},
     "output_type": "execute_result"
    }
   ],
   "source": [
    "get_children(deps, 'BI', 'dbo', 'AX_Budget_Trans')"
   ],
   "metadata": {
    "collapsed": false,
    "pycharm": {
     "name": "#%%\n"
    }
   }
  },
  {
   "cell_type": "markdown",
   "source": [
    "## VIEWS"
   ],
   "metadata": {
    "collapsed": false,
    "pycharm": {
     "name": "#%% md\n"
    }
   }
  },
  {
   "cell_type": "code",
   "execution_count": null,
   "outputs": [],
   "source": [],
   "metadata": {
    "collapsed": false,
    "pycharm": {
     "name": "#%%\n"
    }
   }
  },
  {
   "cell_type": "markdown",
   "source": [
    "### Get all View definitions for this DB ('BI')"
   ],
   "metadata": {
    "collapsed": false,
    "pycharm": {
     "name": "#%% md\n"
    }
   }
  },
  {
   "cell_type": "code",
   "execution_count": null,
   "outputs": [],
   "source": [
    "engine = connect_sqlserver_windowsauth('bidatacentre','BI')\n",
    "view_def = fetch_view_definitions(engine)"
   ],
   "metadata": {
    "collapsed": false,
    "pycharm": {
     "name": "#%%\n"
    }
   }
  },
  {
   "cell_type": "code",
   "execution_count": 10,
   "outputs": [
    {
     "data": {
      "text/plain": "                                        name  \\\n0                 AX_FixedAsset_TransDetails   \n1                 zExcel_DPS_CustomerRevenue   \n2                      AX_Inventory_Location   \n3    zPowerBI_AXRevenue_PRDTransWithDistance   \n4                      zPowerBI_PRDQForecast   \n..                                       ...   \n209                   AX_Facility_UserAccess   \n210                             AX_GL_Master   \n211                        AX_Project_Master   \n212                          AX_Vendor_Trans   \n213                    PRD_SC_VendorRequests   \n\n                                            definition  \n0    \\r\\n\\r\\n\\r\\n\\r\\n\\r\\nCREATE VIEW [dbo].[AX_Fixe...  \n1    \\r\\n\\r\\n\\r\\n\\r\\n\\r\\n\\r\\n/*********************...  \n2    \\r\\n\\r\\n\\r\\n\\r\\n\\r\\nCREATE VIEW [dbo].[AX_Inve...  \n3    \\r\\n\\r\\n\\r\\nCREATE VIEW [dbo].[zPowerBI_AXReve...  \n4    \\r\\n\\r\\n\\r\\n\\r\\n\\r\\n\\r\\n\\r\\n\\r\\n\\r\\n\\r\\n/*****...  \n..                                                 ...  \n209  \\r\\n/*****************************************...  \n210  \\r\\n\\r\\nCREATE VIEW [dbo].[AX_GL_Master] AS \\r...  \n211  \\r\\n\\r\\n\\r\\n\\r\\n\\r\\n\\r\\n\\r\\n\\r\\n\\r\\n\\r\\n\\r\\n\\r...  \n212  \\r\\n\\r\\n\\r\\n\\r\\n\\r\\n\\r\\n\\r\\n\\r\\nCREATE VIEW [d...  \n213  CREATE VIEW PRD_SC_VendorRequests AS\\r\\n\\r\\nSE...  \n\n[214 rows x 2 columns]",
      "text/html": "<div>\n<style scoped>\n    .dataframe tbody tr th:only-of-type {\n        vertical-align: middle;\n    }\n\n    .dataframe tbody tr th {\n        vertical-align: top;\n    }\n\n    .dataframe thead th {\n        text-align: right;\n    }\n</style>\n<table border=\"1\" class=\"dataframe\">\n  <thead>\n    <tr style=\"text-align: right;\">\n      <th></th>\n      <th>name</th>\n      <th>definition</th>\n    </tr>\n  </thead>\n  <tbody>\n    <tr>\n      <th>0</th>\n      <td>AX_FixedAsset_TransDetails</td>\n      <td>\\r\\n\\r\\n\\r\\n\\r\\n\\r\\nCREATE VIEW [dbo].[AX_Fixe...</td>\n    </tr>\n    <tr>\n      <th>1</th>\n      <td>zExcel_DPS_CustomerRevenue</td>\n      <td>\\r\\n\\r\\n\\r\\n\\r\\n\\r\\n\\r\\n/*********************...</td>\n    </tr>\n    <tr>\n      <th>2</th>\n      <td>AX_Inventory_Location</td>\n      <td>\\r\\n\\r\\n\\r\\n\\r\\n\\r\\nCREATE VIEW [dbo].[AX_Inve...</td>\n    </tr>\n    <tr>\n      <th>3</th>\n      <td>zPowerBI_AXRevenue_PRDTransWithDistance</td>\n      <td>\\r\\n\\r\\n\\r\\nCREATE VIEW [dbo].[zPowerBI_AXReve...</td>\n    </tr>\n    <tr>\n      <th>4</th>\n      <td>zPowerBI_PRDQForecast</td>\n      <td>\\r\\n\\r\\n\\r\\n\\r\\n\\r\\n\\r\\n\\r\\n\\r\\n\\r\\n\\r\\n/*****...</td>\n    </tr>\n    <tr>\n      <th>...</th>\n      <td>...</td>\n      <td>...</td>\n    </tr>\n    <tr>\n      <th>209</th>\n      <td>AX_Facility_UserAccess</td>\n      <td>\\r\\n/*****************************************...</td>\n    </tr>\n    <tr>\n      <th>210</th>\n      <td>AX_GL_Master</td>\n      <td>\\r\\n\\r\\nCREATE VIEW [dbo].[AX_GL_Master] AS \\r...</td>\n    </tr>\n    <tr>\n      <th>211</th>\n      <td>AX_Project_Master</td>\n      <td>\\r\\n\\r\\n\\r\\n\\r\\n\\r\\n\\r\\n\\r\\n\\r\\n\\r\\n\\r\\n\\r\\n\\r...</td>\n    </tr>\n    <tr>\n      <th>212</th>\n      <td>AX_Vendor_Trans</td>\n      <td>\\r\\n\\r\\n\\r\\n\\r\\n\\r\\n\\r\\n\\r\\n\\r\\nCREATE VIEW [d...</td>\n    </tr>\n    <tr>\n      <th>213</th>\n      <td>PRD_SC_VendorRequests</td>\n      <td>CREATE VIEW PRD_SC_VendorRequests AS\\r\\n\\r\\nSE...</td>\n    </tr>\n  </tbody>\n</table>\n<p>214 rows × 2 columns</p>\n</div>"
     },
     "execution_count": 10,
     "metadata": {},
     "output_type": "execute_result"
    }
   ],
   "source": [
    "view_def"
   ],
   "metadata": {
    "collapsed": false,
    "pycharm": {
     "name": "#%%\n"
    }
   }
  },
  {
   "cell_type": "code",
   "execution_count": 42,
   "outputs": [
    {
     "data": {
      "text/plain": "\"\\r\\n\\r\\n\\r\\n\\r\\n\\r\\nCREATE VIEW [dbo].[AX_FixedAsset_TransDetails] AS \\r\\nSELECT\\r\\n\\ttrans.TRANSDATE as AssetTransDate\\r\\n\\t,trans.ASSETID as AssetID\\r\\n\\t,trans.BOOKID as BookID\\r\\n\\t,trans.TXT AS Description\\r\\n\\t,trans.AMOUNTMST as AccountingCurrency\\r\\n\\t,trans.CURRENCYCODE as CurrencyCode\\r\\n\\t,trans.AMOUNTCUR as TransactionCurrency\\r\\n\\t,trans.VOUCHER as Voucher\\r\\n\\t,Trans.ASSETGROUP AS FixedAssetGroup\\r\\n\\t,CASE WHEN trans.TRANSTYPE = 0 THEN 'None' \\r\\n\\tWHEN trans.TRANSTYPE = 1 THEN 'Acquisition'\\r\\n\\tWHEN trans.TRANSTYPE = 2 THEN 'Acquisition Adjustment'\\r\\n\\tWHEN trans.TRANSTYPE = 3 THEN 'Depreciation'\\r\\n\\tWHEN trans.TRANSTYPE = 4 THEN 'Depreciation Adjustment'\\r\\n\\tWHEN trans.TRANSTYPE = 5 THEN 'Revaluation'\\r\\n\\tWHEN trans.TRANSTYPE = 6 THEN 'WriteupAdjustment'\\r\\n\\tWHEN trans.TRANSTYPE = 7 THEN 'WritedownAdjustment'\\r\\n\\tWHEN trans.TRANSTYPE = 8 THEN 'Disposal-Sale'\\r\\n\\tWHEN trans.TRANSTYPE = 9 THEN 'Disposal-Scrap'\\r\\n    ELSE CAST(trans.TRANSTYPE as varchar(2)) END as TransType\\r\\n\\t,asset.name AS AssetName\\r\\n\\t,trans.DATAAREAID as Company\\r\\n\\t,tdim.Division as TransDivision\\r\\n\\t,tdim.LegalEntity as TransLegalEntity\\r\\n\\t,tdim.BusinessUnit as TransBusinessUnit\\r\\n\\t,tdim.Location as TransLocation\\r\\n\\t,tdim.WellType as TransWellType\\r\\n\\t,tdim.COM as TransCom\\r\\n\\t,asset.MAINTENANCEINFO1 as UnitID\\r\\n\\t,trans.DEFAULTDIMENSION AS Dimension\\r\\n\\t,trans.TRANSTYPE as TransTypeRaw\\r\\n\\t,CASE WHEN trans.TRANSTYPE IN (3,4,16,17,18,19,28,29,30,31,32,33,34) THEN 'AccumDep'\\r\\n\\t      WHEN trans.TRANSTYPE IN (1,2,12,13,14,15) THEN 'OrigCost'\\r\\n\\t      ELSE 'Other' END as TransTypeSum\\r\\n\\r\\nFROM \\r\\n\\tAX_SECURE_PRD_REPLICA.dbo.ASSETTRANS trans\\r\\n\\tINNER JOIN AX_SECURE_PRD_REPLICA.dbo.ASSETTABLE asset  --inner join excludes RE30008 from SOSU transaction as of 3/14/3016\\r\\n\\t\\tON trans.ASSETID = asset.ASSETID \\r\\n\\t\\t AND trans.DATAAREAID = asset.DATAAREAID\\r\\n\\tLEFT OUTER JOIN dbo.AX_Default_Dimensions tdim\\r\\n\\t\\tON tdim.DEFAULTDIMENSION = trans.DEFAULTDIMENSION\\r\\n\\r\\n\\t\\r\\n\\r\\n\\r\\n\\r\\n\""
     },
     "execution_count": 42,
     "metadata": {},
     "output_type": "execute_result"
    }
   ],
   "source": [
    "# Get 1 definition to play with\n",
    "defn = view_def['definition'][0]\n",
    "defn"
   ],
   "metadata": {
    "collapsed": false,
    "pycharm": {
     "name": "#%%\n"
    }
   }
  },
  {
   "cell_type": "markdown",
   "source": [
    "### Strip off VIEW DDL with a regular expression"
   ],
   "metadata": {
    "collapsed": false,
    "pycharm": {
     "name": "#%% md\n"
    }
   }
  },
  {
   "cell_type": "code",
   "execution_count": 54,
   "outputs": [
    {
     "data": {
      "text/plain": "\"\\r\\n\\r\\n\\r\\n\\r\\n\\r\\n\\r\\nSELECT\\r\\n\\ttrans.TRANSDATE as AssetTransDate\\r\\n\\t,trans.ASSETID as AssetID\\r\\n\\t,trans.BOOKID as BookID\\r\\n\\t,trans.TXT AS Description\\r\\n\\t,trans.AMOUNTMST as AccountingCurrency\\r\\n\\t,trans.CURRENCYCODE as CurrencyCode\\r\\n\\t,trans.AMOUNTCUR as TransactionCurrency\\r\\n\\t,trans.VOUCHER as Voucher\\r\\n\\t,Trans.ASSETGROUP AS FixedAssetGroup\\r\\n\\t,CASE WHEN trans.TRANSTYPE = 0 THEN 'None' \\r\\n\\tWHEN trans.TRANSTYPE = 1 THEN 'Acquisition'\\r\\n\\tWHEN trans.TRANSTYPE = 2 THEN 'Acquisition Adjustment'\\r\\n\\tWHEN trans.TRANSTYPE = 3 THEN 'Depreciation'\\r\\n\\tWHEN trans.TRANSTYPE = 4 THEN 'Depreciation Adjustment'\\r\\n\\tWHEN trans.TRANSTYPE = 5 THEN 'Revaluation'\\r\\n\\tWHEN trans.TRANSTYPE = 6 THEN 'WriteupAdjustment'\\r\\n\\tWHEN trans.TRANSTYPE = 7 THEN 'WritedownAdjustment'\\r\\n\\tWHEN trans.TRANSTYPE = 8 THEN 'Disposal-Sale'\\r\\n\\tWHEN trans.TRANSTYPE = 9 THEN 'Disposal-Scrap'\\r\\n    ELSE CAST(trans.TRANSTYPE as varchar(2)) END as TransType\\r\\n\\t,asset.name AS AssetName\\r\\n\\t,trans.DATAAREAID as Company\\r\\n\\t,tdim.Division as TransDivision\\r\\n\\t,tdim.LegalEntity as TransLegalEntity\\r\\n\\t,tdim.BusinessUnit as TransBusinessUnit\\r\\n\\t,tdim.Location as TransLocation\\r\\n\\t,tdim.WellType as TransWellType\\r\\n\\t,tdim.COM as TransCom\\r\\n\\t,asset.MAINTENANCEINFO1 as UnitID\\r\\n\\t,trans.DEFAULTDIMENSION AS Dimension\\r\\n\\t,trans.TRANSTYPE as TransTypeRaw\\r\\n\\t,CASE WHEN trans.TRANSTYPE IN (3,4,16,17,18,19,28,29,30,31,32,33,34) THEN 'AccumDep'\\r\\n\\t      WHEN trans.TRANSTYPE IN (1,2,12,13,14,15) THEN 'OrigCost'\\r\\n\\t      ELSE 'Other' END as TransTypeSum\\r\\n\\r\\nFROM \\r\\n\\tAX_SECURE_PRD_REPLICA.dbo.ASSETTRANS trans\\r\\n\\tINNER JOIN AX_SECURE_PRD_REPLICA.dbo.ASSETTABLE asset  --inner join excludes RE30008 from SOSU transaction as of 3/14/3016\\r\\n\\t\\tON trans.ASSETID = asset.ASSETID \\r\\n\\t\\t AND trans.DATAAREAID = asset.DATAAREAID\\r\\n\\tLEFT OUTER JOIN dbo.AX_Default_Dimensions tdim\\r\\n\\t\\tON tdim.DEFAULTDIMENSION = trans.DEFAULTDIMENSION\\r\\n\\r\\n\\t\\r\\n\\r\\n\\r\\n\\r\\n\""
     },
     "execution_count": 54,
     "metadata": {},
     "output_type": "execute_result"
    }
   ],
   "source": [
    "#  defn.replace(\"CREATE VIEW _anything_ AS \",\"\")\n",
    "new_defn = re.sub(\"CREATE VIEW (.*) AS \", \"\", defn)\n",
    "new_defn"
   ],
   "metadata": {
    "collapsed": false,
    "pycharm": {
     "name": "#%%\n"
    }
   }
  },
  {
   "cell_type": "markdown",
   "source": [
    "### Cleanup SQL formatting for display to user"
   ],
   "metadata": {
    "collapsed": false,
    "pycharm": {
     "name": "#%% md\n"
    }
   }
  },
  {
   "cell_type": "code",
   "execution_count": 57,
   "outputs": [
    {
     "name": "stdout",
     "output_type": "stream",
     "text": [
      "\n",
      "SELECT trans.TRANSDATE AS AssetTransDate ,\n",
      "       trans.ASSETID AS AssetID ,\n",
      "       trans.BOOKID AS BookID ,\n",
      "       trans.TXT AS Description ,\n",
      "       trans.AMOUNTMST AS AccountingCurrency ,\n",
      "       trans.CURRENCYCODE AS CurrencyCode ,\n",
      "       trans.AMOUNTCUR AS TransactionCurrency ,\n",
      "       trans.VOUCHER AS Voucher ,\n",
      "       Trans.ASSETGROUP AS FixedAssetGroup ,\n",
      "       CASE\n",
      "           WHEN trans.TRANSTYPE = 0 THEN 'None'\n",
      "           WHEN trans.TRANSTYPE = 1 THEN 'Acquisition'\n",
      "           WHEN trans.TRANSTYPE = 2 THEN 'Acquisition Adjustment'\n",
      "           WHEN trans.TRANSTYPE = 3 THEN 'Depreciation'\n",
      "           WHEN trans.TRANSTYPE = 4 THEN 'Depreciation Adjustment'\n",
      "           WHEN trans.TRANSTYPE = 5 THEN 'Revaluation'\n",
      "           WHEN trans.TRANSTYPE = 6 THEN 'WriteupAdjustment'\n",
      "           WHEN trans.TRANSTYPE = 7 THEN 'WritedownAdjustment'\n",
      "           WHEN trans.TRANSTYPE = 8 THEN 'Disposal-Sale'\n",
      "           WHEN trans.TRANSTYPE = 9 THEN 'Disposal-Scrap'\n",
      "           ELSE CAST(trans.TRANSTYPE AS varchar(2))\n",
      "       END AS TransType ,\n",
      "       asset.name AS AssetName ,\n",
      "       trans.DATAAREAID AS Company ,\n",
      "       tdim.Division AS TransDivision ,\n",
      "       tdim.LegalEntity AS TransLegalEntity ,\n",
      "       tdim.BusinessUnit AS TransBusinessUnit ,\n",
      "       tdim.Location AS TransLocation ,\n",
      "       tdim.WellType AS TransWellType ,\n",
      "       tdim.COM AS TransCom ,\n",
      "       asset.MAINTENANCEINFO1 AS UnitID ,\n",
      "       trans.DEFAULTDIMENSION AS Dimension ,\n",
      "       trans.TRANSTYPE AS TransTypeRaw ,\n",
      "       CASE\n",
      "           WHEN trans.TRANSTYPE IN (3,\n",
      "                                    4,\n",
      "                                    16,\n",
      "                                    17,\n",
      "                                    18,\n",
      "                                    19,\n",
      "                                    28,\n",
      "                                    29,\n",
      "                                    30,\n",
      "                                    31,\n",
      "                                    32,\n",
      "                                    33,\n",
      "                                    34) THEN 'AccumDep'\n",
      "           WHEN trans.TRANSTYPE IN (1,\n",
      "                                    2,\n",
      "                                    12,\n",
      "                                    13,\n",
      "                                    14,\n",
      "                                    15) THEN 'OrigCost'\n",
      "           ELSE 'Other'\n",
      "       END AS TransTypeSum\n",
      "FROM AX_SECURE_PRD_REPLICA.dbo.ASSETTRANS trans\n",
      "INNER JOIN AX_SECURE_PRD_REPLICA.dbo.ASSETTABLE asset --inner join excludes RE30008 from SOSU transaction as of 3/14/3016\n",
      " ON trans.ASSETID = asset.ASSETID\n",
      "AND trans.DATAAREAID = asset.DATAAREAID\n",
      "LEFT OUTER JOIN dbo.AX_Default_Dimensions tdim ON tdim.DEFAULTDIMENSION = trans.DEFAULTDIMENSION\n"
     ]
    }
   ],
   "source": [
    "#stmts =  sqlparse.split(new_defn)\n",
    "reformatted = sqlparse.format(new_defn, reindent=True, keyword_case='upper')\n",
    "print(reformatted)"
   ],
   "metadata": {
    "collapsed": false,
    "pycharm": {
     "name": "#%%\n"
    }
   }
  },
  {
   "cell_type": "markdown",
   "source": [
    "### Show original table to table alias"
   ],
   "metadata": {
    "collapsed": false,
    "pycharm": {
     "name": "#%% md\n"
    }
   }
  },
  {
   "cell_type": "code",
   "execution_count": 66,
   "outputs": [
    {
     "name": "stdout",
     "output_type": "stream",
     "text": [
      "3 3\n",
      "AX_SECURE_PRD_REPLICA.dbo.ASSETTRANS ---> trans\n",
      "AX_SECURE_PRD_REPLICA.dbo.ASSETTABLE ---> asset\n",
      "dbo.AX_Default_Dimensions ---> tdim\n"
     ]
    }
   ],
   "source": [
    "t_list=[]\n",
    "for table in sqlglot.parse_one(reformatted).find_all(sqlglot.exp.Table):\n",
    "    t_list.append(table)\n",
    "ta_list=[]\n",
    "\n",
    "for tablealias in sqlglot.parse_one(reformatted).find_all(sqlglot.exp.TableAlias):\n",
    "    ta_list.append(tablealias)\n",
    "\n",
    "print(len(t_list), len(ta_list))\n",
    "\n",
    "for t,ta in zip(t_list, ta_list):\n",
    "    print(f\"{t} ---> {ta}\")"
   ],
   "metadata": {
    "collapsed": false,
    "pycharm": {
     "name": "#%%\n"
    }
   }
  },
  {
   "cell_type": "markdown",
   "source": [
    "### Show original column to column alias\n",
    "\n",
    "### *THIS DOES NOT WORK -- CASE STATEMENT IS MISSING SO EVERTHING BELOW IT IS MISALIGNED*"
   ],
   "metadata": {
    "collapsed": false,
    "pycharm": {
     "name": "#%% md\n"
    }
   }
  },
  {
   "cell_type": "code",
   "execution_count": 67,
   "outputs": [
    {
     "name": "stdout",
     "output_type": "stream",
     "text": [
      "COLUMNS: 39   ALIASES: 22\n",
      "['TRANSDATE', 'ASSETID', 'BOOKID', 'TXT', 'AMOUNTMST', 'CURRENCYCODE', 'AMOUNTCUR', 'VOUCHER', 'ASSETGROUP', 'name', 'DATAAREAID', 'Division', 'LegalEntity', 'BusinessUnit', 'Location', 'WellType', 'COM', 'MAINTENANCEINFO1', 'DEFAULTDIMENSION', 'TRANSTYPE', 'DEFAULTDIMENSION', 'DEFAULTDIMENSION', 'TRANSTYPE', 'ASSETID', 'ASSETID', 'DATAAREAID', 'DATAAREAID', 'TRANSTYPE', 'TRANSTYPE', 'TRANSTYPE', 'TRANSTYPE', 'TRANSTYPE', 'TRANSTYPE', 'TRANSTYPE', 'TRANSTYPE', 'TRANSTYPE', 'TRANSTYPE', 'TRANSTYPE', 'TRANSTYPE'] \n",
      "\n",
      "['AssetTransDate', 'AssetID', 'BookID', 'Description', 'AccountingCurrency', 'CurrencyCode', 'TransactionCurrency', 'Voucher', 'FixedAssetGroup', 'TransType', 'AssetName', 'Company', 'TransDivision', 'TransLegalEntity', 'TransBusinessUnit', 'TransLocation', 'TransWellType', 'TransCom', 'UnitID', 'Dimension', 'TransTypeRaw', 'TransTypeSum'] \n",
      "\n",
      "\n",
      "WRONG DATA BELOW\n",
      "TRANSDATE ---> AssetTransDate\n",
      "ASSETID ---> AssetID\n",
      "BOOKID ---> BookID\n",
      "TXT ---> Description\n",
      "AMOUNTMST ---> AccountingCurrency\n",
      "CURRENCYCODE ---> CurrencyCode\n",
      "AMOUNTCUR ---> TransactionCurrency\n",
      "VOUCHER ---> Voucher\n",
      "ASSETGROUP ---> FixedAssetGroup\n",
      "name ---> TransType\n",
      "DATAAREAID ---> AssetName\n",
      "Division ---> Company\n",
      "LegalEntity ---> TransDivision\n",
      "BusinessUnit ---> TransLegalEntity\n",
      "Location ---> TransBusinessUnit\n",
      "WellType ---> TransLocation\n",
      "COM ---> TransWellType\n",
      "MAINTENANCEINFO1 ---> TransCom\n",
      "DEFAULTDIMENSION ---> UnitID\n",
      "TRANSTYPE ---> Dimension\n",
      "DEFAULTDIMENSION ---> TransTypeRaw\n",
      "DEFAULTDIMENSION ---> TransTypeSum\n"
     ]
    }
   ],
   "source": [
    "# DOES NOT WORK  --- LISTS HAVE DIFFERENT LEN ---\n",
    "a_list = []\n",
    "for column in sqlglot.parse_one(reformatted).find_all(sqlglot.exp.Column):\n",
    "  a_list.append(column.alias_or_name)\n",
    "b_list = []\n",
    "for select in sqlglot.parse_one(reformatted).find_all(sqlglot.exp.Select):\n",
    "  for projection in select.args[\"expressions\"]:\n",
    "    b_list.append(projection.alias_or_name)\n",
    "print(f\"COLUMNS: {len(a_list)}   ALIASES: {len(b_list)}\")\n",
    "print(a_list, \"\\n\")\n",
    "print(b_list, \"\\n\")\n",
    "print(\"\\nWRONG DATA BELOW\")\n",
    "for a,b in zip(a_list, b_list):\n",
    "    print(f\"{a} ---> {b}\")"
   ],
   "metadata": {
    "collapsed": false,
    "pycharm": {
     "name": "#%%\n"
    }
   }
  },
  {
   "cell_type": "code",
   "execution_count": 59,
   "outputs": [],
   "source": [],
   "metadata": {
    "collapsed": false,
    "pycharm": {
     "name": "#%%\n"
    }
   }
  },
  {
   "cell_type": "code",
   "execution_count": null,
   "outputs": [],
   "source": [],
   "metadata": {
    "collapsed": false,
    "pycharm": {
     "name": "#%%\n"
    }
   }
  },
  {
   "cell_type": "code",
   "execution_count": null,
   "outputs": [],
   "source": [],
   "metadata": {
    "collapsed": false,
    "pycharm": {
     "name": "#%%\n"
    }
   }
  },
  {
   "cell_type": "code",
   "execution_count": null,
   "outputs": [],
   "source": [],
   "metadata": {
    "collapsed": false,
    "pycharm": {
     "name": "#%%\n"
    }
   }
  },
  {
   "cell_type": "code",
   "execution_count": null,
   "outputs": [],
   "source": [],
   "metadata": {
    "collapsed": false,
    "pycharm": {
     "name": "#%%\n"
    }
   }
  },
  {
   "cell_type": "code",
   "execution_count": null,
   "outputs": [],
   "source": [],
   "metadata": {
    "collapsed": false,
    "pycharm": {
     "name": "#%%\n"
    }
   }
  },
  {
   "cell_type": "code",
   "execution_count": null,
   "outputs": [],
   "source": [],
   "metadata": {
    "collapsed": false,
    "pycharm": {
     "name": "#%%\n"
    }
   }
  },
  {
   "cell_type": "code",
   "execution_count": null,
   "outputs": [],
   "source": [],
   "metadata": {
    "collapsed": false,
    "pycharm": {
     "name": "#%%\n"
    }
   }
  },
  {
   "cell_type": "code",
   "execution_count": null,
   "outputs": [],
   "source": [],
   "metadata": {
    "collapsed": false,
    "pycharm": {
     "name": "#%%\n"
    }
   }
  },
  {
   "cell_type": "code",
   "execution_count": null,
   "outputs": [],
   "source": [],
   "metadata": {
    "collapsed": false,
    "pycharm": {
     "name": "#%%\n"
    }
   }
  },
  {
   "cell_type": "code",
   "execution_count": null,
   "outputs": [],
   "source": [],
   "metadata": {
    "collapsed": false,
    "pycharm": {
     "name": "#%%\n"
    }
   }
  },
  {
   "cell_type": "code",
   "execution_count": null,
   "outputs": [],
   "source": [],
   "metadata": {
    "collapsed": false,
    "pycharm": {
     "name": "#%%\n"
    }
   }
  },
  {
   "cell_type": "code",
   "execution_count": null,
   "outputs": [],
   "source": [],
   "metadata": {
    "collapsed": false,
    "pycharm": {
     "name": "#%%\n"
    }
   }
  },
  {
   "cell_type": "code",
   "execution_count": null,
   "outputs": [],
   "source": [],
   "metadata": {
    "collapsed": false,
    "pycharm": {
     "name": "#%%\n"
    }
   }
  },
  {
   "cell_type": "code",
   "execution_count": null,
   "outputs": [],
   "source": [],
   "metadata": {
    "collapsed": false,
    "pycharm": {
     "name": "#%%\n"
    }
   }
  },
  {
   "cell_type": "markdown",
   "source": [
    "# GENERATE .md files for use in obsidian or wiki"
   ],
   "metadata": {
    "collapsed": false,
    "pycharm": {
     "name": "#%% md\n"
    }
   }
  },
  {
   "cell_type": "code",
   "execution_count": 63,
   "outputs": [
    {
     "ename": "NameError",
     "evalue": "name 'deps' is not defined",
     "output_type": "error",
     "traceback": [
      "\u001B[1;31m---------------------------------------------------------------------------\u001B[0m",
      "\u001B[1;31mNameError\u001B[0m                                 Traceback (most recent call last)",
      "Input \u001B[1;32mIn [63]\u001B[0m, in \u001B[0;36m<cell line: 5>\u001B[1;34m()\u001B[0m\n\u001B[0;32m     48\u001B[0m file\u001B[38;5;241m.\u001B[39mwrite(\u001B[38;5;124m\"\u001B[39m\u001B[38;5;124m##### DEPENDENCIES :\u001B[39m\u001B[38;5;130;01m\\n\u001B[39;00m\u001B[38;5;130;01m\\n\u001B[39;00m\u001B[38;5;124m\"\u001B[39m)\n\u001B[0;32m     49\u001B[0m file\u001B[38;5;241m.\u001B[39mwrite(\u001B[38;5;124m\"\u001B[39m\u001B[38;5;124mParents:\u001B[39m\u001B[38;5;130;01m\\n\u001B[39;00m\u001B[38;5;124m\"\u001B[39m)\n\u001B[1;32m---> 50\u001B[0m parents \u001B[38;5;241m=\u001B[39m \u001B[43mget_parents\u001B[49m\u001B[43m(\u001B[49m\u001B[43mdeps_df\u001B[49m\u001B[43m,\u001B[49m\u001B[43m \u001B[49m\u001B[43mdb\u001B[49m\u001B[43m,\u001B[49m\u001B[43m \u001B[49m\u001B[43mdb_schema\u001B[49m\u001B[43m,\u001B[49m\u001B[43m \u001B[49m\u001B[38;5;28;43mobject\u001B[39;49m\u001B[43m)\u001B[49m\n\u001B[0;32m     51\u001B[0m \u001B[38;5;28;01mif\u001B[39;00m \u001B[38;5;28mlen\u001B[39m(parents) \u001B[38;5;241m>\u001B[39m\u001B[38;5;241m=\u001B[39m \u001B[38;5;241m1\u001B[39m:\n\u001B[0;32m     52\u001B[0m     file\u001B[38;5;241m.\u001B[39mwrite(markdown_table(parents))\n",
      "File \u001B[1;32m~\\devel\\python\\sql_dep\\queries.py:67\u001B[0m, in \u001B[0;36mget_parents\u001B[1;34m(deps_df, db, schema, object_name)\u001B[0m\n\u001B[0;32m     65\u001B[0m \u001B[38;5;28;01mdef\u001B[39;00m \u001B[38;5;21mget_parents\u001B[39m(deps_df,db, schema, object_name):\n\u001B[0;32m     66\u001B[0m     \u001B[38;5;66;03m# Filter the deps dataframe from fetch_all_db_dependencies to parents for the given object.\u001B[39;00m\n\u001B[1;32m---> 67\u001B[0m     parents \u001B[38;5;241m=\u001B[39m \u001B[43mdeps\u001B[49m\u001B[38;5;241m.\u001B[39mloc[(deps[\u001B[38;5;124m'\u001B[39m\u001B[38;5;124mDATABASE\u001B[39m\u001B[38;5;124m'\u001B[39m] \u001B[38;5;241m==\u001B[39m db) \u001B[38;5;241m&\u001B[39m\n\u001B[0;32m     68\u001B[0m                        (deps[\u001B[38;5;124m'\u001B[39m\u001B[38;5;124mreferencing_schema_name\u001B[39m\u001B[38;5;124m'\u001B[39m] \u001B[38;5;241m==\u001B[39m schema) \u001B[38;5;241m&\u001B[39m\n\u001B[0;32m     69\u001B[0m                        (deps[\u001B[38;5;124m'\u001B[39m\u001B[38;5;124mreferencing_object_name\u001B[39m\u001B[38;5;124m'\u001B[39m] \u001B[38;5;241m==\u001B[39m object_name)]\n\u001B[0;32m     70\u001B[0m     \u001B[38;5;66;03m# Trim result to these 4 columns\u001B[39;00m\n\u001B[0;32m     71\u001B[0m     parents \u001B[38;5;241m=\u001B[39m parents[[\u001B[38;5;124m'\u001B[39m\u001B[38;5;124mreferenced_server_name\u001B[39m\u001B[38;5;124m'\u001B[39m,\n\u001B[0;32m     72\u001B[0m                        \u001B[38;5;124m'\u001B[39m\u001B[38;5;124mreferenced_db_name\u001B[39m\u001B[38;5;124m'\u001B[39m,\n\u001B[0;32m     73\u001B[0m                        \u001B[38;5;124m'\u001B[39m\u001B[38;5;124mreferenced_schema_name\u001B[39m\u001B[38;5;124m'\u001B[39m,\n\u001B[0;32m     74\u001B[0m                        \u001B[38;5;124m'\u001B[39m\u001B[38;5;124mreferenced_entity_name\u001B[39m\u001B[38;5;124m'\u001B[39m]]\n",
      "\u001B[1;31mNameError\u001B[0m: name 'deps' is not defined"
     ]
    }
   ],
   "source": [
    "# Generate base directories + include directories\n",
    "DataCatalog_Path = Path(\"C:/obsidian/datacatalog/bidatacentre\")\n",
    "Include_Path = DataCatalog_Path / \"include\"\n",
    "\n",
    "for db in list(db_df['name']):\n",
    "    engine = connect_sqlserver_windowsauth('bidatacentre',db)\n",
    "    # Table Details\n",
    "    tab_det_df = fetch_table_details(engine)\n",
    "    tab_dates = fetch_table_dates_and_rowcount(engine)\n",
    "    # View Details\n",
    "\n",
    "    # Get all DB Dependencies\n",
    "    deps_df = fetch_all_db_dependencies(engine)\n",
    "\n",
    "    for db_schema in list(tab_det_df['schema_name'].unique()):\n",
    "        (Include_Path / db / db_schema).mkdir(parents=True, exist_ok=True)\n",
    "        (DataCatalog_Path / db / db_schema).mkdir(parents=True, exist_ok=True)\n",
    "        # drill down to individual schema / table and generate files.\n",
    "        for table in list((tab_det_df.loc[tab_det_df['schema_name'] == db_schema])['table_name'].unique()):\n",
    "            # Just the column details for this table\n",
    "            tab_df = tab_det_df.loc[ (tab_det_df['schema_name'] == db_schema) & (tab_det_df['table_name'] == table) ]\n",
    "            tab_df = tab_df[['column_name',\n",
    "                             'data_type_ext',\n",
    "                             'nullable',\n",
    "                             'default_value',\n",
    "                             'primary_key',\n",
    "                             'foreign_key',\n",
    "                             'unique_key',\n",
    "                             'comments']]\n",
    "            tab_df.rename(columns={'column_name': 'Column',\n",
    "                     'data_type_ext': 'DataType',\n",
    "                     'nullable': 'Nullable',\n",
    "                     'default_value': 'Default',\n",
    "                     'primary_key': 'IS_PK',\n",
    "                     'foreign_key': 'IS_FK',\n",
    "                     'unique_key': 'Unique',\n",
    "                     'comments': 'Comments'}, inplace=True)\n",
    "\n",
    "            tabfile = table + \".md\"\n",
    "            row = tab_dates.loc[(tab_dates['schema_name'] == db_schema) & (tab_dates['table_name'] == table)]\n",
    "            with open ((DataCatalog_Path / db / db_schema / tabfile ), mode='w') as file:\n",
    "                file.write(\"##### SUMMARY :\\n\\n\")\n",
    "                file.write(f\"DB: **{db}**  SCHEMA: **{db_schema}**  OBJECT: **{table}** \\n\")\n",
    "                file.write(f\"Created: **{row.iloc[0]['created']}**  Modified: **{row.iloc[0]['last_modified']}**\\n\")\n",
    "                file.write(f\"Rows: **{row.iloc[0]['num_rows']}**\\nComments: **{row.iloc[0]['comments']}**\\n\")\n",
    "                file.write(\"\\n\\n\")\n",
    "\n",
    "                file.write(\"##### DEPENDENCIES :\\n\\n\")\n",
    "                file.write(\"Parents:\\n\")\n",
    "                parents = get_parents(deps_df, db, db_schema, object)\n",
    "                if len(parents) >= 1:\n",
    "                    file.write(markdown_table(parents))\n",
    "                else:\n",
    "                    file.write(\"**None**\")\n",
    "                file.write(\"\\n\\n\")\n",
    "\n",
    "                file.write(\"Children:\\n\")\n",
    "                children = get_children(deps_df, db, db_schema, object)\n",
    "                if len(children) >= 1:\n",
    "                    print(children)\n",
    "                    file.write(markdown_table(children))\n",
    "                else:\n",
    "                    file.write(\"**None**\")\n",
    "                file.write(\"\\n\\n\")\n",
    "\n",
    "                file.write(\"##### COLUMN DEFINITIONS:\\n\\n\")\n",
    "                file.write(markdown_table(tab_df))\n",
    "                file.write(\"\\n\\n\")\n",
    "                file.write(\"##### EXPLORATORY DATA ANALYSIS:\\n\\n\")\n",
    "                # Use actual data for tables with less than 1000 rows\n",
    "                if row.iloc[0]['num_rows'] <= 1000:\n",
    "                    rows = fetch_all_rows(engine, db_schema, table)\n",
    "                    # Using pandas_profiling report for simple EDA\n",
    "                    profile = ProfileReport(rows, title=table)\n",
    "                    tabfile = f\"{table}_profile.html\"\n",
    "                    filename = (Include_Path / db / db_schema / tabfile )\n",
    "                    profile.to_file(filename)\n",
    "                    file.write(f'<iframe src=\"{filename}\" height=300 width=1000>\\n\\n')\n",
    "                    file.write(f\"Open in browser: ![[{tabfile}]]\\n\")\n",
    "                    file.write(\"\\n\\n\")\n",
    "                else:\n",
    "                    # Methods to sample a random percentage of a table in MS SQL Server\n",
    "                    # https://docs.microsoft.com/en-us/previous-versions/sql/sql-server-2008-r2/ms189108(v=sql.105)?redirectedfrom=MSDN\n",
    "                    #rows = fetch_sample_rows(engine, db_schema, table, sample_pct=10)\n",
    "\n",
    "                    file.write(\"\\n\\n\")\n",
    "\n",
    "                file.write(\"##### USER NOTES:\\n\\n\")\n",
    "                file.write(f\"![[include/{db}/{db_schema}/{table}_user_notes.md]]\\n\\n\")\n",
    "\n"
   ],
   "metadata": {
    "collapsed": false,
    "pycharm": {
     "name": "#%%\n"
    }
   }
  },
  {
   "cell_type": "code",
   "execution_count": 21,
   "outputs": [],
   "source": [],
   "metadata": {
    "collapsed": false,
    "pycharm": {
     "name": "#%%\n"
    }
   }
  },
  {
   "cell_type": "code",
   "execution_count": 80,
   "outputs": [],
   "source": [],
   "metadata": {
    "collapsed": false,
    "pycharm": {
     "name": "#%%\n"
    }
   }
  },
  {
   "cell_type": "code",
   "execution_count": 80,
   "outputs": [],
   "source": [],
   "metadata": {
    "collapsed": false,
    "pycharm": {
     "name": "#%%\n"
    }
   }
  },
  {
   "cell_type": "code",
   "execution_count": 80,
   "outputs": [],
   "source": [],
   "metadata": {
    "collapsed": false,
    "pycharm": {
     "name": "#%%\n"
    }
   }
  },
  {
   "cell_type": "code",
   "execution_count": 80,
   "outputs": [],
   "source": [],
   "metadata": {
    "collapsed": false,
    "pycharm": {
     "name": "#%%\n"
    }
   }
  },
  {
   "cell_type": "code",
   "execution_count": 80,
   "outputs": [],
   "source": [],
   "metadata": {
    "collapsed": false,
    "pycharm": {
     "name": "#%%\n"
    }
   }
  },
  {
   "cell_type": "code",
   "execution_count": null,
   "outputs": [],
   "source": [],
   "metadata": {
    "collapsed": false,
    "pycharm": {
     "name": "#%%\n"
    }
   }
  },
  {
   "cell_type": "code",
   "execution_count": null,
   "outputs": [],
   "source": [],
   "metadata": {
    "collapsed": false,
    "pycharm": {
     "name": "#%%\n"
    }
   }
  },
  {
   "cell_type": "code",
   "execution_count": 14,
   "outputs": [],
   "source": [],
   "metadata": {
    "collapsed": false,
    "pycharm": {
     "name": "#%%\n"
    }
   }
  },
  {
   "cell_type": "code",
   "execution_count": 15,
   "outputs": [],
   "source": [],
   "metadata": {
    "collapsed": false,
    "pycharm": {
     "name": "#%%\n"
    }
   }
  },
  {
   "cell_type": "code",
   "execution_count": 15,
   "outputs": [],
   "source": [],
   "metadata": {
    "collapsed": false,
    "pycharm": {
     "name": "#%%\n"
    }
   }
  },
  {
   "cell_type": "code",
   "execution_count": 15,
   "outputs": [],
   "source": [],
   "metadata": {
    "collapsed": false,
    "pycharm": {
     "name": "#%%\n"
    }
   }
  },
  {
   "cell_type": "code",
   "execution_count": 15,
   "outputs": [],
   "source": [],
   "metadata": {
    "collapsed": false,
    "pycharm": {
     "name": "#%%\n"
    }
   }
  },
  {
   "cell_type": "code",
   "execution_count": 8,
   "outputs": [],
   "source": [],
   "metadata": {
    "collapsed": false,
    "pycharm": {
     "name": "#%%\n"
    }
   }
  },
  {
   "cell_type": "code",
   "execution_count": null,
   "outputs": [],
   "source": [],
   "metadata": {
    "collapsed": false,
    "pycharm": {
     "name": "#%%\n"
    }
   }
  },
  {
   "cell_type": "code",
   "execution_count": null,
   "outputs": [],
   "source": [],
   "metadata": {
    "collapsed": false,
    "pycharm": {
     "name": "#%%\n"
    }
   }
  },
  {
   "cell_type": "code",
   "execution_count": null,
   "outputs": [],
   "source": [],
   "metadata": {
    "collapsed": false,
    "pycharm": {
     "name": "#%%\n"
    }
   }
  },
  {
   "cell_type": "code",
   "execution_count": null,
   "outputs": [],
   "source": [],
   "metadata": {
    "collapsed": false,
    "pycharm": {
     "name": "#%%\n"
    }
   }
  },
  {
   "cell_type": "code",
   "execution_count": null,
   "outputs": [],
   "source": [],
   "metadata": {
    "collapsed": false,
    "pycharm": {
     "name": "#%%\n"
    }
   }
  },
  {
   "cell_type": "code",
   "execution_count": null,
   "outputs": [],
   "source": [],
   "metadata": {
    "collapsed": false,
    "pycharm": {
     "name": "#%%\n"
    }
   }
  },
  {
   "cell_type": "code",
   "execution_count": null,
   "outputs": [],
   "source": [],
   "metadata": {
    "collapsed": false,
    "pycharm": {
     "name": "#%%\n"
    }
   }
  },
  {
   "cell_type": "code",
   "execution_count": null,
   "outputs": [],
   "source": [],
   "metadata": {
    "collapsed": false,
    "pycharm": {
     "name": "#%%\n"
    }
   }
  },
  {
   "cell_type": "code",
   "execution_count": null,
   "outputs": [],
   "source": [],
   "metadata": {
    "collapsed": false,
    "pycharm": {
     "name": "#%%\n"
    }
   }
  },
  {
   "cell_type": "code",
   "execution_count": null,
   "outputs": [],
   "source": [],
   "metadata": {
    "collapsed": false,
    "pycharm": {
     "name": "#%%\n"
    }
   }
  },
  {
   "cell_type": "code",
   "execution_count": null,
   "outputs": [],
   "source": [],
   "metadata": {
    "collapsed": false,
    "pycharm": {
     "name": "#%%\n"
    }
   }
  },
  {
   "cell_type": "code",
   "execution_count": null,
   "outputs": [],
   "source": [],
   "metadata": {
    "collapsed": false,
    "pycharm": {
     "name": "#%%\n"
    }
   }
  },
  {
   "cell_type": "code",
   "execution_count": null,
   "outputs": [],
   "source": [],
   "metadata": {
    "collapsed": false,
    "pycharm": {
     "name": "#%%\n"
    }
   }
  },
  {
   "cell_type": "code",
   "execution_count": null,
   "outputs": [],
   "source": [],
   "metadata": {
    "collapsed": false,
    "pycharm": {
     "name": "#%%\n"
    }
   }
  }
 ],
 "metadata": {
  "kernelspec": {
   "display_name": "Python 3",
   "language": "python",
   "name": "python3"
  },
  "language_info": {
   "codemirror_mode": {
    "name": "ipython",
    "version": 2
   },
   "file_extension": ".py",
   "mimetype": "text/x-python",
   "name": "python",
   "nbconvert_exporter": "python",
   "pygments_lexer": "ipython2",
   "version": "2.7.6"
  }
 },
 "nbformat": 4,
 "nbformat_minor": 0
}