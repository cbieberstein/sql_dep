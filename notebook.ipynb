{
 "cells": [
  {
   "cell_type": "code",
   "execution_count": null,
   "metadata": {
    "collapsed": true,
    "pycharm": {
     "name": "#%%\n"
    }
   },
   "outputs": [],
   "source": [
    "import os\n",
    "from pathlib import Path\n",
    "import pandas as pd\n",
    "import matplotlib.pyplot as plt\n",
    "#import networkx as nx\n",
    "#from networkx.algorithms.community.label_propagation import label_propagation_communities\n",
    "import networkx.drawing.nx_pylab"
   ]
  },
  {
   "cell_type": "code",
   "execution_count": null,
   "outputs": [],
   "source": [
    "#!pip install -U git+https://github.com/taynaud/python-louvain.git@networkx2\n",
    "#from community import community_louvain"
   ],
   "metadata": {
    "collapsed": false,
    "pycharm": {
     "name": "#%%\n"
    }
   }
  },
  {
   "cell_type": "code",
   "execution_count": 2,
   "outputs": [],
   "source": [
    "pd.set_option('display.max_rows', 50)\n",
    "pd.set_option('display.max_columns', None)"
   ],
   "metadata": {
    "collapsed": false,
    "pycharm": {
     "name": "#%%\n"
    }
   }
  },
  {
   "cell_type": "code",
   "execution_count": 8,
   "outputs": [],
   "source": [
    "# Build the table-column details files\n",
    "\n",
    "bi_tables_df = pd.read_parquet(\"data/BI.table-col-details.parquet\")\n",
    "BASE_DIR = \"C:\\\\obsidian\\\\datacatalog\\\\BI\\\\_Tables\"\n",
    "for row in bi_tables_df.itertuples():\n",
    "    Path(f\"{BASE_DIR}\\\\{row.schema_name}\").mkdir(parents=True, exist_ok=True)\n",
    "    if os.path.exists(f\"{BASE_DIR}\\\\{row.schema_name}\\\\{row.table_name}.md\"):\n",
    "        with open(f\"{BASE_DIR}\\\\{row.schema_name}\\\\{row.table_name}.md\", 'a') as f:\n",
    "            f.write(f\"|  {row.column_name} | {row.data_type_ext} | {row.nullable} | {row.default_value} | {row.primary_key} |\\n\")\n",
    "    else:\n",
    "        with open(f\"{BASE_DIR}\\\\{row.schema_name}\\\\{row.table_name}.md\", 'a') as f:\n",
    "            f.write(f\"**Table Name: {row.table_name}** \\n\\n\")\n",
    "            f.write(f\"| Column_Name | Data_Type | Nullable | Default | IS PK |\\n\")\n",
    "            f.write(f\"| --- | --- | --- | --- | --- |\\n\")\n",
    "            f.write(f\" | {row.column_name} | {row.data_type_ext} | {row.nullable} | {row.default_value} | {row.primary_key} |\\n\")\n",
    "\n"
   ],
   "metadata": {
    "collapsed": false,
    "pycharm": {
     "name": "#%%\n"
    }
   }
  },
  {
   "cell_type": "code",
   "execution_count": 37,
   "outputs": [],
   "source": [
    "# Build the view-column details files\n",
    "\n",
    "bi_views_df = pd.read_parquet(\"data/BI.view-col-details.parquet\")\n",
    "BASE_DIR = \"C:\\\\obsidian\\\\datacatalog\\\\BI\\\\Views\"\n",
    "for row in bi_views_df.itertuples():\n",
    "    Path(f\"{BASE_DIR}\\\\{row.schema_name}\").mkdir(parents=True, exist_ok=True)\n",
    "    if os.path.exists(f\"{BASE_DIR}\\\\{row.schema_name}\\\\{row.view_name}.md\"):\n",
    "        with open(f\"{BASE_DIR}\\\\{row.schema_name}\\\\{row.view_name}.md\", 'a') as f:\n",
    "            f.write(f\"|  {row.column_name} | {row.data_type_ext} | {row.nullable} | {row.comments} |\\n\")\n",
    "    else:\n",
    "        with open(f\"{BASE_DIR}\\\\{row.schema_name}\\\\{row.view_name}.md\", 'a') as f:\n",
    "            f.write(f\"**View Name: {row.view_name}** \\n\\n\")\n",
    "            f.write(f\"| Column_Name | Data_Type | Nullable | Comments |\\n\")\n",
    "            f.write(f\"| --- | --- | --- | --- |\\n\")\n",
    "            f.write(f\"| {row.column_name} | {row.data_type_ext} | {row.nullable} | {row.comments} |\\n\")\n",
    "\n"
   ],
   "metadata": {
    "collapsed": false,
    "pycharm": {
     "name": "#%%\n"
    }
   }
  },
  {
   "cell_type": "code",
   "execution_count": 33,
   "outputs": [
    {
     "data": {
      "text/plain": "                                                 name   object_id  \\\n0                             AX_Dimension_Structures     5575058   \n1                                iTrak_DPSSafety_List     6291082   \n2                               MSDGen_DangerousGoods    13243102   \n3              zPRDSC_SP_NewVendor_RequestsSharepoint    13959126   \n4                                    Husky_Fuel_Trans    14623095   \n..                                                ...         ...   \n311                                  PetroTranz_FormA  2131538677   \n312                                       BI_Calendar  2132202646   \n313                                  SCADA_TagValues2  2136394680   \n314                                MSDGen_ProductList  2144726693   \n315  GeoScout_SESERV_VIEWS_WELL_TREATMENT__someFields  2146874765   \n\n    principal_id  schema_id  parent_object_id type   type_desc  \\\n0           None          1                 0   U   USER_TABLE   \n1           None          1                 0   U   USER_TABLE   \n2           None          1                 0   U   USER_TABLE   \n3           None          1                 0   U   USER_TABLE   \n4           None          1                 0   U   USER_TABLE   \n..           ...        ...               ...  ...         ...   \n311         None          1                 0   U   USER_TABLE   \n312         None          1                 0   U   USER_TABLE   \n313         None          1                 0   U   USER_TABLE   \n314         None          1                 0   U   USER_TABLE   \n315         None          1                 0   U   USER_TABLE   \n\n                create_date             modify_date  is_ms_shipped  \\\n0   2015-06-09 08:41:56.743 2022-05-28 01:36:08.937          False   \n1   2018-02-23 09:53:16.613 2018-08-01 15:24:11.800          False   \n2   2017-08-15 15:40:50.580 2017-08-15 15:40:50.583          False   \n3   2019-01-17 13:30:04.477 2019-08-14 10:58:38.267          False   \n4   2016-06-16 12:03:40.063 2016-06-16 12:03:40.123          False   \n..                      ...                     ...            ...   \n311 2019-06-03 14:10:45.120 2019-06-04 12:22:43.743          False   \n312 2017-04-24 12:14:23.117 2017-04-24 12:25:43.647          False   \n313 2018-11-06 10:35:42.203 2018-11-06 10:35:42.203          False   \n314 2017-08-10 13:25:58.530 2017-08-30 11:40:29.453          False   \n315 2021-10-25 11:45:12.287 2021-10-25 11:45:12.287          False   \n\n     is_published  is_schema_published  lob_data_space_id  \\\n0           False                False                  0   \n1           False                False                  1   \n2           False                False                  0   \n3           False                False                  1   \n4           False                False                  0   \n..            ...                  ...                ...   \n311         False                False                  1   \n312         False                False                  0   \n313         False                False                  0   \n314         False                False                  0   \n315         False                False                  0   \n\n    filestream_data_space_id  max_column_id_used  lock_on_bulk_load  \\\n0                       None                   8              False   \n1                       None                  22              False   \n2                       None                  10              False   \n3                       None                  62              False   \n4                       None                  32              False   \n..                       ...                 ...                ...   \n311                     None                  67              False   \n312                     None                  13              False   \n313                     None                   6              False   \n314                     None                  50              False   \n315                     None                  51              False   \n\n     uses_ansi_nulls  is_replicated  has_replication_filter  \\\n0               True          False                   False   \n1               True          False                   False   \n2               True          False                   False   \n3               True          False                   False   \n4               True          False                   False   \n..               ...            ...                     ...   \n311             True          False                   False   \n312             True          False                   False   \n313             True          False                   False   \n314             True          False                   False   \n315             True          False                   False   \n\n     is_merge_published  is_sync_tran_subscribed  has_unchecked_assembly_data  \\\n0                 False                    False                        False   \n1                 False                    False                        False   \n2                 False                    False                        False   \n3                 False                    False                        False   \n4                 False                    False                        False   \n..                  ...                      ...                          ...   \n311               False                    False                        False   \n312               False                    False                        False   \n313               False                    False                        False   \n314               False                    False                        False   \n315               False                    False                        False   \n\n     text_in_row_limit  large_value_types_out_of_row  is_tracked_by_cdc  \\\n0                    0                         False              False   \n1                    0                         False              False   \n2                    0                         False              False   \n3                    0                         False              False   \n4                    0                         False              False   \n..                 ...                           ...                ...   \n311                  0                         False              False   \n312                  0                         False              False   \n313                  0                         False              False   \n314                  0                         False              False   \n315                  0                         False              False   \n\n     lock_escalation lock_escalation_desc  is_filetable  is_memory_optimized  \\\n0                  0                TABLE         False                False   \n1                  0                TABLE         False                False   \n2                  0                TABLE         False                False   \n3                  0                TABLE         False                False   \n4                  0                TABLE         False                False   \n..               ...                  ...           ...                  ...   \n311                0                TABLE         False                False   \n312                0                TABLE         False                False   \n313                0                TABLE         False                False   \n314                0                TABLE         False                False   \n315                0                TABLE         False                False   \n\n     durability  durability_desc  \n0             0  SCHEMA_AND_DATA  \n1             0  SCHEMA_AND_DATA  \n2             0  SCHEMA_AND_DATA  \n3             0  SCHEMA_AND_DATA  \n4             0  SCHEMA_AND_DATA  \n..          ...              ...  \n311           0  SCHEMA_AND_DATA  \n312           0  SCHEMA_AND_DATA  \n313           0  SCHEMA_AND_DATA  \n314           0  SCHEMA_AND_DATA  \n315           0  SCHEMA_AND_DATA  \n\n[316 rows x 31 columns]",
      "text/html": "<div>\n<style scoped>\n    .dataframe tbody tr th:only-of-type {\n        vertical-align: middle;\n    }\n\n    .dataframe tbody tr th {\n        vertical-align: top;\n    }\n\n    .dataframe thead th {\n        text-align: right;\n    }\n</style>\n<table border=\"1\" class=\"dataframe\">\n  <thead>\n    <tr style=\"text-align: right;\">\n      <th></th>\n      <th>name</th>\n      <th>object_id</th>\n      <th>principal_id</th>\n      <th>schema_id</th>\n      <th>parent_object_id</th>\n      <th>type</th>\n      <th>type_desc</th>\n      <th>create_date</th>\n      <th>modify_date</th>\n      <th>is_ms_shipped</th>\n      <th>is_published</th>\n      <th>is_schema_published</th>\n      <th>lob_data_space_id</th>\n      <th>filestream_data_space_id</th>\n      <th>max_column_id_used</th>\n      <th>lock_on_bulk_load</th>\n      <th>uses_ansi_nulls</th>\n      <th>is_replicated</th>\n      <th>has_replication_filter</th>\n      <th>is_merge_published</th>\n      <th>is_sync_tran_subscribed</th>\n      <th>has_unchecked_assembly_data</th>\n      <th>text_in_row_limit</th>\n      <th>large_value_types_out_of_row</th>\n      <th>is_tracked_by_cdc</th>\n      <th>lock_escalation</th>\n      <th>lock_escalation_desc</th>\n      <th>is_filetable</th>\n      <th>is_memory_optimized</th>\n      <th>durability</th>\n      <th>durability_desc</th>\n    </tr>\n  </thead>\n  <tbody>\n    <tr>\n      <th>0</th>\n      <td>AX_Dimension_Structures</td>\n      <td>5575058</td>\n      <td>None</td>\n      <td>1</td>\n      <td>0</td>\n      <td>U</td>\n      <td>USER_TABLE</td>\n      <td>2015-06-09 08:41:56.743</td>\n      <td>2022-05-28 01:36:08.937</td>\n      <td>False</td>\n      <td>False</td>\n      <td>False</td>\n      <td>0</td>\n      <td>None</td>\n      <td>8</td>\n      <td>False</td>\n      <td>True</td>\n      <td>False</td>\n      <td>False</td>\n      <td>False</td>\n      <td>False</td>\n      <td>False</td>\n      <td>0</td>\n      <td>False</td>\n      <td>False</td>\n      <td>0</td>\n      <td>TABLE</td>\n      <td>False</td>\n      <td>False</td>\n      <td>0</td>\n      <td>SCHEMA_AND_DATA</td>\n    </tr>\n    <tr>\n      <th>1</th>\n      <td>iTrak_DPSSafety_List</td>\n      <td>6291082</td>\n      <td>None</td>\n      <td>1</td>\n      <td>0</td>\n      <td>U</td>\n      <td>USER_TABLE</td>\n      <td>2018-02-23 09:53:16.613</td>\n      <td>2018-08-01 15:24:11.800</td>\n      <td>False</td>\n      <td>False</td>\n      <td>False</td>\n      <td>1</td>\n      <td>None</td>\n      <td>22</td>\n      <td>False</td>\n      <td>True</td>\n      <td>False</td>\n      <td>False</td>\n      <td>False</td>\n      <td>False</td>\n      <td>False</td>\n      <td>0</td>\n      <td>False</td>\n      <td>False</td>\n      <td>0</td>\n      <td>TABLE</td>\n      <td>False</td>\n      <td>False</td>\n      <td>0</td>\n      <td>SCHEMA_AND_DATA</td>\n    </tr>\n    <tr>\n      <th>2</th>\n      <td>MSDGen_DangerousGoods</td>\n      <td>13243102</td>\n      <td>None</td>\n      <td>1</td>\n      <td>0</td>\n      <td>U</td>\n      <td>USER_TABLE</td>\n      <td>2017-08-15 15:40:50.580</td>\n      <td>2017-08-15 15:40:50.583</td>\n      <td>False</td>\n      <td>False</td>\n      <td>False</td>\n      <td>0</td>\n      <td>None</td>\n      <td>10</td>\n      <td>False</td>\n      <td>True</td>\n      <td>False</td>\n      <td>False</td>\n      <td>False</td>\n      <td>False</td>\n      <td>False</td>\n      <td>0</td>\n      <td>False</td>\n      <td>False</td>\n      <td>0</td>\n      <td>TABLE</td>\n      <td>False</td>\n      <td>False</td>\n      <td>0</td>\n      <td>SCHEMA_AND_DATA</td>\n    </tr>\n    <tr>\n      <th>3</th>\n      <td>zPRDSC_SP_NewVendor_RequestsSharepoint</td>\n      <td>13959126</td>\n      <td>None</td>\n      <td>1</td>\n      <td>0</td>\n      <td>U</td>\n      <td>USER_TABLE</td>\n      <td>2019-01-17 13:30:04.477</td>\n      <td>2019-08-14 10:58:38.267</td>\n      <td>False</td>\n      <td>False</td>\n      <td>False</td>\n      <td>1</td>\n      <td>None</td>\n      <td>62</td>\n      <td>False</td>\n      <td>True</td>\n      <td>False</td>\n      <td>False</td>\n      <td>False</td>\n      <td>False</td>\n      <td>False</td>\n      <td>0</td>\n      <td>False</td>\n      <td>False</td>\n      <td>0</td>\n      <td>TABLE</td>\n      <td>False</td>\n      <td>False</td>\n      <td>0</td>\n      <td>SCHEMA_AND_DATA</td>\n    </tr>\n    <tr>\n      <th>4</th>\n      <td>Husky_Fuel_Trans</td>\n      <td>14623095</td>\n      <td>None</td>\n      <td>1</td>\n      <td>0</td>\n      <td>U</td>\n      <td>USER_TABLE</td>\n      <td>2016-06-16 12:03:40.063</td>\n      <td>2016-06-16 12:03:40.123</td>\n      <td>False</td>\n      <td>False</td>\n      <td>False</td>\n      <td>0</td>\n      <td>None</td>\n      <td>32</td>\n      <td>False</td>\n      <td>True</td>\n      <td>False</td>\n      <td>False</td>\n      <td>False</td>\n      <td>False</td>\n      <td>False</td>\n      <td>0</td>\n      <td>False</td>\n      <td>False</td>\n      <td>0</td>\n      <td>TABLE</td>\n      <td>False</td>\n      <td>False</td>\n      <td>0</td>\n      <td>SCHEMA_AND_DATA</td>\n    </tr>\n    <tr>\n      <th>...</th>\n      <td>...</td>\n      <td>...</td>\n      <td>...</td>\n      <td>...</td>\n      <td>...</td>\n      <td>...</td>\n      <td>...</td>\n      <td>...</td>\n      <td>...</td>\n      <td>...</td>\n      <td>...</td>\n      <td>...</td>\n      <td>...</td>\n      <td>...</td>\n      <td>...</td>\n      <td>...</td>\n      <td>...</td>\n      <td>...</td>\n      <td>...</td>\n      <td>...</td>\n      <td>...</td>\n      <td>...</td>\n      <td>...</td>\n      <td>...</td>\n      <td>...</td>\n      <td>...</td>\n      <td>...</td>\n      <td>...</td>\n      <td>...</td>\n      <td>...</td>\n      <td>...</td>\n    </tr>\n    <tr>\n      <th>311</th>\n      <td>PetroTranz_FormA</td>\n      <td>2131538677</td>\n      <td>None</td>\n      <td>1</td>\n      <td>0</td>\n      <td>U</td>\n      <td>USER_TABLE</td>\n      <td>2019-06-03 14:10:45.120</td>\n      <td>2019-06-04 12:22:43.743</td>\n      <td>False</td>\n      <td>False</td>\n      <td>False</td>\n      <td>1</td>\n      <td>None</td>\n      <td>67</td>\n      <td>False</td>\n      <td>True</td>\n      <td>False</td>\n      <td>False</td>\n      <td>False</td>\n      <td>False</td>\n      <td>False</td>\n      <td>0</td>\n      <td>False</td>\n      <td>False</td>\n      <td>0</td>\n      <td>TABLE</td>\n      <td>False</td>\n      <td>False</td>\n      <td>0</td>\n      <td>SCHEMA_AND_DATA</td>\n    </tr>\n    <tr>\n      <th>312</th>\n      <td>BI_Calendar</td>\n      <td>2132202646</td>\n      <td>None</td>\n      <td>1</td>\n      <td>0</td>\n      <td>U</td>\n      <td>USER_TABLE</td>\n      <td>2017-04-24 12:14:23.117</td>\n      <td>2017-04-24 12:25:43.647</td>\n      <td>False</td>\n      <td>False</td>\n      <td>False</td>\n      <td>0</td>\n      <td>None</td>\n      <td>13</td>\n      <td>False</td>\n      <td>True</td>\n      <td>False</td>\n      <td>False</td>\n      <td>False</td>\n      <td>False</td>\n      <td>False</td>\n      <td>0</td>\n      <td>False</td>\n      <td>False</td>\n      <td>0</td>\n      <td>TABLE</td>\n      <td>False</td>\n      <td>False</td>\n      <td>0</td>\n      <td>SCHEMA_AND_DATA</td>\n    </tr>\n    <tr>\n      <th>313</th>\n      <td>SCADA_TagValues2</td>\n      <td>2136394680</td>\n      <td>None</td>\n      <td>1</td>\n      <td>0</td>\n      <td>U</td>\n      <td>USER_TABLE</td>\n      <td>2018-11-06 10:35:42.203</td>\n      <td>2018-11-06 10:35:42.203</td>\n      <td>False</td>\n      <td>False</td>\n      <td>False</td>\n      <td>0</td>\n      <td>None</td>\n      <td>6</td>\n      <td>False</td>\n      <td>True</td>\n      <td>False</td>\n      <td>False</td>\n      <td>False</td>\n      <td>False</td>\n      <td>False</td>\n      <td>0</td>\n      <td>False</td>\n      <td>False</td>\n      <td>0</td>\n      <td>TABLE</td>\n      <td>False</td>\n      <td>False</td>\n      <td>0</td>\n      <td>SCHEMA_AND_DATA</td>\n    </tr>\n    <tr>\n      <th>314</th>\n      <td>MSDGen_ProductList</td>\n      <td>2144726693</td>\n      <td>None</td>\n      <td>1</td>\n      <td>0</td>\n      <td>U</td>\n      <td>USER_TABLE</td>\n      <td>2017-08-10 13:25:58.530</td>\n      <td>2017-08-30 11:40:29.453</td>\n      <td>False</td>\n      <td>False</td>\n      <td>False</td>\n      <td>0</td>\n      <td>None</td>\n      <td>50</td>\n      <td>False</td>\n      <td>True</td>\n      <td>False</td>\n      <td>False</td>\n      <td>False</td>\n      <td>False</td>\n      <td>False</td>\n      <td>0</td>\n      <td>False</td>\n      <td>False</td>\n      <td>0</td>\n      <td>TABLE</td>\n      <td>False</td>\n      <td>False</td>\n      <td>0</td>\n      <td>SCHEMA_AND_DATA</td>\n    </tr>\n    <tr>\n      <th>315</th>\n      <td>GeoScout_SESERV_VIEWS_WELL_TREATMENT__someFields</td>\n      <td>2146874765</td>\n      <td>None</td>\n      <td>1</td>\n      <td>0</td>\n      <td>U</td>\n      <td>USER_TABLE</td>\n      <td>2021-10-25 11:45:12.287</td>\n      <td>2021-10-25 11:45:12.287</td>\n      <td>False</td>\n      <td>False</td>\n      <td>False</td>\n      <td>0</td>\n      <td>None</td>\n      <td>51</td>\n      <td>False</td>\n      <td>True</td>\n      <td>False</td>\n      <td>False</td>\n      <td>False</td>\n      <td>False</td>\n      <td>False</td>\n      <td>0</td>\n      <td>False</td>\n      <td>False</td>\n      <td>0</td>\n      <td>TABLE</td>\n      <td>False</td>\n      <td>False</td>\n      <td>0</td>\n      <td>SCHEMA_AND_DATA</td>\n    </tr>\n  </tbody>\n</table>\n<p>316 rows × 31 columns</p>\n</div>"
     },
     "execution_count": 33,
     "metadata": {},
     "output_type": "execute_result"
    }
   ],
   "source": [
    "bi_views_df = pd.read_parquet(\"data/BI.views.parquet\")\n",
    "bi_views_df"
   ],
   "metadata": {
    "collapsed": false,
    "pycharm": {
     "name": "#%%\n"
    }
   }
  },
  {
   "cell_type": "code",
   "execution_count": 34,
   "outputs": [
    {
     "data": {
      "text/plain": "                                                 name   object_id  \\\n0                             AX_Dimension_Structures     5575058   \n1                                iTrak_DPSSafety_List     6291082   \n2                               MSDGen_DangerousGoods    13243102   \n3              zPRDSC_SP_NewVendor_RequestsSharepoint    13959126   \n4                                    Husky_Fuel_Trans    14623095   \n..                                                ...         ...   \n311                                  PetroTranz_FormA  2131538677   \n312                                       BI_Calendar  2132202646   \n313                                  SCADA_TagValues2  2136394680   \n314                                MSDGen_ProductList  2144726693   \n315  GeoScout_SESERV_VIEWS_WELL_TREATMENT__someFields  2146874765   \n\n    principal_id  schema_id  parent_object_id type   type_desc  \\\n0           None          1                 0   U   USER_TABLE   \n1           None          1                 0   U   USER_TABLE   \n2           None          1                 0   U   USER_TABLE   \n3           None          1                 0   U   USER_TABLE   \n4           None          1                 0   U   USER_TABLE   \n..           ...        ...               ...  ...         ...   \n311         None          1                 0   U   USER_TABLE   \n312         None          1                 0   U   USER_TABLE   \n313         None          1                 0   U   USER_TABLE   \n314         None          1                 0   U   USER_TABLE   \n315         None          1                 0   U   USER_TABLE   \n\n                create_date             modify_date  is_ms_shipped  \\\n0   2015-06-09 08:41:56.743 2022-05-28 01:36:08.937          False   \n1   2018-02-23 09:53:16.613 2018-08-01 15:24:11.800          False   \n2   2017-08-15 15:40:50.580 2017-08-15 15:40:50.583          False   \n3   2019-01-17 13:30:04.477 2019-08-14 10:58:38.267          False   \n4   2016-06-16 12:03:40.063 2016-06-16 12:03:40.123          False   \n..                      ...                     ...            ...   \n311 2019-06-03 14:10:45.120 2019-06-04 12:22:43.743          False   \n312 2017-04-24 12:14:23.117 2017-04-24 12:25:43.647          False   \n313 2018-11-06 10:35:42.203 2018-11-06 10:35:42.203          False   \n314 2017-08-10 13:25:58.530 2017-08-30 11:40:29.453          False   \n315 2021-10-25 11:45:12.287 2021-10-25 11:45:12.287          False   \n\n     is_published  is_schema_published  lob_data_space_id  \\\n0           False                False                  0   \n1           False                False                  1   \n2           False                False                  0   \n3           False                False                  1   \n4           False                False                  0   \n..            ...                  ...                ...   \n311         False                False                  1   \n312         False                False                  0   \n313         False                False                  0   \n314         False                False                  0   \n315         False                False                  0   \n\n    filestream_data_space_id  max_column_id_used  lock_on_bulk_load  \\\n0                       None                   8              False   \n1                       None                  22              False   \n2                       None                  10              False   \n3                       None                  62              False   \n4                       None                  32              False   \n..                       ...                 ...                ...   \n311                     None                  67              False   \n312                     None                  13              False   \n313                     None                   6              False   \n314                     None                  50              False   \n315                     None                  51              False   \n\n     uses_ansi_nulls  is_replicated  has_replication_filter  \\\n0               True          False                   False   \n1               True          False                   False   \n2               True          False                   False   \n3               True          False                   False   \n4               True          False                   False   \n..               ...            ...                     ...   \n311             True          False                   False   \n312             True          False                   False   \n313             True          False                   False   \n314             True          False                   False   \n315             True          False                   False   \n\n     is_merge_published  is_sync_tran_subscribed  has_unchecked_assembly_data  \\\n0                 False                    False                        False   \n1                 False                    False                        False   \n2                 False                    False                        False   \n3                 False                    False                        False   \n4                 False                    False                        False   \n..                  ...                      ...                          ...   \n311               False                    False                        False   \n312               False                    False                        False   \n313               False                    False                        False   \n314               False                    False                        False   \n315               False                    False                        False   \n\n     text_in_row_limit  large_value_types_out_of_row  is_tracked_by_cdc  \\\n0                    0                         False              False   \n1                    0                         False              False   \n2                    0                         False              False   \n3                    0                         False              False   \n4                    0                         False              False   \n..                 ...                           ...                ...   \n311                  0                         False              False   \n312                  0                         False              False   \n313                  0                         False              False   \n314                  0                         False              False   \n315                  0                         False              False   \n\n     lock_escalation lock_escalation_desc  is_filetable  is_memory_optimized  \\\n0                  0                TABLE         False                False   \n1                  0                TABLE         False                False   \n2                  0                TABLE         False                False   \n3                  0                TABLE         False                False   \n4                  0                TABLE         False                False   \n..               ...                  ...           ...                  ...   \n311                0                TABLE         False                False   \n312                0                TABLE         False                False   \n313                0                TABLE         False                False   \n314                0                TABLE         False                False   \n315                0                TABLE         False                False   \n\n     durability  durability_desc  \n0             0  SCHEMA_AND_DATA  \n1             0  SCHEMA_AND_DATA  \n2             0  SCHEMA_AND_DATA  \n3             0  SCHEMA_AND_DATA  \n4             0  SCHEMA_AND_DATA  \n..          ...              ...  \n311           0  SCHEMA_AND_DATA  \n312           0  SCHEMA_AND_DATA  \n313           0  SCHEMA_AND_DATA  \n314           0  SCHEMA_AND_DATA  \n315           0  SCHEMA_AND_DATA  \n\n[316 rows x 31 columns]",
      "text/html": "<div>\n<style scoped>\n    .dataframe tbody tr th:only-of-type {\n        vertical-align: middle;\n    }\n\n    .dataframe tbody tr th {\n        vertical-align: top;\n    }\n\n    .dataframe thead th {\n        text-align: right;\n    }\n</style>\n<table border=\"1\" class=\"dataframe\">\n  <thead>\n    <tr style=\"text-align: right;\">\n      <th></th>\n      <th>name</th>\n      <th>object_id</th>\n      <th>principal_id</th>\n      <th>schema_id</th>\n      <th>parent_object_id</th>\n      <th>type</th>\n      <th>type_desc</th>\n      <th>create_date</th>\n      <th>modify_date</th>\n      <th>is_ms_shipped</th>\n      <th>is_published</th>\n      <th>is_schema_published</th>\n      <th>lob_data_space_id</th>\n      <th>filestream_data_space_id</th>\n      <th>max_column_id_used</th>\n      <th>lock_on_bulk_load</th>\n      <th>uses_ansi_nulls</th>\n      <th>is_replicated</th>\n      <th>has_replication_filter</th>\n      <th>is_merge_published</th>\n      <th>is_sync_tran_subscribed</th>\n      <th>has_unchecked_assembly_data</th>\n      <th>text_in_row_limit</th>\n      <th>large_value_types_out_of_row</th>\n      <th>is_tracked_by_cdc</th>\n      <th>lock_escalation</th>\n      <th>lock_escalation_desc</th>\n      <th>is_filetable</th>\n      <th>is_memory_optimized</th>\n      <th>durability</th>\n      <th>durability_desc</th>\n    </tr>\n  </thead>\n  <tbody>\n    <tr>\n      <th>0</th>\n      <td>AX_Dimension_Structures</td>\n      <td>5575058</td>\n      <td>None</td>\n      <td>1</td>\n      <td>0</td>\n      <td>U</td>\n      <td>USER_TABLE</td>\n      <td>2015-06-09 08:41:56.743</td>\n      <td>2022-05-28 01:36:08.937</td>\n      <td>False</td>\n      <td>False</td>\n      <td>False</td>\n      <td>0</td>\n      <td>None</td>\n      <td>8</td>\n      <td>False</td>\n      <td>True</td>\n      <td>False</td>\n      <td>False</td>\n      <td>False</td>\n      <td>False</td>\n      <td>False</td>\n      <td>0</td>\n      <td>False</td>\n      <td>False</td>\n      <td>0</td>\n      <td>TABLE</td>\n      <td>False</td>\n      <td>False</td>\n      <td>0</td>\n      <td>SCHEMA_AND_DATA</td>\n    </tr>\n    <tr>\n      <th>1</th>\n      <td>iTrak_DPSSafety_List</td>\n      <td>6291082</td>\n      <td>None</td>\n      <td>1</td>\n      <td>0</td>\n      <td>U</td>\n      <td>USER_TABLE</td>\n      <td>2018-02-23 09:53:16.613</td>\n      <td>2018-08-01 15:24:11.800</td>\n      <td>False</td>\n      <td>False</td>\n      <td>False</td>\n      <td>1</td>\n      <td>None</td>\n      <td>22</td>\n      <td>False</td>\n      <td>True</td>\n      <td>False</td>\n      <td>False</td>\n      <td>False</td>\n      <td>False</td>\n      <td>False</td>\n      <td>0</td>\n      <td>False</td>\n      <td>False</td>\n      <td>0</td>\n      <td>TABLE</td>\n      <td>False</td>\n      <td>False</td>\n      <td>0</td>\n      <td>SCHEMA_AND_DATA</td>\n    </tr>\n    <tr>\n      <th>2</th>\n      <td>MSDGen_DangerousGoods</td>\n      <td>13243102</td>\n      <td>None</td>\n      <td>1</td>\n      <td>0</td>\n      <td>U</td>\n      <td>USER_TABLE</td>\n      <td>2017-08-15 15:40:50.580</td>\n      <td>2017-08-15 15:40:50.583</td>\n      <td>False</td>\n      <td>False</td>\n      <td>False</td>\n      <td>0</td>\n      <td>None</td>\n      <td>10</td>\n      <td>False</td>\n      <td>True</td>\n      <td>False</td>\n      <td>False</td>\n      <td>False</td>\n      <td>False</td>\n      <td>False</td>\n      <td>0</td>\n      <td>False</td>\n      <td>False</td>\n      <td>0</td>\n      <td>TABLE</td>\n      <td>False</td>\n      <td>False</td>\n      <td>0</td>\n      <td>SCHEMA_AND_DATA</td>\n    </tr>\n    <tr>\n      <th>3</th>\n      <td>zPRDSC_SP_NewVendor_RequestsSharepoint</td>\n      <td>13959126</td>\n      <td>None</td>\n      <td>1</td>\n      <td>0</td>\n      <td>U</td>\n      <td>USER_TABLE</td>\n      <td>2019-01-17 13:30:04.477</td>\n      <td>2019-08-14 10:58:38.267</td>\n      <td>False</td>\n      <td>False</td>\n      <td>False</td>\n      <td>1</td>\n      <td>None</td>\n      <td>62</td>\n      <td>False</td>\n      <td>True</td>\n      <td>False</td>\n      <td>False</td>\n      <td>False</td>\n      <td>False</td>\n      <td>False</td>\n      <td>0</td>\n      <td>False</td>\n      <td>False</td>\n      <td>0</td>\n      <td>TABLE</td>\n      <td>False</td>\n      <td>False</td>\n      <td>0</td>\n      <td>SCHEMA_AND_DATA</td>\n    </tr>\n    <tr>\n      <th>4</th>\n      <td>Husky_Fuel_Trans</td>\n      <td>14623095</td>\n      <td>None</td>\n      <td>1</td>\n      <td>0</td>\n      <td>U</td>\n      <td>USER_TABLE</td>\n      <td>2016-06-16 12:03:40.063</td>\n      <td>2016-06-16 12:03:40.123</td>\n      <td>False</td>\n      <td>False</td>\n      <td>False</td>\n      <td>0</td>\n      <td>None</td>\n      <td>32</td>\n      <td>False</td>\n      <td>True</td>\n      <td>False</td>\n      <td>False</td>\n      <td>False</td>\n      <td>False</td>\n      <td>False</td>\n      <td>0</td>\n      <td>False</td>\n      <td>False</td>\n      <td>0</td>\n      <td>TABLE</td>\n      <td>False</td>\n      <td>False</td>\n      <td>0</td>\n      <td>SCHEMA_AND_DATA</td>\n    </tr>\n    <tr>\n      <th>...</th>\n      <td>...</td>\n      <td>...</td>\n      <td>...</td>\n      <td>...</td>\n      <td>...</td>\n      <td>...</td>\n      <td>...</td>\n      <td>...</td>\n      <td>...</td>\n      <td>...</td>\n      <td>...</td>\n      <td>...</td>\n      <td>...</td>\n      <td>...</td>\n      <td>...</td>\n      <td>...</td>\n      <td>...</td>\n      <td>...</td>\n      <td>...</td>\n      <td>...</td>\n      <td>...</td>\n      <td>...</td>\n      <td>...</td>\n      <td>...</td>\n      <td>...</td>\n      <td>...</td>\n      <td>...</td>\n      <td>...</td>\n      <td>...</td>\n      <td>...</td>\n      <td>...</td>\n    </tr>\n    <tr>\n      <th>311</th>\n      <td>PetroTranz_FormA</td>\n      <td>2131538677</td>\n      <td>None</td>\n      <td>1</td>\n      <td>0</td>\n      <td>U</td>\n      <td>USER_TABLE</td>\n      <td>2019-06-03 14:10:45.120</td>\n      <td>2019-06-04 12:22:43.743</td>\n      <td>False</td>\n      <td>False</td>\n      <td>False</td>\n      <td>1</td>\n      <td>None</td>\n      <td>67</td>\n      <td>False</td>\n      <td>True</td>\n      <td>False</td>\n      <td>False</td>\n      <td>False</td>\n      <td>False</td>\n      <td>False</td>\n      <td>0</td>\n      <td>False</td>\n      <td>False</td>\n      <td>0</td>\n      <td>TABLE</td>\n      <td>False</td>\n      <td>False</td>\n      <td>0</td>\n      <td>SCHEMA_AND_DATA</td>\n    </tr>\n    <tr>\n      <th>312</th>\n      <td>BI_Calendar</td>\n      <td>2132202646</td>\n      <td>None</td>\n      <td>1</td>\n      <td>0</td>\n      <td>U</td>\n      <td>USER_TABLE</td>\n      <td>2017-04-24 12:14:23.117</td>\n      <td>2017-04-24 12:25:43.647</td>\n      <td>False</td>\n      <td>False</td>\n      <td>False</td>\n      <td>0</td>\n      <td>None</td>\n      <td>13</td>\n      <td>False</td>\n      <td>True</td>\n      <td>False</td>\n      <td>False</td>\n      <td>False</td>\n      <td>False</td>\n      <td>False</td>\n      <td>0</td>\n      <td>False</td>\n      <td>False</td>\n      <td>0</td>\n      <td>TABLE</td>\n      <td>False</td>\n      <td>False</td>\n      <td>0</td>\n      <td>SCHEMA_AND_DATA</td>\n    </tr>\n    <tr>\n      <th>313</th>\n      <td>SCADA_TagValues2</td>\n      <td>2136394680</td>\n      <td>None</td>\n      <td>1</td>\n      <td>0</td>\n      <td>U</td>\n      <td>USER_TABLE</td>\n      <td>2018-11-06 10:35:42.203</td>\n      <td>2018-11-06 10:35:42.203</td>\n      <td>False</td>\n      <td>False</td>\n      <td>False</td>\n      <td>0</td>\n      <td>None</td>\n      <td>6</td>\n      <td>False</td>\n      <td>True</td>\n      <td>False</td>\n      <td>False</td>\n      <td>False</td>\n      <td>False</td>\n      <td>False</td>\n      <td>0</td>\n      <td>False</td>\n      <td>False</td>\n      <td>0</td>\n      <td>TABLE</td>\n      <td>False</td>\n      <td>False</td>\n      <td>0</td>\n      <td>SCHEMA_AND_DATA</td>\n    </tr>\n    <tr>\n      <th>314</th>\n      <td>MSDGen_ProductList</td>\n      <td>2144726693</td>\n      <td>None</td>\n      <td>1</td>\n      <td>0</td>\n      <td>U</td>\n      <td>USER_TABLE</td>\n      <td>2017-08-10 13:25:58.530</td>\n      <td>2017-08-30 11:40:29.453</td>\n      <td>False</td>\n      <td>False</td>\n      <td>False</td>\n      <td>0</td>\n      <td>None</td>\n      <td>50</td>\n      <td>False</td>\n      <td>True</td>\n      <td>False</td>\n      <td>False</td>\n      <td>False</td>\n      <td>False</td>\n      <td>False</td>\n      <td>0</td>\n      <td>False</td>\n      <td>False</td>\n      <td>0</td>\n      <td>TABLE</td>\n      <td>False</td>\n      <td>False</td>\n      <td>0</td>\n      <td>SCHEMA_AND_DATA</td>\n    </tr>\n    <tr>\n      <th>315</th>\n      <td>GeoScout_SESERV_VIEWS_WELL_TREATMENT__someFields</td>\n      <td>2146874765</td>\n      <td>None</td>\n      <td>1</td>\n      <td>0</td>\n      <td>U</td>\n      <td>USER_TABLE</td>\n      <td>2021-10-25 11:45:12.287</td>\n      <td>2021-10-25 11:45:12.287</td>\n      <td>False</td>\n      <td>False</td>\n      <td>False</td>\n      <td>0</td>\n      <td>None</td>\n      <td>51</td>\n      <td>False</td>\n      <td>True</td>\n      <td>False</td>\n      <td>False</td>\n      <td>False</td>\n      <td>False</td>\n      <td>False</td>\n      <td>0</td>\n      <td>False</td>\n      <td>False</td>\n      <td>0</td>\n      <td>TABLE</td>\n      <td>False</td>\n      <td>False</td>\n      <td>0</td>\n      <td>SCHEMA_AND_DATA</td>\n    </tr>\n  </tbody>\n</table>\n<p>316 rows × 31 columns</p>\n</div>"
     },
     "execution_count": 34,
     "metadata": {},
     "output_type": "execute_result"
    }
   ],
   "source": [
    "bi_tables_df = pd.read_parquet(\"data/BI.tables.parquet\")\n",
    "bi_tables_df"
   ],
   "metadata": {
    "collapsed": false,
    "pycharm": {
     "name": "#%%\n"
    }
   }
  },
  {
   "cell_type": "code",
   "execution_count": 35,
   "outputs": [
    {
     "data": {
      "text/plain": "     referencing_schema_name        referencing_obj_name  referencing_id  \\\n0                        dbo  AX_FixedAsset_TransDetails         4195065   \n1                        dbo  AX_FixedAsset_TransDetails         4195065   \n2                        dbo  AX_FixedAsset_TransDetails         4195065   \n3                        dbo  zExcel_DPS_CustomerRevenue        25767149   \n4                        dbo  zExcel_DPS_CustomerRevenue        25767149   \n...                      ...                         ...             ...   \n1458                     dbo             AX_Vendor_Trans      2135678656   \n1459                     dbo             AX_Vendor_Trans      2135678656   \n1460                     dbo             AX_Vendor_Trans      2135678656   \n1461                     dbo       PRD_SC_VendorRequests      2140586714   \n1462                     dbo       PRD_SC_VendorRequests      2140586714   \n\n      referencing_minor_id  referencing_class referencing_class_desc  \\\n0                        0                  1       OBJECT_OR_COLUMN   \n1                        0                  1       OBJECT_OR_COLUMN   \n2                        0                  1       OBJECT_OR_COLUMN   \n3                        0                  1       OBJECT_OR_COLUMN   \n4                        0                  1       OBJECT_OR_COLUMN   \n...                    ...                ...                    ...   \n1458                     0                  1       OBJECT_OR_COLUMN   \n1459                     0                  1       OBJECT_OR_COLUMN   \n1460                     0                  1       OBJECT_OR_COLUMN   \n1461                     0                  1       OBJECT_OR_COLUMN   \n1462                     0                  1       OBJECT_OR_COLUMN   \n\n      is_schema_bound_reference  referenced_class referenced_class_desc  \\\n0                         False                 1      OBJECT_OR_COLUMN   \n1                         False                 1      OBJECT_OR_COLUMN   \n2                         False                 1      OBJECT_OR_COLUMN   \n3                         False                 1      OBJECT_OR_COLUMN   \n4                         False                 1      OBJECT_OR_COLUMN   \n...                         ...               ...                   ...   \n1458                      False                 1      OBJECT_OR_COLUMN   \n1459                      False                 1      OBJECT_OR_COLUMN   \n1460                      False                 1      OBJECT_OR_COLUMN   \n1461                      False                 1      OBJECT_OR_COLUMN   \n1462                      False                 1      OBJECT_OR_COLUMN   \n\n     referenced_server_name referenced_database_name referenced_schema_name  \\\n0                      None    AX_SECURE_PRD_REPLICA                    dbo   \n1                      None    AX_SECURE_PRD_REPLICA                    dbo   \n2                      None                     None                    dbo   \n3                      None                       BI                    dbo   \n4                      None                       BI                    dbo   \n...                     ...                      ...                    ...   \n1458                   None    AX_SECURE_PRD_REPLICA                    dbo   \n1459                   None    AX_SECURE_PRD_REPLICA                    dbo   \n1460                   None    AX_SECURE_PRD_REPLICA                    dbo   \n1461             Azure-PROD                     APPS                    dbo   \n1462                   None                       BI                    dbo   \n\n               referenced_entity_name  referenced_id  referenced_minor_id  \\\n0                          ASSETTABLE            NaN                    0   \n1                          ASSETTRANS            NaN                    0   \n2               AX_Default_Dimensions   1.655756e+08                    0   \n3               AX_default_dimensions   1.655756e+08                    0   \n4                  AX_GL_TransDetails   4.215765e+08                    0   \n...                               ...            ...                  ...   \n1458            VENDDIRPARTYTABLEVIEW            NaN                    0   \n1459                        VENDTABLE            NaN                    0   \n1460                        VENDTRANS            NaN                    0   \n1461            PRD_SC_VendorRequests            NaN                    0   \n1462  PRD_SC_VendorRequestsSharepoint   1.385772e+09                    0   \n\n      is_caller_dependent  is_ambiguous  \n0                   False         False  \n1                   False         False  \n2                   False         False  \n3                   False         False  \n4                   False         False  \n...                   ...           ...  \n1458                False         False  \n1459                False         False  \n1460                False         False  \n1461                False         False  \n1462                False         False  \n\n[1463 rows x 17 columns]",
      "text/html": "<div>\n<style scoped>\n    .dataframe tbody tr th:only-of-type {\n        vertical-align: middle;\n    }\n\n    .dataframe tbody tr th {\n        vertical-align: top;\n    }\n\n    .dataframe thead th {\n        text-align: right;\n    }\n</style>\n<table border=\"1\" class=\"dataframe\">\n  <thead>\n    <tr style=\"text-align: right;\">\n      <th></th>\n      <th>referencing_schema_name</th>\n      <th>referencing_obj_name</th>\n      <th>referencing_id</th>\n      <th>referencing_minor_id</th>\n      <th>referencing_class</th>\n      <th>referencing_class_desc</th>\n      <th>is_schema_bound_reference</th>\n      <th>referenced_class</th>\n      <th>referenced_class_desc</th>\n      <th>referenced_server_name</th>\n      <th>referenced_database_name</th>\n      <th>referenced_schema_name</th>\n      <th>referenced_entity_name</th>\n      <th>referenced_id</th>\n      <th>referenced_minor_id</th>\n      <th>is_caller_dependent</th>\n      <th>is_ambiguous</th>\n    </tr>\n  </thead>\n  <tbody>\n    <tr>\n      <th>0</th>\n      <td>dbo</td>\n      <td>AX_FixedAsset_TransDetails</td>\n      <td>4195065</td>\n      <td>0</td>\n      <td>1</td>\n      <td>OBJECT_OR_COLUMN</td>\n      <td>False</td>\n      <td>1</td>\n      <td>OBJECT_OR_COLUMN</td>\n      <td>None</td>\n      <td>AX_SECURE_PRD_REPLICA</td>\n      <td>dbo</td>\n      <td>ASSETTABLE</td>\n      <td>NaN</td>\n      <td>0</td>\n      <td>False</td>\n      <td>False</td>\n    </tr>\n    <tr>\n      <th>1</th>\n      <td>dbo</td>\n      <td>AX_FixedAsset_TransDetails</td>\n      <td>4195065</td>\n      <td>0</td>\n      <td>1</td>\n      <td>OBJECT_OR_COLUMN</td>\n      <td>False</td>\n      <td>1</td>\n      <td>OBJECT_OR_COLUMN</td>\n      <td>None</td>\n      <td>AX_SECURE_PRD_REPLICA</td>\n      <td>dbo</td>\n      <td>ASSETTRANS</td>\n      <td>NaN</td>\n      <td>0</td>\n      <td>False</td>\n      <td>False</td>\n    </tr>\n    <tr>\n      <th>2</th>\n      <td>dbo</td>\n      <td>AX_FixedAsset_TransDetails</td>\n      <td>4195065</td>\n      <td>0</td>\n      <td>1</td>\n      <td>OBJECT_OR_COLUMN</td>\n      <td>False</td>\n      <td>1</td>\n      <td>OBJECT_OR_COLUMN</td>\n      <td>None</td>\n      <td>None</td>\n      <td>dbo</td>\n      <td>AX_Default_Dimensions</td>\n      <td>1.655756e+08</td>\n      <td>0</td>\n      <td>False</td>\n      <td>False</td>\n    </tr>\n    <tr>\n      <th>3</th>\n      <td>dbo</td>\n      <td>zExcel_DPS_CustomerRevenue</td>\n      <td>25767149</td>\n      <td>0</td>\n      <td>1</td>\n      <td>OBJECT_OR_COLUMN</td>\n      <td>False</td>\n      <td>1</td>\n      <td>OBJECT_OR_COLUMN</td>\n      <td>None</td>\n      <td>BI</td>\n      <td>dbo</td>\n      <td>AX_default_dimensions</td>\n      <td>1.655756e+08</td>\n      <td>0</td>\n      <td>False</td>\n      <td>False</td>\n    </tr>\n    <tr>\n      <th>4</th>\n      <td>dbo</td>\n      <td>zExcel_DPS_CustomerRevenue</td>\n      <td>25767149</td>\n      <td>0</td>\n      <td>1</td>\n      <td>OBJECT_OR_COLUMN</td>\n      <td>False</td>\n      <td>1</td>\n      <td>OBJECT_OR_COLUMN</td>\n      <td>None</td>\n      <td>BI</td>\n      <td>dbo</td>\n      <td>AX_GL_TransDetails</td>\n      <td>4.215765e+08</td>\n      <td>0</td>\n      <td>False</td>\n      <td>False</td>\n    </tr>\n    <tr>\n      <th>...</th>\n      <td>...</td>\n      <td>...</td>\n      <td>...</td>\n      <td>...</td>\n      <td>...</td>\n      <td>...</td>\n      <td>...</td>\n      <td>...</td>\n      <td>...</td>\n      <td>...</td>\n      <td>...</td>\n      <td>...</td>\n      <td>...</td>\n      <td>...</td>\n      <td>...</td>\n      <td>...</td>\n      <td>...</td>\n    </tr>\n    <tr>\n      <th>1458</th>\n      <td>dbo</td>\n      <td>AX_Vendor_Trans</td>\n      <td>2135678656</td>\n      <td>0</td>\n      <td>1</td>\n      <td>OBJECT_OR_COLUMN</td>\n      <td>False</td>\n      <td>1</td>\n      <td>OBJECT_OR_COLUMN</td>\n      <td>None</td>\n      <td>AX_SECURE_PRD_REPLICA</td>\n      <td>dbo</td>\n      <td>VENDDIRPARTYTABLEVIEW</td>\n      <td>NaN</td>\n      <td>0</td>\n      <td>False</td>\n      <td>False</td>\n    </tr>\n    <tr>\n      <th>1459</th>\n      <td>dbo</td>\n      <td>AX_Vendor_Trans</td>\n      <td>2135678656</td>\n      <td>0</td>\n      <td>1</td>\n      <td>OBJECT_OR_COLUMN</td>\n      <td>False</td>\n      <td>1</td>\n      <td>OBJECT_OR_COLUMN</td>\n      <td>None</td>\n      <td>AX_SECURE_PRD_REPLICA</td>\n      <td>dbo</td>\n      <td>VENDTABLE</td>\n      <td>NaN</td>\n      <td>0</td>\n      <td>False</td>\n      <td>False</td>\n    </tr>\n    <tr>\n      <th>1460</th>\n      <td>dbo</td>\n      <td>AX_Vendor_Trans</td>\n      <td>2135678656</td>\n      <td>0</td>\n      <td>1</td>\n      <td>OBJECT_OR_COLUMN</td>\n      <td>False</td>\n      <td>1</td>\n      <td>OBJECT_OR_COLUMN</td>\n      <td>None</td>\n      <td>AX_SECURE_PRD_REPLICA</td>\n      <td>dbo</td>\n      <td>VENDTRANS</td>\n      <td>NaN</td>\n      <td>0</td>\n      <td>False</td>\n      <td>False</td>\n    </tr>\n    <tr>\n      <th>1461</th>\n      <td>dbo</td>\n      <td>PRD_SC_VendorRequests</td>\n      <td>2140586714</td>\n      <td>0</td>\n      <td>1</td>\n      <td>OBJECT_OR_COLUMN</td>\n      <td>False</td>\n      <td>1</td>\n      <td>OBJECT_OR_COLUMN</td>\n      <td>Azure-PROD</td>\n      <td>APPS</td>\n      <td>dbo</td>\n      <td>PRD_SC_VendorRequests</td>\n      <td>NaN</td>\n      <td>0</td>\n      <td>False</td>\n      <td>False</td>\n    </tr>\n    <tr>\n      <th>1462</th>\n      <td>dbo</td>\n      <td>PRD_SC_VendorRequests</td>\n      <td>2140586714</td>\n      <td>0</td>\n      <td>1</td>\n      <td>OBJECT_OR_COLUMN</td>\n      <td>False</td>\n      <td>1</td>\n      <td>OBJECT_OR_COLUMN</td>\n      <td>None</td>\n      <td>BI</td>\n      <td>dbo</td>\n      <td>PRD_SC_VendorRequestsSharepoint</td>\n      <td>1.385772e+09</td>\n      <td>0</td>\n      <td>False</td>\n      <td>False</td>\n    </tr>\n  </tbody>\n</table>\n<p>1463 rows × 17 columns</p>\n</div>"
     },
     "execution_count": 35,
     "metadata": {},
     "output_type": "execute_result"
    }
   ],
   "source": [
    "bi_refs_df = pd.read_parquet(\"data/BI.refs.parquet\")\n",
    "bi_refs_df"
   ],
   "metadata": {
    "collapsed": false,
    "pycharm": {
     "name": "#%%\n"
    }
   }
  },
  {
   "cell_type": "code",
   "execution_count": null,
   "outputs": [],
   "source": [],
   "metadata": {
    "collapsed": false,
    "pycharm": {
     "name": "#%%\n"
    }
   }
  },
  {
   "cell_type": "code",
   "execution_count": 21,
   "outputs": [],
   "source": [
    "\n"
   ],
   "metadata": {
    "collapsed": false,
    "pycharm": {
     "name": "#%%\n"
    }
   }
  },
  {
   "cell_type": "code",
   "execution_count": 21,
   "outputs": [],
   "source": [],
   "metadata": {
    "collapsed": false,
    "pycharm": {
     "name": "#%%\n"
    }
   }
  },
  {
   "cell_type": "code",
   "execution_count": 14,
   "outputs": [],
   "source": [
    "G = nx.Graph()"
   ],
   "metadata": {
    "collapsed": false,
    "pycharm": {
     "name": "#%%\n"
    }
   }
  },
  {
   "cell_type": "code",
   "execution_count": 15,
   "outputs": [],
   "source": [
    "#G.add_nodes_from(new_df['parent'])\n",
    "#G.add_nodes_from(new_df['child'])\n",
    "#G.nodes"
   ],
   "metadata": {
    "collapsed": false,
    "pycharm": {
     "name": "#%%\n"
    }
   }
  },
  {
   "cell_type": "code",
   "execution_count": 15,
   "outputs": [],
   "source": [],
   "metadata": {
    "collapsed": false,
    "pycharm": {
     "name": "#%%\n"
    }
   }
  },
  {
   "cell_type": "code",
   "execution_count": 15,
   "outputs": [],
   "source": [],
   "metadata": {
    "collapsed": false,
    "pycharm": {
     "name": "#%%\n"
    }
   }
  },
  {
   "cell_type": "code",
   "execution_count": 15,
   "outputs": [],
   "source": [],
   "metadata": {
    "collapsed": false,
    "pycharm": {
     "name": "#%%\n"
    }
   }
  },
  {
   "cell_type": "code",
   "execution_count": 16,
   "outputs": [
    {
     "ename": "NameError",
     "evalue": "name 'new_df' is not defined",
     "output_type": "error",
     "traceback": [
      "\u001B[1;31m---------------------------------------------------------------------------\u001B[0m",
      "\u001B[1;31mNameError\u001B[0m                                 Traceback (most recent call last)",
      "Input \u001B[1;32mIn [16]\u001B[0m, in \u001B[0;36m<cell line: 1>\u001B[1;34m()\u001B[0m\n\u001B[1;32m----> 1\u001B[0m \u001B[38;5;28;01mfor\u001B[39;00m edge \u001B[38;5;129;01min\u001B[39;00m \u001B[43mnew_df\u001B[49m\u001B[38;5;241m.\u001B[39mitertuples():\n\u001B[0;32m      2\u001B[0m     G\u001B[38;5;241m.\u001B[39madd_edge(edge\u001B[38;5;241m.\u001B[39mparent, edge\u001B[38;5;241m.\u001B[39mchild)\n",
      "\u001B[1;31mNameError\u001B[0m: name 'new_df' is not defined"
     ]
    }
   ],
   "source": [
    "for edge in new_df.itertuples():\n",
    "    G.add_edge(edge.parent, edge.child)"
   ],
   "metadata": {
    "collapsed": false,
    "pycharm": {
     "name": "#%%\n"
    }
   }
  },
  {
   "cell_type": "code",
   "execution_count": null,
   "outputs": [],
   "source": [
    "plt.figure(figsize=(10, 10))\n",
    "nx.draw(G, with_labels=False)"
   ],
   "metadata": {
    "collapsed": false,
    "pycharm": {
     "name": "#%%\n"
    }
   }
  },
  {
   "cell_type": "code",
   "execution_count": null,
   "outputs": [],
   "source": [
    "weights = [1 if G[u][v] == {} else G[u][v]['weight'] for u,v in G.edges()]\n",
    "plt.figure(figsize=(10, 10))\n",
    "nx.draw(G, with_labels=False, width=weights)\n"
   ],
   "metadata": {
    "collapsed": false,
    "pycharm": {
     "name": "#%%\n"
    }
   }
  },
  {
   "cell_type": "code",
   "execution_count": null,
   "outputs": [],
   "source": [
    "pos = nx.circular_layout(G)\n",
    "plt.figure(figsize=(10, 10))\n",
    "nx.draw(G, pos=pos, with_labels=False)\n"
   ],
   "metadata": {
    "collapsed": false,
    "pycharm": {
     "name": "#%%\n"
    }
   }
  },
  {
   "cell_type": "code",
   "execution_count": null,
   "outputs": [],
   "source": [
    "print(sorted(G.degree, key=lambda x: x[1], reverse=True))"
   ],
   "metadata": {
    "collapsed": false,
    "pycharm": {
     "name": "#%%\n"
    }
   }
  },
  {
   "cell_type": "code",
   "execution_count": null,
   "outputs": [],
   "source": [
    "communities = label_propagation_communities(G)\n",
    "print([community for community in communities])"
   ],
   "metadata": {
    "collapsed": false,
    "pycharm": {
     "name": "#%%\n"
    }
   }
  },
  {
   "cell_type": "code",
   "execution_count": null,
   "outputs": [],
   "source": [
    "import numpy as np\n",
    "import matplotlib.pyplot as plt\n",
    "import networkx as nx\n",
    "\n",
    "def community_layout(g, partition):\n",
    "    \"\"\"\n",
    "    Compute the layout for a modular graph.\n",
    "\n",
    "\n",
    "    Arguments:\n",
    "    ----------\n",
    "    g -- networkx.Graph or networkx.DiGraph instance\n",
    "        graph to plot\n",
    "\n",
    "    partition -- dict mapping int node -> int community\n",
    "        graph partitions\n",
    "\n",
    "\n",
    "    Returns:\n",
    "    --------\n",
    "    pos -- dict mapping int node -> (float x, float y)\n",
    "        node positions\n",
    "\n",
    "    \"\"\"\n",
    "\n",
    "    pos_communities = _position_communities(g, partition, scale=3.)\n",
    "\n",
    "    pos_nodes = _position_nodes(g, partition, scale=1.)\n",
    "\n",
    "    # combine positions\n",
    "    pos = dict()\n",
    "    for node in g.nodes():\n",
    "        pos[node] = pos_communities[node] + pos_nodes[node]\n",
    "\n",
    "    return pos\n",
    "\n",
    "def _position_communities(g, partition, **kwargs):\n",
    "\n",
    "    # create a weighted graph, in which each node corresponds to a community,\n",
    "    # and each edge weight to the number of edges between communities\n",
    "    between_community_edges = _find_between_community_edges(g, partition)\n",
    "\n",
    "    communities = set(partition.values())\n",
    "    hypergraph = nx.DiGraph()\n",
    "    hypergraph.add_nodes_from(communities)\n",
    "    for (ci, cj), edges in between_community_edges.items():\n",
    "        hypergraph.add_edge(ci, cj, weight=len(edges))\n",
    "\n",
    "    # find layout for communities\n",
    "    pos_communities = nx.spring_layout(hypergraph, **kwargs)\n",
    "\n",
    "    # set node positions to position of community\n",
    "    pos = dict()\n",
    "    for node, community in partition.items():\n",
    "        pos[node] = pos_communities[community]\n",
    "\n",
    "    return pos\n",
    "\n",
    "def _find_between_community_edges(g, partition):\n",
    "\n",
    "    edges = dict()\n",
    "\n",
    "    for (ni, nj) in g.edges():\n",
    "        ci = partition[ni]\n",
    "        cj = partition[nj]\n",
    "\n",
    "        if ci != cj:\n",
    "            try:\n",
    "                edges[(ci, cj)] += [(ni, nj)]\n",
    "            except KeyError:\n",
    "                edges[(ci, cj)] = [(ni, nj)]\n",
    "\n",
    "    return edges\n",
    "\n",
    "def _position_nodes(g, partition, **kwargs):\n",
    "    \"\"\"\n",
    "    Positions nodes within communities.\n",
    "    \"\"\"\n",
    "\n",
    "    communities = dict()\n",
    "    for node, community in partition.items():\n",
    "        try:\n",
    "            communities[community] += [node]\n",
    "        except KeyError:\n",
    "            communities[community] = [node]\n",
    "\n",
    "    pos = dict()\n",
    "    for ci, nodes in communities.items():\n",
    "        subgraph = g.subgraph(nodes)\n",
    "        pos_subgraph = nx.spring_layout(subgraph, **kwargs)\n",
    "        pos.update(pos_subgraph)\n",
    "\n",
    "    return pos\n",
    "\n",
    "def test():\n",
    "    # to install networkx 2.0 compatible version of python-louvain use:\n",
    "    # pip install -U git+https://github.com/taynaud/python-louvain.git@networkx2\n",
    "    from community import community_louvain\n",
    "\n",
    "    g = nx.karate_club_graph()\n",
    "    partition = community_louvain.best_partition(g)\n",
    "    pos = community_layout(g, partition)\n",
    "\n",
    "    nx.draw(g, pos, with_labels=True, node_color=list(partition.values())); plt.show()\n",
    "    return\n"
   ],
   "metadata": {
    "collapsed": false,
    "pycharm": {
     "name": "#%%\n"
    }
   }
  },
  {
   "cell_type": "code",
   "execution_count": null,
   "outputs": [],
   "source": [
    "plt.figure(figsize=(100, 100))\n",
    "\n",
    "partition = community_louvain.best_partition(G)\n",
    "pos = community_layout(G, partition)\n",
    "weights = [1 if G[u][v] == {} else G[u][v]['weight'] for u,v in G.edges()]\n",
    "nx.drawing.nx_pylab.draw_kamada_kawai(G)\n",
    "#nx.draw(G, pos, with_labels=True, width=weights, node_color=list(partition.values()));\n",
    "plt.show()"
   ],
   "metadata": {
    "collapsed": false,
    "pycharm": {
     "name": "#%%\n"
    }
   }
  },
  {
   "cell_type": "code",
   "execution_count": null,
   "outputs": [],
   "source": [
    "plt.figure(figsize=(100, 100))\n",
    "#nx.draw(G, with_labels=True, node_size=100, node_color=\"skyblue\", pos=nx.fruchterman_reingold_layout(G))\n",
    "#nx.draw(G, with_labels=True, node_size=100, node_color=\"skyblue\", pos=nx.spectral_layout(G))\n",
    "nx.draw(G, with_labels=True, node_size=100, node_color=\"skyblue\", pos=nx.circular_layout(G))\n",
    "plt.title(\"BI31\")\n",
    "plt.show()\n"
   ],
   "metadata": {
    "collapsed": false,
    "pycharm": {
     "name": "#%%\n"
    }
   }
  },
  {
   "cell_type": "code",
   "execution_count": null,
   "outputs": [],
   "source": [],
   "metadata": {
    "collapsed": false,
    "pycharm": {
     "name": "#%%\n"
    }
   }
  },
  {
   "cell_type": "code",
   "execution_count": null,
   "outputs": [],
   "source": [],
   "metadata": {
    "collapsed": false,
    "pycharm": {
     "name": "#%%\n"
    }
   }
  },
  {
   "cell_type": "code",
   "execution_count": null,
   "outputs": [],
   "source": [],
   "metadata": {
    "collapsed": false,
    "pycharm": {
     "name": "#%%\n"
    }
   }
  },
  {
   "cell_type": "code",
   "execution_count": null,
   "outputs": [],
   "source": [],
   "metadata": {
    "collapsed": false,
    "pycharm": {
     "name": "#%%\n"
    }
   }
  },
  {
   "cell_type": "code",
   "execution_count": null,
   "outputs": [],
   "source": [],
   "metadata": {
    "collapsed": false,
    "pycharm": {
     "name": "#%%\n"
    }
   }
  },
  {
   "cell_type": "code",
   "execution_count": null,
   "outputs": [],
   "source": [],
   "metadata": {
    "collapsed": false,
    "pycharm": {
     "name": "#%%\n"
    }
   }
  }
 ],
 "metadata": {
  "kernelspec": {
   "display_name": "Python 3",
   "language": "python",
   "name": "python3"
  },
  "language_info": {
   "codemirror_mode": {
    "name": "ipython",
    "version": 2
   },
   "file_extension": ".py",
   "mimetype": "text/x-python",
   "name": "python",
   "nbconvert_exporter": "python",
   "pygments_lexer": "ipython2",
   "version": "2.7.6"
  }
 },
 "nbformat": 4,
 "nbformat_minor": 0
}