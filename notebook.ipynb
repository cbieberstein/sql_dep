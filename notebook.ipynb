{
 "cells": [
  {
   "cell_type": "code",
   "execution_count": 87,
   "metadata": {
    "collapsed": true,
    "pycharm": {
     "name": "#%%\n"
    }
   },
   "outputs": [],
   "source": [
    "from queries import *\n",
    "from pathlib import Path\n",
    "from pandas_profiling import ProfileReport\n",
    "from sql_metadata import Parser\n",
    "import sqlparse\n",
    "import sqlglot\n",
    "import mo_sql_parsing as mo\n",
    "import re\n",
    "from pprint import pprint"
   ]
  },
  {
   "cell_type": "code",
   "execution_count": 2,
   "outputs": [],
   "source": [
    "pd.set_option('display.max_rows', 20)\n",
    "pd.set_option('display.max_columns', None)"
   ],
   "metadata": {
    "collapsed": false,
    "pycharm": {
     "name": "#%%\n"
    }
   }
  },
  {
   "cell_type": "code",
   "execution_count": 3,
   "outputs": [],
   "source": [
    "engine = connect_sqlserver_windowsauth('bidatacentre','master')\n",
    "db_df = fetch_all_dbs(engine)\n"
   ],
   "metadata": {
    "collapsed": false,
    "pycharm": {
     "name": "#%%\n"
    }
   }
  },
  {
   "cell_type": "code",
   "execution_count": 4,
   "outputs": [],
   "source": [
    "def markdown_table(in_df):\n",
    "    header = \"\"\n",
    "    line2 = \"\"\n",
    "    data = \"\"\n",
    "    for col in in_df.columns:\n",
    "        header = header + f\"| {col} \"\n",
    "        line2 = line2 + f\"| --- \"\n",
    "    header = header + \"|\\n\"\n",
    "    line2 = line2 + \"|\\n\"\n",
    "    for row in in_df.itertuples():\n",
    "        for col in range(1,len(row)):\n",
    "            data = data + f\"| {row[col]} \"\n",
    "        data = data + \"|\\n\"\n",
    "    table_string = header + line2 + data + \"\\n\"\n",
    "    return table_string"
   ],
   "metadata": {
    "collapsed": false,
    "pycharm": {
     "name": "#%%\n"
    }
   }
  },
  {
   "cell_type": "code",
   "execution_count": 5,
   "outputs": [],
   "source": [
    "# Test code\n",
    "deps = fetch_all_db_dependencies(engine)"
   ],
   "metadata": {
    "collapsed": false,
    "pycharm": {
     "name": "#%%\n"
    }
   }
  },
  {
   "cell_type": "code",
   "execution_count": 6,
   "outputs": [
    {
     "data": {
      "text/plain": "                  DATABASE referencing_schema_name  \\\n0                     APPS                     dbo   \n1                     APPS                     dbo   \n2                     APPS                     dbo   \n3                     APPS                     dbo   \n4                     APPS                     dbo   \n...                    ...                     ...   \n41519  iTrak3_SecureEnergy                     dbo   \n41520  iTrak3_SecureEnergy                     dbo   \n41521  iTrak3_SecureEnergy                     dbo   \n41522  iTrak3_SecureEnergy                     dbo   \n41523  iTrak3_SecureEnergy                     dbo   \n\n                        referencing_object_name referencing_type_desc  \\\n0                           AX_GL_BudgetDetails                  VIEW   \n1                                  AX_GL_Master                  VIEW   \n2                                  AX_GL_Master                  VIEW   \n3                            AX_GL_TransDetails                  VIEW   \n4                              AX_PChemCustomer                  VIEW   \n...                                         ...                   ...   \n41519  WorkflowTasksSelectByWorkflowSubreportRS  SQL_STORED_PROCEDURE   \n41520  WorkflowTasksSelectByWorkflowSubreportRS  SQL_STORED_PROCEDURE   \n41521  WorkflowTasksSelectByWorkflowSubreportRS  SQL_STORED_PROCEDURE   \n41522                   WorkflowTasksSelectList  SQL_STORED_PROCEDURE   \n41523                       WorkflowTasksUpdate  SQL_STORED_PROCEDURE   \n\n      referenced_server_name     referenced_db_name referenced_schema_name  \\\n0                       None                     BI                    dbo   \n1                       None  AX_SECURE_PRD_REPLICA                    dbo   \n2                       None  AX_SECURE_PRD_REPLICA                    dbo   \n3                       None                     BI                    dbo   \n4                       None                     BI                    dbo   \n...                      ...                    ...                    ...   \n41519                   None    iTrak3_SecureEnergy                    dbo   \n41520                   None    iTrak3_SecureEnergy                    dbo   \n41521                   None    iTrak3_SecureEnergy                    dbo   \n41522                   None    iTrak3_SecureEnergy                    dbo   \n41523                   None    iTrak3_SecureEnergy                    dbo   \n\n      referenced_entity_name  \n0            AX_Budget_Trans  \n1                MAINACCOUNT  \n2        MAINACCOUNTCATEGORY  \n3         AX_GL_TransDetails  \n4         AX_Customer_Master  \n...                      ...  \n41519   TaskStatusTranslated  \n41520    TaskTypesTranslated  \n41521          WorkflowTasks  \n41522          WorkflowTasks  \n41523          WorkflowTasks  \n\n[70402 rows x 8 columns]",
      "text/html": "<div>\n<style scoped>\n    .dataframe tbody tr th:only-of-type {\n        vertical-align: middle;\n    }\n\n    .dataframe tbody tr th {\n        vertical-align: top;\n    }\n\n    .dataframe thead th {\n        text-align: right;\n    }\n</style>\n<table border=\"1\" class=\"dataframe\">\n  <thead>\n    <tr style=\"text-align: right;\">\n      <th></th>\n      <th>DATABASE</th>\n      <th>referencing_schema_name</th>\n      <th>referencing_object_name</th>\n      <th>referencing_type_desc</th>\n      <th>referenced_server_name</th>\n      <th>referenced_db_name</th>\n      <th>referenced_schema_name</th>\n      <th>referenced_entity_name</th>\n    </tr>\n  </thead>\n  <tbody>\n    <tr>\n      <th>0</th>\n      <td>APPS</td>\n      <td>dbo</td>\n      <td>AX_GL_BudgetDetails</td>\n      <td>VIEW</td>\n      <td>None</td>\n      <td>BI</td>\n      <td>dbo</td>\n      <td>AX_Budget_Trans</td>\n    </tr>\n    <tr>\n      <th>1</th>\n      <td>APPS</td>\n      <td>dbo</td>\n      <td>AX_GL_Master</td>\n      <td>VIEW</td>\n      <td>None</td>\n      <td>AX_SECURE_PRD_REPLICA</td>\n      <td>dbo</td>\n      <td>MAINACCOUNT</td>\n    </tr>\n    <tr>\n      <th>2</th>\n      <td>APPS</td>\n      <td>dbo</td>\n      <td>AX_GL_Master</td>\n      <td>VIEW</td>\n      <td>None</td>\n      <td>AX_SECURE_PRD_REPLICA</td>\n      <td>dbo</td>\n      <td>MAINACCOUNTCATEGORY</td>\n    </tr>\n    <tr>\n      <th>3</th>\n      <td>APPS</td>\n      <td>dbo</td>\n      <td>AX_GL_TransDetails</td>\n      <td>VIEW</td>\n      <td>None</td>\n      <td>BI</td>\n      <td>dbo</td>\n      <td>AX_GL_TransDetails</td>\n    </tr>\n    <tr>\n      <th>4</th>\n      <td>APPS</td>\n      <td>dbo</td>\n      <td>AX_PChemCustomer</td>\n      <td>VIEW</td>\n      <td>None</td>\n      <td>BI</td>\n      <td>dbo</td>\n      <td>AX_Customer_Master</td>\n    </tr>\n    <tr>\n      <th>...</th>\n      <td>...</td>\n      <td>...</td>\n      <td>...</td>\n      <td>...</td>\n      <td>...</td>\n      <td>...</td>\n      <td>...</td>\n      <td>...</td>\n    </tr>\n    <tr>\n      <th>41519</th>\n      <td>iTrak3_SecureEnergy</td>\n      <td>dbo</td>\n      <td>WorkflowTasksSelectByWorkflowSubreportRS</td>\n      <td>SQL_STORED_PROCEDURE</td>\n      <td>None</td>\n      <td>iTrak3_SecureEnergy</td>\n      <td>dbo</td>\n      <td>TaskStatusTranslated</td>\n    </tr>\n    <tr>\n      <th>41520</th>\n      <td>iTrak3_SecureEnergy</td>\n      <td>dbo</td>\n      <td>WorkflowTasksSelectByWorkflowSubreportRS</td>\n      <td>SQL_STORED_PROCEDURE</td>\n      <td>None</td>\n      <td>iTrak3_SecureEnergy</td>\n      <td>dbo</td>\n      <td>TaskTypesTranslated</td>\n    </tr>\n    <tr>\n      <th>41521</th>\n      <td>iTrak3_SecureEnergy</td>\n      <td>dbo</td>\n      <td>WorkflowTasksSelectByWorkflowSubreportRS</td>\n      <td>SQL_STORED_PROCEDURE</td>\n      <td>None</td>\n      <td>iTrak3_SecureEnergy</td>\n      <td>dbo</td>\n      <td>WorkflowTasks</td>\n    </tr>\n    <tr>\n      <th>41522</th>\n      <td>iTrak3_SecureEnergy</td>\n      <td>dbo</td>\n      <td>WorkflowTasksSelectList</td>\n      <td>SQL_STORED_PROCEDURE</td>\n      <td>None</td>\n      <td>iTrak3_SecureEnergy</td>\n      <td>dbo</td>\n      <td>WorkflowTasks</td>\n    </tr>\n    <tr>\n      <th>41523</th>\n      <td>iTrak3_SecureEnergy</td>\n      <td>dbo</td>\n      <td>WorkflowTasksUpdate</td>\n      <td>SQL_STORED_PROCEDURE</td>\n      <td>None</td>\n      <td>iTrak3_SecureEnergy</td>\n      <td>dbo</td>\n      <td>WorkflowTasks</td>\n    </tr>\n  </tbody>\n</table>\n<p>70402 rows × 8 columns</p>\n</div>"
     },
     "execution_count": 6,
     "metadata": {},
     "output_type": "execute_result"
    }
   ],
   "source": [
    "deps\n"
   ],
   "metadata": {
    "collapsed": false,
    "pycharm": {
     "name": "#%%\n"
    }
   }
  },
  {
   "cell_type": "code",
   "execution_count": 7,
   "outputs": [
    {
     "data": {
      "text/plain": "                    DATABASE referencing_schema_name  \\\n0                       APPS                     dbo   \n24974  AX_SECURE_PRD_REPLICA                    temp   \n24975  AX_SECURE_PRD_REPLICA                    temp   \n24979  AX_SECURE_PRD_REPLICA                    temp   \n24980  AX_SECURE_PRD_REPLICA                    temp   \n1217                      BI                     dbo   \n1455                      BI                    temp   \n\n                                 referencing_object_name referencing_type_desc  \n0                                    AX_GL_BudgetDetails                  VIEW  \n24974  /_Master/PRD-FIN-01 Facility Roll Up Print Cop...  SQL_STORED_PROCEDURE  \n24975  /_Master/PRD-FIN-01 Facility Roll Up Print Cop...  SQL_STORED_PROCEDURE  \n24979  /_Master/PRD-FIN-01 Facility Roll Up Print Cop...  SQL_STORED_PROCEDURE  \n24980    /_Master/PRD-FIN-02 PRD Summary Report - CAN__1  SQL_STORED_PROCEDURE  \n1217                               zPowerBI_PRDQForecast                  VIEW  \n1455   /Report Parts/Admin Temp/PRD-FIN-XX PRD Summar...  SQL_STORED_PROCEDURE  ",
      "text/html": "<div>\n<style scoped>\n    .dataframe tbody tr th:only-of-type {\n        vertical-align: middle;\n    }\n\n    .dataframe tbody tr th {\n        vertical-align: top;\n    }\n\n    .dataframe thead th {\n        text-align: right;\n    }\n</style>\n<table border=\"1\" class=\"dataframe\">\n  <thead>\n    <tr style=\"text-align: right;\">\n      <th></th>\n      <th>DATABASE</th>\n      <th>referencing_schema_name</th>\n      <th>referencing_object_name</th>\n      <th>referencing_type_desc</th>\n    </tr>\n  </thead>\n  <tbody>\n    <tr>\n      <th>0</th>\n      <td>APPS</td>\n      <td>dbo</td>\n      <td>AX_GL_BudgetDetails</td>\n      <td>VIEW</td>\n    </tr>\n    <tr>\n      <th>24974</th>\n      <td>AX_SECURE_PRD_REPLICA</td>\n      <td>temp</td>\n      <td>/_Master/PRD-FIN-01 Facility Roll Up Print Cop...</td>\n      <td>SQL_STORED_PROCEDURE</td>\n    </tr>\n    <tr>\n      <th>24975</th>\n      <td>AX_SECURE_PRD_REPLICA</td>\n      <td>temp</td>\n      <td>/_Master/PRD-FIN-01 Facility Roll Up Print Cop...</td>\n      <td>SQL_STORED_PROCEDURE</td>\n    </tr>\n    <tr>\n      <th>24979</th>\n      <td>AX_SECURE_PRD_REPLICA</td>\n      <td>temp</td>\n      <td>/_Master/PRD-FIN-01 Facility Roll Up Print Cop...</td>\n      <td>SQL_STORED_PROCEDURE</td>\n    </tr>\n    <tr>\n      <th>24980</th>\n      <td>AX_SECURE_PRD_REPLICA</td>\n      <td>temp</td>\n      <td>/_Master/PRD-FIN-02 PRD Summary Report - CAN__1</td>\n      <td>SQL_STORED_PROCEDURE</td>\n    </tr>\n    <tr>\n      <th>1217</th>\n      <td>BI</td>\n      <td>dbo</td>\n      <td>zPowerBI_PRDQForecast</td>\n      <td>VIEW</td>\n    </tr>\n    <tr>\n      <th>1455</th>\n      <td>BI</td>\n      <td>temp</td>\n      <td>/Report Parts/Admin Temp/PRD-FIN-XX PRD Summar...</td>\n      <td>SQL_STORED_PROCEDURE</td>\n    </tr>\n  </tbody>\n</table>\n</div>"
     },
     "execution_count": 7,
     "metadata": {},
     "output_type": "execute_result"
    }
   ],
   "source": [
    "get_children(deps, 'BI', 'dbo', 'AX_Budget_Trans')"
   ],
   "metadata": {
    "collapsed": false,
    "pycharm": {
     "name": "#%%\n"
    }
   }
  },
  {
   "cell_type": "markdown",
   "source": [
    "## VIEWS"
   ],
   "metadata": {
    "collapsed": false,
    "pycharm": {
     "name": "#%% md\n"
    }
   }
  },
  {
   "cell_type": "code",
   "execution_count": null,
   "outputs": [],
   "source": [
    "engine = connect_sqlserver_windowsauth('bidatacentre','BI')\n",
    "vcd = fetch_view_column_details(engine)\n",
    "vcd.nunique()"
   ],
   "metadata": {
    "collapsed": false,
    "pycharm": {
     "name": "#%%\n"
    }
   }
  },
  {
   "cell_type": "code",
   "execution_count": 33,
   "outputs": [
    {
     "data": {
      "text/plain": "Company                 79\nLocation                50\nDivision                46\nBusinessUnit            42\nProjectID               40\n                        ..\nBusinessDimension        1\nBillableExportID         1\nBillable_ExportMonth     1\nBillable_ExportDate      1\nSub_Expiry               1\nName: column_name, Length: 2500, dtype: int64"
     },
     "execution_count": 33,
     "metadata": {},
     "output_type": "execute_result"
    }
   ],
   "source": [
    "# Most common columns in views\n",
    "vcd.column_name.value_counts()"
   ],
   "metadata": {
    "collapsed": false,
    "pycharm": {
     "name": "#%%\n"
    }
   }
  },
  {
   "cell_type": "code",
   "execution_count": 24,
   "outputs": [
    {
     "data": {
      "text/plain": "schema_name        2\nview_name        214\ncreated          214\nlast_modified    214\ndefinition       214\ncomments           0\ndtype: int64"
     },
     "execution_count": 24,
     "metadata": {},
     "output_type": "execute_result"
    }
   ],
   "source": [
    "view_def = fetch_view_definitions(engine)\n",
    "view_def.nunique()"
   ],
   "metadata": {
    "collapsed": false,
    "pycharm": {
     "name": "#%%\n"
    }
   }
  },
  {
   "cell_type": "code",
   "execution_count": 33,
   "outputs": [],
   "source": [],
   "metadata": {
    "collapsed": false,
    "pycharm": {
     "name": "#%%\n"
    }
   }
  },
  {
   "cell_type": "code",
   "execution_count": 102,
   "outputs": [
    {
     "name": "stdout",
     "output_type": "stream",
     "text": [
      "\r\n",
      "\r\n",
      "\r\n",
      "\r\n",
      "\r\n",
      "\r\n",
      "\r\n",
      "\r\n",
      "\r\n",
      "\r\n",
      "\r\n",
      "CREATE VIEW [dbo].[FC_Truck_Ticket_View] AS\r\n",
      "\r\n",
      "SELECT * FROM OPENQUERY(FCP, '\r\n",
      "\r\n",
      "SELECT T1.TICKET_INDEX,\r\n",
      "\t   T2.TICKET_ID,\r\n",
      "\t   T1.DEVICE_NUMBER,\r\n",
      "\t   T2.HOST_ID,\r\n",
      "\t   T8.COMPANY_NAME AS CUSTOMER,\r\n",
      "\t   T3.NAME AS PRODUCT_NAME,\r\n",
      "\t   T5.DESTINATION_ORIGIN_LABEL AS ORIGIN,\r\n",
      "\t   T4.DESTINATION_ORIGIN_LABEL AS DESTINATION,\r\n",
      "\t   T7.COMPANY_NAME AS TRANSPORTER,\r\n",
      "\t   T6.COMPANY_NAME AS SHIPPER,\r\n",
      "\t   T9.COMPANY_NAME AS COSIGNOR,\r\n",
      "\t   T10.COMPANY_NAME AS CONSIGNEE,\r\n",
      "\t   T1.SEQUENCE_NUMBER,\r\n",
      "\t   T1.EFFECTIVE_DATE,\r\n",
      "\t   T1.GMS_DATE,\r\n",
      "\t   T1.GMS_USER,\r\n",
      "\t   T1.DEVICE_TYPE,\r\n",
      "\t   T1.ORIGIN_INDEX,\r\n",
      "\t   T1.DESTINATION_INDEX,\r\n",
      "\t   T1.SHIPPER_INDEX,\r\n",
      "\t   T1.TRANSPORTER_INDEX,\r\n",
      "\t   T1.PRODUCT_INDEX,\r\n",
      "\t   T1.MANIFEST_ID,\r\n",
      "\t   T1.MOVEMENT_START_DATE,\r\n",
      "\t   T1.MOVEMENT_END_DATE,\r\n",
      "\t   T1.PRESSURE,\r\n",
      "\t   T1.PULSES,\r\n",
      "\t   T1.INDICATED_VOLUME,\r\n",
      "\t   T1.GROSS_VOLUME,\r\n",
      "\t   T1.GROSS_STD_VOLUME,\r\n",
      "\t   T1.NET_STD_VOLUME,\r\n",
      "\t   T1.SEDIMENT_WATER_VOLUME,\r\n",
      "\t   T1.SEDIMENT_WATER_CORRECTION,\r\n",
      "\t   T1.OBSERVED_DENSITY,\r\n",
      "\t   T1.DENSITOMETER_RESULTS,\r\n",
      "\t   T1.DENSITY_TEMPERATURE,\r\n",
      "\t   T1.METER_FLOWING_DENSITY,\r\n",
      "\t   T1.TEMPERATURE,\r\n",
      "\t   T1.USER_DEFINED_S01,\r\n",
      "\t   T1.USER_DEFINED_S02,\r\n",
      "\t   T1.USER_DEFINED_N01,\r\n",
      "\t   T1.TICKET_TYPE,\r\n",
      "\t   T1.BASE_DENSITY,\r\n",
      "\t   T1.SC_BASE_DENSITY,\r\n",
      "\t   T1.SC_METER_FLOWING_DENSITY,\r\n",
      "\t   T1.CPL,\r\n",
      "\t   T1.CTPL,\r\n",
      "\t   T1.OBS_TO_BASE_CTL,\r\n",
      "\t   T1.OBS_TO_BASE_CPL,\r\n",
      "\t   T1.OBS_TO_BASE_CTPL,\r\n",
      "\t   T1.SC_CTL,\r\n",
      "\t   T1.SC_CPL,\r\n",
      "\t   T1.SC_CTPL,\r\n",
      "\t   T1.SC_OBS_TO_BASE_CTL,\r\n",
      "\t   T1.SC_OBS_TO_BASE_CPL,\r\n",
      "\t   T1.VAPOR_PRESSURE,\r\n",
      "\t   T1.OBS_VAPOR_PRESSURE,\r\n",
      "\t   T1.SC_VAPOR_PRESSURE,\r\n",
      "\t   T1.SC_OBS_VAPOR_PRESSURE,\r\n",
      "\t   T1.LIQUID_MASS,\r\n",
      "\t   T1.SC_LIQUID_MASS,\r\n",
      "\t   T1.SC_GAS_EQUIV_VOLUME,\r\n",
      "\t   T1.SC_GAS_EQUIV_ENERGY,\r\n",
      "\t   T1.RECALC_FLAG,\r\n",
      "\t   T1.TICKET_NUMBER,\r\n",
      "\t   T1.SC_TICKET_NUMBER,\r\n",
      "\t   T1.FLOWING_DENSITY_UNCORRECTED,\r\n",
      "\t   T1.SC_FLOWING_DENSITY_UNCORRECTED,\r\n",
      "\t   T1.LEVEL_TYPE,\r\n",
      "\t   T1.SC_GROSS_STD_VOLUME,\r\n",
      "\t   T1.SC_SEDIMENT_WATER_VOLUME,\r\n",
      "\t   T1.CUSTOMER_INDEX,\r\n",
      "\t   T1.CLOSE_TOTAL_OBSERVED_VOLUME,\r\n",
      "\t   T1.CLOSE_GROSS_STD_VOLUME,\r\n",
      "\t   T1.CLOSE_NET_STD_VOLUME,\r\n",
      "\t   T1.TRANSPORT_METHOD,\r\n",
      "\t   T1.GROSS_STD_VOLUME_SYS,\r\n",
      "\t   T1.NET_STD_VOLUME_SYS,\r\n",
      "\t   T1.SEDIMENT_WATER_VOLUME_SYS,\r\n",
      "\t   T1.LIQUID_MASS_SYS,\r\n",
      "\t   T1.TICKET_STATUS,\r\n",
      "\t   T1.SC_TICKET_STATUS,\r\n",
      "\t   T1.TO_FACILITY_INDEX,\r\n",
      "\t   T1.CONSIGNEE_INDEX,\r\n",
      "\t   T1.CONSIGNOR_INDEX,\r\n",
      "\t   T1.IMPORTED_SEQUENCE_NUMBER,\r\n",
      "\t   T1.DRIVER_ID,\r\n",
      "\t   T1.METER_ID,\r\n",
      "\t   T1.TRAILER_NUMBER,\r\n",
      "\t   T1.SC_PULSES,\r\n",
      "\t   T1.SC_INDICATED_VOLUME,\r\n",
      "\t   T1.COMBINED_CORRECTION_FACTOR,\r\n",
      "\t   T1.SC_COMBINED_CORRECTION_FACTOR,\r\n",
      "\t   T1.APPLY_HYDROMETER_CORRECTION,\r\n",
      "\t   T1.GSV_CORRELATION_FACTOR,\r\n",
      "\t   T1.SC_GSV_CORRELATION_FACTOR,\r\n",
      "\t   T1.NSV_CORRELATION_FACTOR,\r\n",
      "\t   T1.SC_NSV_CORRELATION_FACTOR,\r\n",
      "\t   T1.MASS_CORRELATION_FACTOR,\r\n",
      "\t   T1.SC_MASS_CORRELATION_FACTOR,\r\n",
      "\t   T1.SWV_CORRELATION_FACTOR,\r\n",
      "\t   T1.SC_SWV_CORRELATION_FACTOR\r\n",
      "FROM FC_TICKET_PERIODIC_VALUES T1\r\n",
      "INNER JOIN FC_TICKET T2 ON T1.TICKET_INDEX = T2.TICKET_INDEX\r\n",
      "LEFT JOIN FC_PRODUCT T3 ON T3.PRODUCT_INDEX = T1.PRODUCT_INDEX\r\n",
      "LEFT JOIN FC_DESTINATION_ORIGIN T4 ON T1.DESTINATION_INDEX = T4.DESTINATION_ORIGIN_INDEX AND T4.IS_DESTINATION = ''Y''\r\n",
      "LEFT JOIN FC_DESTINATION_ORIGIN T5 ON T1.ORIGIN_INDEX = T5.DESTINATION_ORIGIN_INDEX AND T5.IS_ORIGIN = ''Y''\r\n",
      "LEFT JOIN FC_CUSTOMER T6 ON T1.SHIPPER_INDEX = T6.CUSTOMER_INDEX AND T6.SHIPPER = ''Y''\r\n",
      "LEFT JOIN FC_CUSTOMER T7 ON T1.TRANSPORTER_INDEX = T7.CUSTOMER_INDEX AND T7.TRANSPORTER = ''Y''\r\n",
      "LEFT JOIN FC_CUSTOMER T8 ON T1.CUSTOMER_INDEX = T8.CUSTOMER_INDEX\r\n",
      "LEFT JOIN FC_CUSTOMER T9 ON T1.CONSIGNOR_INDEX = T9.CUSTOMER_INDEX AND T9.CONSIGNOR_TRUCK = ''Y''\r\n",
      "LEFT JOIN FC_CUSTOMER T10 ON T1.CONSIGNEE_INDEX = T10.CUSTOMER_INDEX AND T10.CONSIGNEE_TRUCK = ''Y''\r\n",
      "ORDER BY EFFECTIVE_DATE\r\n",
      "')\r\n",
      "\r\n",
      "\r\n",
      "\r\n",
      "\r\n",
      "\r\n",
      "\n"
     ]
    }
   ],
   "source": [
    "# Get 1 definition to play with\n",
    "defn = view_def['definition'][99]\n",
    "print(defn)"
   ],
   "metadata": {
    "collapsed": false,
    "pycharm": {
     "name": "#%%\n"
    }
   }
  },
  {
   "cell_type": "code",
   "execution_count": 111,
   "outputs": [
    {
     "name": "stdout",
     "output_type": "stream",
     "text": [
      "SELECT * FROM OPENQUERY(FCP, 'SELECT T1.TICKET_INDEX,       T2.TICKET_ID,       T1.DEVICE_NUMBER,       T2.HOST_ID,       T8.COMPANY_NAME AS CUSTOMER,       T3.NAME AS PRODUCT_NAME,       T5.DESTINATION_ORIGIN_LABEL AS ORIGIN,       T4.DESTINATION_ORIGIN_LABEL AS DESTINATION,       T7.COMPANY_NAME AS TRANSPORTER,       T6.COMPANY_NAME AS SHIPPER,       T9.COMPANY_NAME AS COSIGNOR,       T10.COMPANY_NAME AS CONSIGNEE,       T1.SEQUENCE_NUMBER,       T1.EFFECTIVE_DATE,       T1.GMS_DATE,       T1.GMS_USER,       T1.DEVICE_TYPE,       T1.ORIGIN_INDEX,       T1.DESTINATION_INDEX,       T1.SHIPPER_INDEX,       T1.TRANSPORTER_INDEX,       T1.PRODUCT_INDEX,       T1.MANIFEST_ID,       T1.MOVEMENT_START_DATE,       T1.MOVEMENT_END_DATE,       T1.PRESSURE,       T1.PULSES,       T1.INDICATED_VOLUME,       T1.GROSS_VOLUME,       T1.GROSS_STD_VOLUME,       T1.NET_STD_VOLUME,       T1.SEDIMENT_WATER_VOLUME,       T1.SEDIMENT_WATER_CORRECTION,       T1.OBSERVED_DENSITY,       T1.DENSITOMETER_RESULTS,       T1.DENSITY_TEMPERATURE,       T1.METER_FLOWING_DENSITY,       T1.TEMPERATURE,       T1.USER_DEFINED_S01,       T1.USER_DEFINED_S02,       T1.USER_DEFINED_N01,       T1.TICKET_TYPE,       T1.BASE_DENSITY,       T1.SC_BASE_DENSITY,       T1.SC_METER_FLOWING_DENSITY,       T1.CPL,       T1.CTPL,       T1.OBS_TO_BASE_CTL,       T1.OBS_TO_BASE_CPL,       T1.OBS_TO_BASE_CTPL,       T1.SC_CTL,       T1.SC_CPL,       T1.SC_CTPL,       T1.SC_OBS_TO_BASE_CTL,       T1.SC_OBS_TO_BASE_CPL,       T1.VAPOR_PRESSURE,       T1.OBS_VAPOR_PRESSURE,       T1.SC_VAPOR_PRESSURE,       T1.SC_OBS_VAPOR_PRESSURE,       T1.LIQUID_MASS,       T1.SC_LIQUID_MASS,       T1.SC_GAS_EQUIV_VOLUME,       T1.SC_GAS_EQUIV_ENERGY,       T1.RECALC_FLAG,       T1.TICKET_NUMBER,       T1.SC_TICKET_NUMBER,       T1.FLOWING_DENSITY_UNCORRECTED,       T1.SC_FLOWING_DENSITY_UNCORRECTED,       T1.LEVEL_TYPE,       T1.SC_GROSS_STD_VOLUME,       T1.SC_SEDIMENT_WATER_VOLUME,       T1.CUSTOMER_INDEX,       T1.CLOSE_TOTAL_OBSERVED_VOLUME,       T1.CLOSE_GROSS_STD_VOLUME,       T1.CLOSE_NET_STD_VOLUME,       T1.TRANSPORT_METHOD,       T1.GROSS_STD_VOLUME_SYS,       T1.NET_STD_VOLUME_SYS,       T1.SEDIMENT_WATER_VOLUME_SYS,       T1.LIQUID_MASS_SYS,       T1.TICKET_STATUS,       T1.SC_TICKET_STATUS,       T1.TO_FACILITY_INDEX,       T1.CONSIGNEE_INDEX,       T1.CONSIGNOR_INDEX,       T1.IMPORTED_SEQUENCE_NUMBER,       T1.DRIVER_ID,       T1.METER_ID,       T1.TRAILER_NUMBER,       T1.SC_PULSES,       T1.SC_INDICATED_VOLUME,       T1.COMBINED_CORRECTION_FACTOR,       T1.SC_COMBINED_CORRECTION_FACTOR,       T1.APPLY_HYDROMETER_CORRECTION,       T1.GSV_CORRELATION_FACTOR,       T1.SC_GSV_CORRELATION_FACTOR,       T1.NSV_CORRELATION_FACTOR,       T1.SC_NSV_CORRELATION_FACTOR,       T1.MASS_CORRELATION_FACTOR,       T1.SC_MASS_CORRELATION_FACTOR,       T1.SWV_CORRELATION_FACTOR,       T1.SC_SWV_CORRELATION_FACTORFROM FC_TICKET_PERIODIC_VALUES T1INNER JOIN FC_TICKET T2 ON T1.TICKET_INDEX = T2.TICKET_INDEXLEFT JOIN FC_PRODUCT T3 ON T3.PRODUCT_INDEX = T1.PRODUCT_INDEXLEFT JOIN FC_DESTINATION_ORIGIN T4 ON T1.DESTINATION_INDEX = T4.DESTINATION_ORIGIN_INDEX AND T4.IS_DESTINATION = ''Y''LEFT JOIN FC_DESTINATION_ORIGIN T5 ON T1.ORIGIN_INDEX = T5.DESTINATION_ORIGIN_INDEX AND T5.IS_ORIGIN = ''Y''LEFT JOIN FC_CUSTOMER T6 ON T1.SHIPPER_INDEX = T6.CUSTOMER_INDEX AND T6.SHIPPER = ''Y''LEFT JOIN FC_CUSTOMER T7 ON T1.TRANSPORTER_INDEX = T7.CUSTOMER_INDEX AND T7.TRANSPORTER = ''Y''LEFT JOIN FC_CUSTOMER T8 ON T1.CUSTOMER_INDEX = T8.CUSTOMER_INDEXLEFT JOIN FC_CUSTOMER T9 ON T1.CONSIGNOR_INDEX = T9.CUSTOMER_INDEX AND T9.CONSIGNOR_TRUCK = ''Y''LEFT JOIN FC_CUSTOMER T10 ON T1.CONSIGNEE_INDEX = T10.CUSTOMER_INDEX AND T10.CONSIGNEE_TRUCK = ''Y''ORDER BY EFFECTIVE_DATE')\n"
     ]
    }
   ],
   "source": [
    "#  defn.replace(\"CREATE VIEW _anything_ AS\",\"\")\n",
    "new_defn = re.sub(\"CREATE VIEW (.*) AS\", \"\", defn)\n",
    "# Remove [ ]  from query text\n",
    "new_defn = new_defn.replace(\"[\",\"\").replace(\"]\",\"\").replace(\"\\r\",\"\").replace(\"\\n\",\"\").replace(\"\\t\",\"    \")\n",
    "print(new_defn)"
   ],
   "metadata": {
    "collapsed": false,
    "pycharm": {
     "name": "#%%\n"
    }
   }
  },
  {
   "cell_type": "markdown",
   "source": [
    "### Cleanup SQL formatting for display to user"
   ],
   "metadata": {
    "collapsed": false,
    "pycharm": {
     "name": "#%% md\n"
    }
   }
  },
  {
   "cell_type": "code",
   "execution_count": 112,
   "outputs": [
    {
     "data": {
      "text/plain": "\"SELECT *\\nFROM OPENQUERY(FCP, 'SELECT T1.TICKET_INDEX,       T2.TICKET_ID,       T1.DEVICE_NUMBER,       T2.HOST_ID,       T8.COMPANY_NAME AS CUSTOMER,       T3.NAME AS PRODUCT_NAME,       T5.DESTINATION_ORIGIN_LABEL AS ORIGIN,       T4.DESTINATION_ORIGIN_LABEL AS DESTINATION,       T7.COMPANY_NAME AS TRANSPORTER,       T6.COMPANY_NAME AS SHIPPER,       T9.COMPANY_NAME AS COSIGNOR,       T10.COMPANY_NAME AS CONSIGNEE,       T1.SEQUENCE_NUMBER,       T1.EFFECTIVE_DATE,       T1.GMS_DATE,       T1.GMS_USER,       T1.DEVICE_TYPE,       T1.ORIGIN_INDEX,       T1.DESTINATION_INDEX,       T1.SHIPPER_INDEX,       T1.TRANSPORTER_INDEX,       T1.PRODUCT_INDEX,       T1.MANIFEST_ID,       T1.MOVEMENT_START_DATE,       T1.MOVEMENT_END_DATE,       T1.PRESSURE,       T1.PULSES,       T1.INDICATED_VOLUME,       T1.GROSS_VOLUME,       T1.GROSS_STD_VOLUME,       T1.NET_STD_VOLUME,       T1.SEDIMENT_WATER_VOLUME,       T1.SEDIMENT_WATER_CORRECTION,       T1.OBSERVED_DENSITY,       T1.DENSITOMETER_RESULTS,       T1.DENSITY_TEMPERATURE,       T1.METER_FLOWING_DENSITY,       T1.TEMPERATURE,       T1.USER_DEFINED_S01,       T1.USER_DEFINED_S02,       T1.USER_DEFINED_N01,       T1.TICKET_TYPE,       T1.BASE_DENSITY,       T1.SC_BASE_DENSITY,       T1.SC_METER_FLOWING_DENSITY,       T1.CPL,       T1.CTPL,       T1.OBS_TO_BASE_CTL,       T1.OBS_TO_BASE_CPL,       T1.OBS_TO_BASE_CTPL,       T1.SC_CTL,       T1.SC_CPL,       T1.SC_CTPL,       T1.SC_OBS_TO_BASE_CTL,       T1.SC_OBS_TO_BASE_CPL,       T1.VAPOR_PRESSURE,       T1.OBS_VAPOR_PRESSURE,       T1.SC_VAPOR_PRESSURE,       T1.SC_OBS_VAPOR_PRESSURE,       T1.LIQUID_MASS,       T1.SC_LIQUID_MASS,       T1.SC_GAS_EQUIV_VOLUME,       T1.SC_GAS_EQUIV_ENERGY,       T1.RECALC_FLAG,       T1.TICKET_NUMBER,       T1.SC_TICKET_NUMBER,       T1.FLOWING_DENSITY_UNCORRECTED,       T1.SC_FLOWING_DENSITY_UNCORRECTED,       T1.LEVEL_TYPE,       T1.SC_GROSS_STD_VOLUME,       T1.SC_SEDIMENT_WATER_VOLUME,       T1.CUSTOMER_INDEX,       T1.CLOSE_TOTAL_OBSERVED_VOLUME,       T1.CLOSE_GROSS_STD_VOLUME,       T1.CLOSE_NET_STD_VOLUME,       T1.TRANSPORT_METHOD,       T1.GROSS_STD_VOLUME_SYS,       T1.NET_STD_VOLUME_SYS,       T1.SEDIMENT_WATER_VOLUME_SYS,       T1.LIQUID_MASS_SYS,       T1.TICKET_STATUS,       T1.SC_TICKET_STATUS,       T1.TO_FACILITY_INDEX,       T1.CONSIGNEE_INDEX,       T1.CONSIGNOR_INDEX,       T1.IMPORTED_SEQUENCE_NUMBER,       T1.DRIVER_ID,       T1.METER_ID,       T1.TRAILER_NUMBER,       T1.SC_PULSES,       T1.SC_INDICATED_VOLUME,       T1.COMBINED_CORRECTION_FACTOR,       T1.SC_COMBINED_CORRECTION_FACTOR,       T1.APPLY_HYDROMETER_CORRECTION,       T1.GSV_CORRELATION_FACTOR,       T1.SC_GSV_CORRELATION_FACTOR,       T1.NSV_CORRELATION_FACTOR,       T1.SC_NSV_CORRELATION_FACTOR,       T1.MASS_CORRELATION_FACTOR,       T1.SC_MASS_CORRELATION_FACTOR,       T1.SWV_CORRELATION_FACTOR,       T1.SC_SWV_CORRELATION_FACTORFROM FC_TICKET_PERIODIC_VALUES T1INNER JOIN FC_TICKET T2 ON T1.TICKET_INDEX = T2.TICKET_INDEXLEFT JOIN FC_PRODUCT T3 ON T3.PRODUCT_INDEX = T1.PRODUCT_INDEXLEFT JOIN FC_DESTINATION_ORIGIN T4 ON T1.DESTINATION_INDEX = T4.DESTINATION_ORIGIN_INDEX AND T4.IS_DESTINATION = ''Y''LEFT JOIN FC_DESTINATION_ORIGIN T5 ON T1.ORIGIN_INDEX = T5.DESTINATION_ORIGIN_INDEX AND T5.IS_ORIGIN = ''Y''LEFT JOIN FC_CUSTOMER T6 ON T1.SHIPPER_INDEX = T6.CUSTOMER_INDEX AND T6.SHIPPER = ''Y''LEFT JOIN FC_CUSTOMER T7 ON T1.TRANSPORTER_INDEX = T7.CUSTOMER_INDEX AND T7.TRANSPORTER = ''Y''LEFT JOIN FC_CUSTOMER T8 ON T1.CUSTOMER_INDEX = T8.CUSTOMER_INDEXLEFT JOIN FC_CUSTOMER T9 ON T1.CONSIGNOR_INDEX = T9.CUSTOMER_INDEX AND T9.CONSIGNOR_TRUCK = ''Y''LEFT JOIN FC_CUSTOMER T10 ON T1.CONSIGNEE_INDEX = T10.CUSTOMER_INDEX AND T10.CONSIGNEE_TRUCK = ''Y''ORDER BY EFFECTIVE_DATE')\""
     },
     "execution_count": 112,
     "metadata": {},
     "output_type": "execute_result"
    }
   ],
   "source": [
    "reformatted = sqlparse.format(new_defn, reindent=True, keyword_case='upper')\n",
    "reformatted"
   ],
   "metadata": {
    "collapsed": false,
    "pycharm": {
     "name": "#%%\n"
    }
   }
  },
  {
   "cell_type": "markdown",
   "source": [
    "### Testing with mo_sql_parse"
   ],
   "metadata": {
    "collapsed": false,
    "pycharm": {
     "name": "#%% md\n"
    }
   }
  },
  {
   "cell_type": "code",
   "execution_count": 113,
   "outputs": [
    {
     "name": "stdout",
     "output_type": "stream",
     "text": [
      "{'from': {'openquery': ['FCP',\n",
      "                        {'literal': 'SELECT T1.TICKET_INDEX,       '\n",
      "                                    'T2.TICKET_ID,       '\n",
      "                                    'T1.DEVICE_NUMBER,       T2.HOST_ID,       '\n",
      "                                    'T8.COMPANY_NAME AS CUSTOMER,       '\n",
      "                                    'T3.NAME AS PRODUCT_NAME,       '\n",
      "                                    'T5.DESTINATION_ORIGIN_LABEL AS '\n",
      "                                    'ORIGIN,       T4.DESTINATION_ORIGIN_LABEL '\n",
      "                                    'AS DESTINATION,       T7.COMPANY_NAME AS '\n",
      "                                    'TRANSPORTER,       T6.COMPANY_NAME AS '\n",
      "                                    'SHIPPER,       T9.COMPANY_NAME AS '\n",
      "                                    'COSIGNOR,       T10.COMPANY_NAME AS '\n",
      "                                    'CONSIGNEE,       '\n",
      "                                    'T1.SEQUENCE_NUMBER,       '\n",
      "                                    'T1.EFFECTIVE_DATE,       '\n",
      "                                    'T1.GMS_DATE,       T1.GMS_USER,       '\n",
      "                                    'T1.DEVICE_TYPE,       '\n",
      "                                    'T1.ORIGIN_INDEX,       '\n",
      "                                    'T1.DESTINATION_INDEX,       '\n",
      "                                    'T1.SHIPPER_INDEX,       '\n",
      "                                    'T1.TRANSPORTER_INDEX,       '\n",
      "                                    'T1.PRODUCT_INDEX,       '\n",
      "                                    'T1.MANIFEST_ID,       '\n",
      "                                    'T1.MOVEMENT_START_DATE,       '\n",
      "                                    'T1.MOVEMENT_END_DATE,       '\n",
      "                                    'T1.PRESSURE,       T1.PULSES,       '\n",
      "                                    'T1.INDICATED_VOLUME,       '\n",
      "                                    'T1.GROSS_VOLUME,       '\n",
      "                                    'T1.GROSS_STD_VOLUME,       '\n",
      "                                    'T1.NET_STD_VOLUME,       '\n",
      "                                    'T1.SEDIMENT_WATER_VOLUME,       '\n",
      "                                    'T1.SEDIMENT_WATER_CORRECTION,       '\n",
      "                                    'T1.OBSERVED_DENSITY,       '\n",
      "                                    'T1.DENSITOMETER_RESULTS,       '\n",
      "                                    'T1.DENSITY_TEMPERATURE,       '\n",
      "                                    'T1.METER_FLOWING_DENSITY,       '\n",
      "                                    'T1.TEMPERATURE,       '\n",
      "                                    'T1.USER_DEFINED_S01,       '\n",
      "                                    'T1.USER_DEFINED_S02,       '\n",
      "                                    'T1.USER_DEFINED_N01,       '\n",
      "                                    'T1.TICKET_TYPE,       '\n",
      "                                    'T1.BASE_DENSITY,       '\n",
      "                                    'T1.SC_BASE_DENSITY,       '\n",
      "                                    'T1.SC_METER_FLOWING_DENSITY,       '\n",
      "                                    'T1.CPL,       T1.CTPL,       '\n",
      "                                    'T1.OBS_TO_BASE_CTL,       '\n",
      "                                    'T1.OBS_TO_BASE_CPL,       '\n",
      "                                    'T1.OBS_TO_BASE_CTPL,       '\n",
      "                                    'T1.SC_CTL,       T1.SC_CPL,       '\n",
      "                                    'T1.SC_CTPL,       '\n",
      "                                    'T1.SC_OBS_TO_BASE_CTL,       '\n",
      "                                    'T1.SC_OBS_TO_BASE_CPL,       '\n",
      "                                    'T1.VAPOR_PRESSURE,       '\n",
      "                                    'T1.OBS_VAPOR_PRESSURE,       '\n",
      "                                    'T1.SC_VAPOR_PRESSURE,       '\n",
      "                                    'T1.SC_OBS_VAPOR_PRESSURE,       '\n",
      "                                    'T1.LIQUID_MASS,       '\n",
      "                                    'T1.SC_LIQUID_MASS,       '\n",
      "                                    'T1.SC_GAS_EQUIV_VOLUME,       '\n",
      "                                    'T1.SC_GAS_EQUIV_ENERGY,       '\n",
      "                                    'T1.RECALC_FLAG,       '\n",
      "                                    'T1.TICKET_NUMBER,       '\n",
      "                                    'T1.SC_TICKET_NUMBER,       '\n",
      "                                    'T1.FLOWING_DENSITY_UNCORRECTED,       '\n",
      "                                    'T1.SC_FLOWING_DENSITY_UNCORRECTED,       '\n",
      "                                    'T1.LEVEL_TYPE,       '\n",
      "                                    'T1.SC_GROSS_STD_VOLUME,       '\n",
      "                                    'T1.SC_SEDIMENT_WATER_VOLUME,       '\n",
      "                                    'T1.CUSTOMER_INDEX,       '\n",
      "                                    'T1.CLOSE_TOTAL_OBSERVED_VOLUME,       '\n",
      "                                    'T1.CLOSE_GROSS_STD_VOLUME,       '\n",
      "                                    'T1.CLOSE_NET_STD_VOLUME,       '\n",
      "                                    'T1.TRANSPORT_METHOD,       '\n",
      "                                    'T1.GROSS_STD_VOLUME_SYS,       '\n",
      "                                    'T1.NET_STD_VOLUME_SYS,       '\n",
      "                                    'T1.SEDIMENT_WATER_VOLUME_SYS,       '\n",
      "                                    'T1.LIQUID_MASS_SYS,       '\n",
      "                                    'T1.TICKET_STATUS,       '\n",
      "                                    'T1.SC_TICKET_STATUS,       '\n",
      "                                    'T1.TO_FACILITY_INDEX,       '\n",
      "                                    'T1.CONSIGNEE_INDEX,       '\n",
      "                                    'T1.CONSIGNOR_INDEX,       '\n",
      "                                    'T1.IMPORTED_SEQUENCE_NUMBER,       '\n",
      "                                    'T1.DRIVER_ID,       T1.METER_ID,       '\n",
      "                                    'T1.TRAILER_NUMBER,       '\n",
      "                                    'T1.SC_PULSES,       '\n",
      "                                    'T1.SC_INDICATED_VOLUME,       '\n",
      "                                    'T1.COMBINED_CORRECTION_FACTOR,       '\n",
      "                                    'T1.SC_COMBINED_CORRECTION_FACTOR,       '\n",
      "                                    'T1.APPLY_HYDROMETER_CORRECTION,       '\n",
      "                                    'T1.GSV_CORRELATION_FACTOR,       '\n",
      "                                    'T1.SC_GSV_CORRELATION_FACTOR,       '\n",
      "                                    'T1.NSV_CORRELATION_FACTOR,       '\n",
      "                                    'T1.SC_NSV_CORRELATION_FACTOR,       '\n",
      "                                    'T1.MASS_CORRELATION_FACTOR,       '\n",
      "                                    'T1.SC_MASS_CORRELATION_FACTOR,       '\n",
      "                                    'T1.SWV_CORRELATION_FACTOR,       '\n",
      "                                    'T1.SC_SWV_CORRELATION_FACTORFROM '\n",
      "                                    'FC_TICKET_PERIODIC_VALUES T1INNER JOIN '\n",
      "                                    'FC_TICKET T2 ON T1.TICKET_INDEX = '\n",
      "                                    'T2.TICKET_INDEXLEFT JOIN FC_PRODUCT T3 ON '\n",
      "                                    'T3.PRODUCT_INDEX = T1.PRODUCT_INDEXLEFT '\n",
      "                                    'JOIN FC_DESTINATION_ORIGIN T4 ON '\n",
      "                                    'T1.DESTINATION_INDEX = '\n",
      "                                    'T4.DESTINATION_ORIGIN_INDEX AND '\n",
      "                                    \"T4.IS_DESTINATION = 'Y'LEFT JOIN \"\n",
      "                                    'FC_DESTINATION_ORIGIN T5 ON '\n",
      "                                    'T1.ORIGIN_INDEX = '\n",
      "                                    'T5.DESTINATION_ORIGIN_INDEX AND '\n",
      "                                    \"T5.IS_ORIGIN = 'Y'LEFT JOIN FC_CUSTOMER \"\n",
      "                                    'T6 ON T1.SHIPPER_INDEX = '\n",
      "                                    'T6.CUSTOMER_INDEX AND T6.SHIPPER = '\n",
      "                                    \"'Y'LEFT JOIN FC_CUSTOMER T7 ON \"\n",
      "                                    'T1.TRANSPORTER_INDEX = T7.CUSTOMER_INDEX '\n",
      "                                    \"AND T7.TRANSPORTER = 'Y'LEFT JOIN \"\n",
      "                                    'FC_CUSTOMER T8 ON T1.CUSTOMER_INDEX = '\n",
      "                                    'T8.CUSTOMER_INDEXLEFT JOIN FC_CUSTOMER T9 '\n",
      "                                    'ON T1.CONSIGNOR_INDEX = T9.CUSTOMER_INDEX '\n",
      "                                    \"AND T9.CONSIGNOR_TRUCK = 'Y'LEFT JOIN \"\n",
      "                                    'FC_CUSTOMER T10 ON T1.CONSIGNEE_INDEX = '\n",
      "                                    'T10.CUSTOMER_INDEX AND '\n",
      "                                    \"T10.CONSIGNEE_TRUCK = 'Y'ORDER BY \"\n",
      "                                    'EFFECTIVE_DATE'}]},\n",
      " 'select': '*'}\n"
     ]
    }
   ],
   "source": [
    "parsed_dict =  mo.parse_sqlserver(reformatted)\n",
    "pprint(parsed_dict)"
   ],
   "metadata": {
    "collapsed": false,
    "pycharm": {
     "name": "#%%\n"
    }
   }
  },
  {
   "cell_type": "markdown",
   "source": [
    "# Testing with sqlglot"
   ],
   "metadata": {
    "collapsed": false,
    "pycharm": {
     "name": "#%% md\n"
    }
   }
  },
  {
   "cell_type": "markdown",
   "source": [
    "### Match table to table alias"
   ],
   "metadata": {
    "collapsed": false,
    "pycharm": {
     "name": "#%% md\n"
    }
   }
  },
  {
   "cell_type": "code",
   "execution_count": 60,
   "outputs": [
    {
     "name": "stdout",
     "output_type": "stream",
     "text": [
      "4 3\n",
      "AX_SECURE_PRD_REPLICA.dbo.docutype ---> DF\n",
      "AX_SECURE_PRD_REPLICA.dbo.DOCUREF ---> t0\n",
      "AX_SECURE_PRD_REPLICA.dbo.ledgerjournaltable ---> DV\n"
     ]
    }
   ],
   "source": [
    "t_list=[]\n",
    "for table in sqlglot.parse_one(reformatted).find_all(sqlglot.exp.Table):\n",
    "    t_list.append(table)\n",
    "ta_list=[]\n",
    "\n",
    "for tablealias in sqlglot.parse_one(reformatted).find_all(sqlglot.exp.TableAlias):\n",
    "    ta_list.append(tablealias)\n",
    "\n",
    "print(len(t_list), len(ta_list))\n",
    "\n",
    "for t,ta in zip(t_list, ta_list):\n",
    "    print(f\"{t} ---> {ta}\")"
   ],
   "metadata": {
    "collapsed": false,
    "pycharm": {
     "name": "#%%\n"
    }
   }
  },
  {
   "cell_type": "code",
   "execution_count": 81,
   "outputs": [],
   "source": [],
   "metadata": {
    "collapsed": false,
    "pycharm": {
     "name": "#%%\n"
    }
   }
  },
  {
   "cell_type": "code",
   "execution_count": 62,
   "outputs": [
    {
     "name": "stdout",
     "output_type": "stream",
     "text": [
      "t0.DATAAREAID\n",
      "t0.POSTEDDATETIME\n",
      "t0.JOURNALNUM\n",
      "df.NAME\n",
      "dv.FILETYPE\n",
      "docutype.ARCHIVEPATH\n",
      "t0.DATAAREAID\n",
      "t0.POSTEDDATETIME\n",
      "docutype.archivepath\n",
      "dv.filename\n",
      "dv.filetype\n",
      "t0.journalnum\n",
      "df.NAME\n",
      "dv.FILETYPE\n",
      "t0.dataareaid\n",
      "t0.journalnum\n",
      "DF.typeid\n",
      "docutype.typeid\n",
      "DF.valuerecid\n",
      "dv.recid\n",
      "df.reftableid\n",
      "dv.FileName\n",
      "DF.refrecid\n",
      "t0.RECID\n",
      "t0.DATAAREAID\n",
      "docutype.DATAAREAID\n",
      "dv.filetype\n",
      "t0.dataareaid\n",
      "t0.journalnum\n",
      "dv.filetype\n",
      "docutype.ARCHIVEPATH\n",
      "dv.fileNAME\n",
      "docutype.ARCHIVEPATH\n",
      "dv.fileNAME\n",
      "dv.filetype\n",
      "docutype.ARCHIVEPATH\n",
      "dv.fileNAME\n"
     ]
    }
   ],
   "source": [
    "for column in sqlglot.parse_one(reformatted).find_all(sqlglot.exp.Column):\n",
    "    print(column)"
   ],
   "metadata": {
    "collapsed": false,
    "pycharm": {
     "name": "#%%\n"
    }
   }
  },
  {
   "cell_type": "code",
   "execution_count": 64,
   "outputs": [
    {
     "name": "stdout",
     "output_type": "stream",
     "text": [
      "Company\n",
      "PostedDate\n",
      "JournalBatchNumber\n",
      "FileDescription\n",
      "FileName\n",
      "FileType\n",
      "FilePath\n",
      "WebPath\n",
      "AttachmentNum\n"
     ]
    }
   ],
   "source": [
    "for select in sqlglot.parse_one(reformatted).find_all(sqlglot.exp.Select):\n",
    "  for projection in select.args[\"expressions\"]:\n",
    "    print(projection.alias_or_name)"
   ],
   "metadata": {
    "collapsed": false,
    "pycharm": {
     "name": "#%%\n"
    }
   }
  },
  {
   "cell_type": "code",
   "execution_count": 76,
   "outputs": [
    {
     "name": "stdout",
     "output_type": "stream",
     "text": [
      "t0.DATAAREAID AS Company\n",
      "(ALIAS this: \n",
      "  (COLUMN this: \n",
      "    (IDENTIFIER this: DATAAREAID, quoted: False), table: \n",
      "    (IDENTIFIER this: t0, quoted: False)), alias: \n",
      "  (IDENTIFIER this: Company, quoted: False))\n",
      "\n",
      "\n",
      "t0.POSTEDDATETIME AS PostedDate\n",
      "(ALIAS this: \n",
      "  (COLUMN this: \n",
      "    (IDENTIFIER this: POSTEDDATETIME, quoted: False), table: \n",
      "    (IDENTIFIER this: t0, quoted: False)), alias: \n",
      "  (IDENTIFIER this: PostedDate, quoted: False))\n",
      "\n",
      "\n",
      "t0.JOURNALNUM AS JournalBatchNumber\n",
      "(ALIAS this: \n",
      "  (COLUMN this: \n",
      "    (IDENTIFIER this: JOURNALNUM, quoted: False), table: \n",
      "    (IDENTIFIER this: t0, quoted: False)), alias: \n",
      "  (IDENTIFIER this: JournalBatchNumber, quoted: False))\n",
      "\n",
      "\n",
      "df.NAME AS FileDescription\n",
      "(ALIAS this: \n",
      "  (COLUMN this: \n",
      "    (IDENTIFIER this: NAME, quoted: False), table: \n",
      "    (IDENTIFIER this: df, quoted: False)), alias: \n",
      "  (IDENTIFIER this: FileDescription, quoted: False))\n",
      "\n",
      "\n",
      "dv.FileName + '.' + dv.FILETYPE AS FileName\n",
      "(ALIAS this: \n",
      "  (ADD this: \n",
      "    (ADD this: \n",
      "      (COLUMN this: \n",
      "        (IDENTIFIER this: FileName, quoted: False), table: \n",
      "        (IDENTIFIER this: dv, quoted: False)), expression: \n",
      "      (LITERAL this: ., is_string: True)), expression: \n",
      "    (COLUMN this: \n",
      "      (IDENTIFIER this: FILETYPE, quoted: False), table: \n",
      "      (IDENTIFIER this: dv, quoted: False))), alias: \n",
      "  (IDENTIFIER this: FileName, quoted: False))\n",
      "\n",
      "\n",
      "dv.FILETYPE AS FileType\n",
      "(ALIAS this: \n",
      "  (COLUMN this: \n",
      "    (IDENTIFIER this: FILETYPE, quoted: False), table: \n",
      "    (IDENTIFIER this: dv, quoted: False)), alias: \n",
      "  (IDENTIFIER this: FileType, quoted: False))\n",
      "\n",
      "\n",
      "docutype.ARCHIVEPATH AS FilePath\n",
      "(ALIAS this: \n",
      "  (COLUMN this: \n",
      "    (IDENTIFIER this: ARCHIVEPATH, quoted: False), table: \n",
      "    (IDENTIFIER this: docutype, quoted: False)), alias: \n",
      "  (IDENTIFIER this: FilePath, quoted: False))\n",
      "\n",
      "\n",
      "REPLACE(REPLACE(docutype.ARCHIVEPATH + dv.fileNAME + '.' + dv.filetype, '\\\\', '/////'), '\\', '/') AS WebPath\n",
      "(ALIAS this: \n",
      "  (ANONYMOUS this: REPLACE, expressions: \n",
      "    (ANONYMOUS this: REPLACE, expressions: \n",
      "      (ADD this: \n",
      "        (ADD this: \n",
      "          (ADD this: \n",
      "            (COLUMN this: \n",
      "              (IDENTIFIER this: ARCHIVEPATH, quoted: False), table: \n",
      "              (IDENTIFIER this: docutype, quoted: False)), expression: \n",
      "            (COLUMN this: \n",
      "              (IDENTIFIER this: fileNAME, quoted: False), table: \n",
      "              (IDENTIFIER this: dv, quoted: False))), expression: \n",
      "          (LITERAL this: ., is_string: True)), expression: \n",
      "        (COLUMN this: \n",
      "          (IDENTIFIER this: filetype, quoted: False), table: \n",
      "          (IDENTIFIER this: dv, quoted: False))), \n",
      "      (LITERAL this: \\\\, is_string: True), \n",
      "      (LITERAL this: /////, is_string: True)), \n",
      "    (LITERAL this: \\, is_string: True), \n",
      "    (LITERAL this: /, is_string: True)), alias: \n",
      "  (IDENTIFIER this: WebPath, quoted: False))\n",
      "\n",
      "\n",
      "ROW_NUMBER() OVER(PARTITION BY t0.dataareaid, t0.journalnum ORDER BY t0.dataareaid, t0.journalnum, (docutype.ARCHIVEPATH + dv.fileNAME + dv.filetype)) AS AttachmentNum\n",
      "(ALIAS this: \n",
      "  (WINDOW this: \n",
      "    (ANONYMOUS this: ROW_NUMBER), partition_by: \n",
      "    (COLUMN this: \n",
      "      (IDENTIFIER this: dataareaid, quoted: False), table: \n",
      "      (IDENTIFIER this: t0, quoted: False)), \n",
      "    (COLUMN this: \n",
      "      (IDENTIFIER this: journalnum, quoted: False), table: \n",
      "      (IDENTIFIER this: t0, quoted: False)), order: \n",
      "    (ORDER expressions: \n",
      "      (ORDERED this: \n",
      "        (COLUMN this: \n",
      "          (IDENTIFIER this: dataareaid, quoted: False), table: \n",
      "          (IDENTIFIER this: t0, quoted: False))), \n",
      "      (ORDERED this: \n",
      "        (COLUMN this: \n",
      "          (IDENTIFIER this: journalnum, quoted: False), table: \n",
      "          (IDENTIFIER this: t0, quoted: False))), \n",
      "      (ORDERED this: \n",
      "        (PAREN this: \n",
      "          (ADD this: \n",
      "            (ADD this: \n",
      "              (COLUMN this: \n",
      "                (IDENTIFIER this: ARCHIVEPATH, quoted: False), table: \n",
      "                (IDENTIFIER this: docutype, quoted: False)), expression: \n",
      "              (COLUMN this: \n",
      "                (IDENTIFIER this: fileNAME, quoted: False), table: \n",
      "                (IDENTIFIER this: dv, quoted: False))), expression: \n",
      "            (COLUMN this: \n",
      "              (IDENTIFIER this: filetype, quoted: False), table: \n",
      "              (IDENTIFIER this: dv, quoted: False))))))), alias: \n",
      "  (IDENTIFIER this: AttachmentNum, quoted: False))\n",
      "\n",
      "\n"
     ]
    }
   ],
   "source": [
    "for i in select.args[\"expressions\"]:\n",
    "    print( i )\n",
    "    print(repr(i))\n",
    "    print(\"\\n\")"
   ],
   "metadata": {
    "collapsed": false,
    "pycharm": {
     "name": "#%%\n"
    }
   }
  },
  {
   "cell_type": "code",
   "execution_count": 78,
   "outputs": [
    {
     "data": {
      "text/plain": "sqlglot.expressions.Alias"
     },
     "execution_count": 78,
     "metadata": {},
     "output_type": "execute_result"
    }
   ],
   "source": [
    "type( select.args[\"expressions\"][0] )"
   ],
   "metadata": {
    "collapsed": false,
    "pycharm": {
     "name": "#%%\n"
    }
   }
  },
  {
   "cell_type": "code",
   "execution_count": 80,
   "outputs": [
    {
     "name": "stdout",
     "output_type": "stream",
     "text": [
      "t0.DATAAREAID AS Company\n",
      "t0.POSTEDDATETIME AS PostedDate\n",
      "t0.JOURNALNUM AS JournalBatchNumber\n",
      "df.NAME AS FileDescription\n",
      "dv.FileName + '.' + dv.FILETYPE AS FileName\n",
      "dv.FILETYPE AS FileType\n",
      "docutype.ARCHIVEPATH AS FilePath\n",
      "REPLACE(REPLACE(docutype.ARCHIVEPATH + dv.fileNAME + '.' + dv.filetype, '\\\\', '/////'), '\\', '/') AS WebPath\n",
      "ROW_NUMBER() OVER(PARTITION BY t0.dataareaid, t0.journalnum ORDER BY t0.dataareaid, t0.journalnum, (docutype.ARCHIVEPATH + dv.fileNAME + dv.filetype)) AS AttachmentNum\n",
      "AX_SECURE_PRD_REPLICA.dbo.DOCUREF AS DF\n",
      "AX_SECURE_PRD_REPLICA.dbo.ledgerjournaltable AS t0\n",
      "AX_SECURE_PRD_REPLICA.dbo.docuvalue AS DV\n"
     ]
    }
   ],
   "source": [
    "for i in sqlglot.parse_one(reformatted).find_all(sqlglot.exp.Alias):\n",
    "    print(i)"
   ],
   "metadata": {
    "collapsed": false,
    "pycharm": {
     "name": "#%%\n"
    }
   }
  },
  {
   "cell_type": "code",
   "execution_count": 81,
   "outputs": [],
   "source": [],
   "metadata": {
    "collapsed": false,
    "pycharm": {
     "name": "#%%\n"
    }
   }
  },
  {
   "cell_type": "markdown",
   "source": [
    "# WORKING"
   ],
   "metadata": {
    "collapsed": false,
    "pycharm": {
     "name": "#%% md\n"
    }
   }
  },
  {
   "cell_type": "code",
   "execution_count": 116,
   "outputs": [],
   "source": [
    "engine = connect_sqlserver_windowsauth('bidatacentre','master')\n",
    "db_df = fetch_all_dbs(engine)\n",
    "\n",
    "#for db in list(db_df['name']):\n",
    "db = 'BI'\n",
    "engine = connect_sqlserver_windowsauth('bidatacentre',db)\n",
    "# Table Details\n",
    "tab_det_df = fetch_table_details(engine)\n",
    "tab_dates = fetch_table_dates_and_rowcount(engine)\n",
    "# View Details\n",
    "vcd = fetch_view_column_details(engine)\n",
    "view_def = fetch_view_definitions(engine)\n",
    "\n",
    "# Get all DB Dependencies\n",
    "deps_df = fetch_all_db_dependencies(engine)\n"
   ],
   "metadata": {
    "collapsed": false,
    "pycharm": {
     "name": "#%%\n"
    }
   }
  },
  {
   "cell_type": "code",
   "execution_count": 118,
   "outputs": [
    {
     "data": {
      "text/plain": "array(['AD_PRDProject_List', 'AD_User_Details', 'AX_AP_SCVendor',\n       'AX_Attachment_JournalHeader', 'AX_Attachment_JournalLines',\n       'AX_BOL_Details', 'AX_Budget_Trans', 'AX_COMReceivedVolumes',\n       'AX_COMReceivedVolumesByWell', 'AX_Contact_Master',\n       'AX_Currency_Conversion', 'AX_Customer_Address',\n       'AX_Customer_Contacts', 'AX_Customer_Master',\n       'AX_Customer_Master_Last30', 'AX_Customer_Trans',\n       'AX_Default_Dimensions', 'AX_Dimension_BusinessUnit',\n       'AX_Dimension_Division', 'AX_Dimension_LegalEntity',\n       'AX_Dimension_Location', 'AX_Facility_UserAccess',\n       'AX_FixedAsset_Master', 'AX_FixedAsset_TransDetails',\n       'AX_GL_Master', 'AX_GL_TotalSummary', 'AX_GL_TransDetails',\n       'AX_Inventory_Location', 'AX_Item_CPOnHandTEST',\n       'AX_Item_PCConvert', 'AX_Item_PRDGLVolumeMap',\n       'AX_Item_ProdChemBOL', 'AX_Item_ReleasedProductMaster',\n       'AX_Item_SCItemList', 'AX_Item_UnitIDMapping',\n       'AX_Journal_LedgerTrans', 'AX_Journal_OpenTrans',\n       'AX_Ledger_Dimensions', 'AX_MudTrack_PriceBook',\n       'AX_OilReceiptSearch_TTM', 'AX_PJ_SCCapitalTrans',\n       'AX_PJ_SCNonPOInvoices', 'AX_PJ_SCNonPOTrans',\n       'AX_PJ_SCPOInvoices', 'AX_PJ_SCPOInvoicesSummary',\n       'AX_PJ_SCPOReceipt', 'AX_PJ_SCPOReceiptSummary',\n       'AX_PJ_SCProjBudgetTrans', 'AX_PJ_SCProjectsAvailableInventory',\n       'AX_PJ_SCProjMaster', 'AX_PJ_SCProjMasterCalculations',\n       'AX_PO_SCInvoiceReceiptReview', 'AX_PO_SCMasterSummary',\n       'AX_PO_SCMasterTrans', 'AX_PRDAR_WeeklyDSO',\n       'AX_PRDAR_WeeklyDSO_By_Customer',\n       'AX_PRDAR_WeeklyDSO_By_Customer_T3M',\n       'AX_PRDAR_WeeklyDSO_By_Customer_With_Credits', 'AX_PRDSales_Trans',\n       'AX_PRDSales_Trans_MonthlyConsolidated', 'AX_Price_DPSProdChem',\n       'AX_Project_ActualTrans', 'AX_Project_BudgetCost',\n       'AX_Project_BudgetTrans', 'AX_Project_Category',\n       'AX_Project_Master', 'AX_PurchaseOrder_InvoiceDetails',\n       'AX_PurchaseOrder_Lines', 'AX_PurchaseOrder_Master',\n       'AX_PurchaseOrder_PackingSlipDetails', 'AX_SalesOrder_DSLines',\n       'AX_SCA_Master', 'AX_ServiceOrder_InvoiceDetails',\n       'AX_ServiceOrder_Lines', 'AX_ServiceOrder_Master',\n       'AX_Vendor_Address', 'AX_Vendor_Contacts',\n       'AX_Vendor_List_ComplyWorks', 'AX_Vendor_Master',\n       'AX_Vendor_Master_Last30', 'AX_Vendor_SCList', 'AX_Vendor_Trans',\n       'AX_Worker_Master', 'AXComplyWorks_SCInvoices',\n       'AXComplyworks_Vendor_SCList',\n       'AXComplyworks_Vendor_SCList_With_QMS_Qs',\n       'AXOpenInvoice_InvoiceDetail', 'AXPOAPP_PurchaseOrder_SCLines',\n       'AXPOAPP_PurchaseOrder_SCMaster',\n       'BI_PowerBI_External_Guest_Usage', 'DailyApp_VendorSafetySummary',\n       'EGISTIX_Contract_Upload', 'EGISTIX_Schedule_Upload',\n       'Facility_Orientations_TRANSFORM', 'FC_Inventory_Daily_View',\n       'FC_Meter_Daily_View', 'FC_Meter_Daily_View_Last31Days',\n       'FC_Meter_Daily_View_Last7Days', 'FC_Meter_Monthly_View',\n       'FC_Truck_Ticket_View', 'FC_Truck_Ticket_View_Last31Days',\n       'FC_Truck_Ticket_View_Last7Days',\n       'Geoscout_BI_CompetitorWithProximity', 'GeoScout_BI_Facilities',\n       'GeoScout_ProductionVolume', 'Geoscout_UWI_LatLongLookupCanada',\n       'GeoScout_Well_Information',\n       'Geoscout_Wells_NewWellsWithProximity',\n       'Geoscout_Wells_NewWellsWithProximity_Test',\n       'h_OS4CP_Timesheet_Trans', 'Itrak_CCM_FormFields',\n       'Itrak_CCM_FormFields_TST', 'iTrak_DPSSafety_ReportIDCount',\n       'Magnotix_PROD_MagnotixOPS', 'Magnotix_TEST_MagnotixOPS',\n       'Mudtrac_Jobs2TabView', 'Mudtrac_Well_Details', 'OMS_Before_After',\n       'OMS_Cots_Facility', 'OMS_Facility_Active_Period',\n       'OMS_Facility_Quality_CreateDateInCurrentMonth',\n       'OS4CP_AR_InvoiceDetails', 'OS4CP_Project_Document',\n       'OS4CP_Project_Progress', 'PA_Projects_BiWeeklyChangeManagement',\n       'PA_Projects_BiWeeklyMilestones', 'PA_Projects_BiWeeklyReport',\n       'PA_Projects_BiWeeklyRiskManagement',\n       'Petrotranz_BusinessAssociate', 'Petrotranz_Company',\n       'Petrotranz_Facility', 'Petrotranz_FormA_VolumesWithShippers',\n       'POApp_PurchaseOrderMaster', 'POApp_PurchaseOrderReceipts',\n       'PowerApp_TA_AncillaryServices', 'PowerApp_TA_CustomerAll',\n       'PowerApp_TA_CustomerPricing', 'PowerApp_TA_FacilityBasePrice',\n       'PowerApp_TA_ItemPricingMain', 'PowerApp_TA_ItemsAll',\n       'PowerApp_TA_ItemSelection', 'PowerApp_TA_Site_lookup',\n       'PowerApp_TA_StandardSalePrice', 'PowerApp_TA_UWI_lookup',\n       'PRD_Projects_AUC', 'PRD_SC_VendorRequests',\n       'RentTrac_Job_BillableLines', 'RentTrac_Job_Master',\n       'RentTrac_Job_PriceMaster', 'RentTrac_Location_Master',\n       'Schoox_Manager_UNIT', 'SESSPARTANMAIN', 'SESSPARTANTRANSFER',\n       'SkillSoft_Import_Differences', 'Solver_BudgetForecast_Trans',\n       'Solver_UserData', 'SpartanBusinessAssociate',\n       'TEV_UWI_LatLong_Lookup', 'TruckView_UWI_FacilityList',\n       'Ultipro_Employee_FacilityManager',\n       'UltiProOfficeSpace_Employee_Details', 'zExcel_ChemProd_Reconcile',\n       'zExcel_ChemProd_SalesGL', 'zExcel_DPS_AUC',\n       'zExcel_DPS_CustomerRevenue', 'zExcel_GALUltiPro_Contacts',\n       'zExcel_Maxxam_Analytics_Details', 'zExcel_OI_SigningAuthority',\n       'zExcelAnalysis_FinCapexTrans', 'zExcelAnalysis_SCNonPOInvoiceOS',\n       'zExcelAnalysis_SCProjInvoiceVariance',\n       'zExcelForms_ProdChemItems', 'zExcelForms_SCCapitalRequest',\n       'zPowerApps_PODetails', 'zPowerApps_POHeader',\n       'zPowerApps_POSuite_Access', 'zPowerApps_PRDSite_Addresses',\n       'zPowerBI_AXGLVendorExp_PRD', 'zPowerBI_AXOI_PRDProjInvoice',\n       'zPowerBI_AXRevenue_PRDTransWithDistance',\n       'zPowerBI_BD_PetrinexCondVolumeDisposed',\n       'zPowerBI_BD_PetrinexOilVolumeDisposed',\n       'zPowerBI_BD_PetrinexVolumeCombined',\n       'zPowerBI_BD_PetrinexWaterVolume',\n       'zPowerBI_BD_PetrinexWaterVolumeDisposed',\n       'zPowerBI_DPS_InventoryTurn', 'zPowerBI_iTrak_FormBusinessUnit',\n       'zPowerBI_iTrak_HealthSafetyAction',\n       'zPowerBI_iTrak_HealthSafetyCauseAnalysis',\n       'zPowerBI_iTrak_HealthSafetyForm',\n       'zPowerBI_iTrak_HealthSafetyFormTest',\n       'zPowerBI_iTrak_HealthSafetyInjuryBodyPart',\n       'zPowerBI_iTrak_HealthSafetyInjuryType',\n       'zPowerBI_iTrak_HealthSafetySpill', 'zPowerBI_OS_EquipmentTrans',\n       'zPowerBI_PO_DPSReceived', 'zPowerBI_Polaris_Monthly_Thoughput',\n       'zPowerBI_Polaris_Nominations', 'zPowerBI_PRD_VendorPOMismatch',\n       'zPowerBI_PRDGLTrans', 'zPowerBI_PRDQForecast',\n       'zPowerBI_PRDRevenue_GLOld', 'zPowerBI_RevExp_PRD',\n       'zPowerBI_Sales_PRD', 'zPowerBI_SCPRD_PackingReceipt',\n       'zPowerBI_Solver_PRDBudget', 'zPowerBI_Ultipro_TTMTurnover',\n       'zPowerBI_Vendor_PayInfo', 'zPRDSC_SP_NewVendor_Requests',\n       'zSSRS_OI_File_POInvoice', 'zSSRS_SOSU_ProjectGLTrans',\n       'zUltipro_InternalPostingstoCSV', 'zUpload_LBZ_ItemMaster',\n       'Avetta_Person_Role_Status_Report_TRANSFORM'], dtype=object)"
     },
     "execution_count": 118,
     "metadata": {},
     "output_type": "execute_result"
    }
   ],
   "source": [
    "vcd['view_name'].unique()"
   ],
   "metadata": {
    "collapsed": false,
    "pycharm": {
     "name": "#%%\n"
    }
   }
  },
  {
   "cell_type": "code",
   "execution_count": 145,
   "outputs": [
    {
     "data": {
      "text/plain": "'AD_PRDProject_List'"
     },
     "execution_count": 145,
     "metadata": {},
     "output_type": "execute_result"
    }
   ],
   "source": [
    "#for view_name in list(vcd['view_name']):\n",
    "view_name = vcd['view_name'][0]\n",
    "vcd_filter = vcd['view_name'] == view_name\n",
    "view_def_filter = view_def['view_name'] == view_name\n",
    "deps_parent_filter = deps_df['referencing_object_name'] == view_name\n",
    "deps_child_filter = deps_df['referenced_entity_name'] == view_name\n",
    "\n",
    "view_name"
   ],
   "metadata": {
    "collapsed": false,
    "pycharm": {
     "name": "#%%\n"
    }
   }
  },
  {
   "cell_type": "code",
   "execution_count": 146,
   "outputs": [
    {
     "data": {
      "text/plain": "  schema_name           view_name column_name data_type data_type_ext  \\\n0         dbo  AD_PRDProject_List  Department   varchar  varchar(100)   \n1         dbo  AD_PRDProject_List       Email   varchar  varchar(100)   \n2         dbo  AD_PRDProject_List    FullName   varchar  varchar(511)   \n3         dbo  AD_PRDProject_List  GroupEmail   varchar  varchar(100)   \n4         dbo  AD_PRDProject_List   GroupName   varchar  varchar(100)   \n5         dbo  AD_PRDProject_List       Title   varchar  varchar(100)   \n\n  nullable comments  \n0        Y     None  \n1        N     None  \n2        N     None  \n3        Y     None  \n4        N     None  \n5        Y     None  ",
      "text/html": "<div>\n<style scoped>\n    .dataframe tbody tr th:only-of-type {\n        vertical-align: middle;\n    }\n\n    .dataframe tbody tr th {\n        vertical-align: top;\n    }\n\n    .dataframe thead th {\n        text-align: right;\n    }\n</style>\n<table border=\"1\" class=\"dataframe\">\n  <thead>\n    <tr style=\"text-align: right;\">\n      <th></th>\n      <th>schema_name</th>\n      <th>view_name</th>\n      <th>column_name</th>\n      <th>data_type</th>\n      <th>data_type_ext</th>\n      <th>nullable</th>\n      <th>comments</th>\n    </tr>\n  </thead>\n  <tbody>\n    <tr>\n      <th>0</th>\n      <td>dbo</td>\n      <td>AD_PRDProject_List</td>\n      <td>Department</td>\n      <td>varchar</td>\n      <td>varchar(100)</td>\n      <td>Y</td>\n      <td>None</td>\n    </tr>\n    <tr>\n      <th>1</th>\n      <td>dbo</td>\n      <td>AD_PRDProject_List</td>\n      <td>Email</td>\n      <td>varchar</td>\n      <td>varchar(100)</td>\n      <td>N</td>\n      <td>None</td>\n    </tr>\n    <tr>\n      <th>2</th>\n      <td>dbo</td>\n      <td>AD_PRDProject_List</td>\n      <td>FullName</td>\n      <td>varchar</td>\n      <td>varchar(511)</td>\n      <td>N</td>\n      <td>None</td>\n    </tr>\n    <tr>\n      <th>3</th>\n      <td>dbo</td>\n      <td>AD_PRDProject_List</td>\n      <td>GroupEmail</td>\n      <td>varchar</td>\n      <td>varchar(100)</td>\n      <td>Y</td>\n      <td>None</td>\n    </tr>\n    <tr>\n      <th>4</th>\n      <td>dbo</td>\n      <td>AD_PRDProject_List</td>\n      <td>GroupName</td>\n      <td>varchar</td>\n      <td>varchar(100)</td>\n      <td>N</td>\n      <td>None</td>\n    </tr>\n    <tr>\n      <th>5</th>\n      <td>dbo</td>\n      <td>AD_PRDProject_List</td>\n      <td>Title</td>\n      <td>varchar</td>\n      <td>varchar(100)</td>\n      <td>Y</td>\n      <td>None</td>\n    </tr>\n  </tbody>\n</table>\n</div>"
     },
     "execution_count": 146,
     "metadata": {},
     "output_type": "execute_result"
    }
   ],
   "source": [
    "vcd[ vcd_filter ]"
   ],
   "metadata": {
    "collapsed": false,
    "pycharm": {
     "name": "#%%\n"
    }
   }
  },
  {
   "cell_type": "code",
   "execution_count": 147,
   "outputs": [
    {
     "data": {
      "text/plain": "  schema_name           view_name                 created  \\\n0         dbo  AD_PRDProject_List 2018-12-03 13:05:42.303   \n\n            last_modified                                         definition  \\\n0 2018-12-03 13:05:42.303  \\r\\nCREATE VIEW dbo.AD_PRDProject_List\\r\\nAS\\r...   \n\n  comments  \n0     None  ",
      "text/html": "<div>\n<style scoped>\n    .dataframe tbody tr th:only-of-type {\n        vertical-align: middle;\n    }\n\n    .dataframe tbody tr th {\n        vertical-align: top;\n    }\n\n    .dataframe thead th {\n        text-align: right;\n    }\n</style>\n<table border=\"1\" class=\"dataframe\">\n  <thead>\n    <tr style=\"text-align: right;\">\n      <th></th>\n      <th>schema_name</th>\n      <th>view_name</th>\n      <th>created</th>\n      <th>last_modified</th>\n      <th>definition</th>\n      <th>comments</th>\n    </tr>\n  </thead>\n  <tbody>\n    <tr>\n      <th>0</th>\n      <td>dbo</td>\n      <td>AD_PRDProject_List</td>\n      <td>2018-12-03 13:05:42.303</td>\n      <td>2018-12-03 13:05:42.303</td>\n      <td>\\r\\nCREATE VIEW dbo.AD_PRDProject_List\\r\\nAS\\r...</td>\n      <td>None</td>\n    </tr>\n  </tbody>\n</table>\n</div>"
     },
     "execution_count": 147,
     "metadata": {},
     "output_type": "execute_result"
    }
   ],
   "source": [
    "view_def[ view_def_filter ]"
   ],
   "metadata": {
    "collapsed": false,
    "pycharm": {
     "name": "#%%\n"
    }
   }
  },
  {
   "cell_type": "code",
   "execution_count": 148,
   "outputs": [
    {
     "name": "stdout",
     "output_type": "stream",
     "text": [
      "\n",
      "CREATE VIEW dbo.AD_PRDProject_List AS\n",
      "SELECT ed.GroupName ,\n",
      "       ed.GroupEmail ,\n",
      "       ISNULL(nullif(ec.FirstName, '') + ' ', '') + isnull(ec.LastName, '') AS FullName ,\n",
      "       ed.MemberEmail AS Email ,\n",
      "       ec.Title ,\n",
      "       ec.Dept AS Department\n",
      "FROM dbo.Exchange_DistList ed (nolock)\n",
      "LEFT JOIN dbo.Exchange_GAL_Contacts ec (nolock) ON ec.Email = ed.MemberEmail\n",
      "WHERE ed.GroupName = 'PRD Projects' ;\n"
     ]
    }
   ],
   "source": [
    "view_def[ view_def_filter ]['definition'][0]\n",
    "reformatted = sqlparse.format(view_def[ view_def_filter ]['definition'][0], reindent=True, keyword_case='upper')\n",
    "print(reformatted)"
   ],
   "metadata": {
    "collapsed": false,
    "pycharm": {
     "name": "#%%\n"
    }
   }
  },
  {
   "cell_type": "code",
   "execution_count": 149,
   "outputs": [
    {
     "data": {
      "text/plain": "  DATABASE referencing_schema_name referencing_object_name  \\\n0       BI                     dbo      AD_PRDProject_List   \n1       BI                     dbo      AD_PRDProject_List   \n\n  referencing_type_desc referenced_server_name referenced_db_name  \\\n0                  VIEW                   None                 BI   \n1                  VIEW                   None                 BI   \n\n  referenced_schema_name referenced_entity_name  \n0                    dbo      Exchange_DistList  \n1                    dbo  Exchange_GAL_Contacts  ",
      "text/html": "<div>\n<style scoped>\n    .dataframe tbody tr th:only-of-type {\n        vertical-align: middle;\n    }\n\n    .dataframe tbody tr th {\n        vertical-align: top;\n    }\n\n    .dataframe thead th {\n        text-align: right;\n    }\n</style>\n<table border=\"1\" class=\"dataframe\">\n  <thead>\n    <tr style=\"text-align: right;\">\n      <th></th>\n      <th>DATABASE</th>\n      <th>referencing_schema_name</th>\n      <th>referencing_object_name</th>\n      <th>referencing_type_desc</th>\n      <th>referenced_server_name</th>\n      <th>referenced_db_name</th>\n      <th>referenced_schema_name</th>\n      <th>referenced_entity_name</th>\n    </tr>\n  </thead>\n  <tbody>\n    <tr>\n      <th>0</th>\n      <td>BI</td>\n      <td>dbo</td>\n      <td>AD_PRDProject_List</td>\n      <td>VIEW</td>\n      <td>None</td>\n      <td>BI</td>\n      <td>dbo</td>\n      <td>Exchange_DistList</td>\n    </tr>\n    <tr>\n      <th>1</th>\n      <td>BI</td>\n      <td>dbo</td>\n      <td>AD_PRDProject_List</td>\n      <td>VIEW</td>\n      <td>None</td>\n      <td>BI</td>\n      <td>dbo</td>\n      <td>Exchange_GAL_Contacts</td>\n    </tr>\n  </tbody>\n</table>\n</div>"
     },
     "execution_count": 149,
     "metadata": {},
     "output_type": "execute_result"
    }
   ],
   "source": [
    "deps_df.loc[ deps_parent_filter ]"
   ],
   "metadata": {
    "collapsed": false,
    "pycharm": {
     "name": "#%%\n"
    }
   }
  },
  {
   "cell_type": "code",
   "execution_count": 150,
   "outputs": [
    {
     "data": {
      "text/plain": "Empty DataFrame\nColumns: [DATABASE, referencing_schema_name, referencing_object_name, referencing_type_desc, referenced_server_name, referenced_db_name, referenced_schema_name, referenced_entity_name]\nIndex: []",
      "text/html": "<div>\n<style scoped>\n    .dataframe tbody tr th:only-of-type {\n        vertical-align: middle;\n    }\n\n    .dataframe tbody tr th {\n        vertical-align: top;\n    }\n\n    .dataframe thead th {\n        text-align: right;\n    }\n</style>\n<table border=\"1\" class=\"dataframe\">\n  <thead>\n    <tr style=\"text-align: right;\">\n      <th></th>\n      <th>DATABASE</th>\n      <th>referencing_schema_name</th>\n      <th>referencing_object_name</th>\n      <th>referencing_type_desc</th>\n      <th>referenced_server_name</th>\n      <th>referenced_db_name</th>\n      <th>referenced_schema_name</th>\n      <th>referenced_entity_name</th>\n    </tr>\n  </thead>\n  <tbody>\n  </tbody>\n</table>\n</div>"
     },
     "execution_count": 150,
     "metadata": {},
     "output_type": "execute_result"
    }
   ],
   "source": [
    "deps_df.loc[ deps_child_filter ]"
   ],
   "metadata": {
    "collapsed": false,
    "pycharm": {
     "name": "#%%\n"
    }
   }
  },
  {
   "cell_type": "code",
   "execution_count": 154,
   "outputs": [
    {
     "data": {
      "text/plain": "'dbo'"
     },
     "execution_count": 154,
     "metadata": {},
     "output_type": "execute_result"
    }
   ],
   "source": [
    "view_schema = vcd.loc[vcd_filter]['schema_name'][0]\n",
    "view_schema"
   ],
   "metadata": {
    "collapsed": false,
    "pycharm": {
     "name": "#%%\n"
    }
   }
  },
  {
   "cell_type": "code",
   "execution_count": 155,
   "outputs": [
    {
     "ename": "KeyError",
     "evalue": "'view_name'",
     "output_type": "error",
     "traceback": [
      "\u001B[1;31m---------------------------------------------------------------------------\u001B[0m",
      "\u001B[1;31mKeyError\u001B[0m                                  Traceback (most recent call last)",
      "Input \u001B[1;32mIn [155]\u001B[0m, in \u001B[0;36m<cell line: 1>\u001B[1;34m()\u001B[0m\n\u001B[1;32m----> 1\u001B[0m \u001B[43mvcd\u001B[49m\u001B[38;5;241;43m.\u001B[39;49m\u001B[43mloc\u001B[49m\u001B[43m[\u001B[49m\u001B[38;5;124;43m'\u001B[39;49m\u001B[38;5;124;43mview_name\u001B[39;49m\u001B[38;5;124;43m'\u001B[39;49m\u001B[43m]\u001B[49m \u001B[38;5;241m==\u001B[39m view_name\n",
      "File \u001B[1;32m~\\devel\\python\\sql_dep\\venv\\lib\\site-packages\\pandas\\core\\indexing.py:967\u001B[0m, in \u001B[0;36m_LocationIndexer.__getitem__\u001B[1;34m(self, key)\u001B[0m\n\u001B[0;32m    964\u001B[0m axis \u001B[38;5;241m=\u001B[39m \u001B[38;5;28mself\u001B[39m\u001B[38;5;241m.\u001B[39maxis \u001B[38;5;129;01mor\u001B[39;00m \u001B[38;5;241m0\u001B[39m\n\u001B[0;32m    966\u001B[0m maybe_callable \u001B[38;5;241m=\u001B[39m com\u001B[38;5;241m.\u001B[39mapply_if_callable(key, \u001B[38;5;28mself\u001B[39m\u001B[38;5;241m.\u001B[39mobj)\n\u001B[1;32m--> 967\u001B[0m \u001B[38;5;28;01mreturn\u001B[39;00m \u001B[38;5;28;43mself\u001B[39;49m\u001B[38;5;241;43m.\u001B[39;49m\u001B[43m_getitem_axis\u001B[49m\u001B[43m(\u001B[49m\u001B[43mmaybe_callable\u001B[49m\u001B[43m,\u001B[49m\u001B[43m \u001B[49m\u001B[43maxis\u001B[49m\u001B[38;5;241;43m=\u001B[39;49m\u001B[43maxis\u001B[49m\u001B[43m)\u001B[49m\n",
      "File \u001B[1;32m~\\devel\\python\\sql_dep\\venv\\lib\\site-packages\\pandas\\core\\indexing.py:1202\u001B[0m, in \u001B[0;36m_LocIndexer._getitem_axis\u001B[1;34m(self, key, axis)\u001B[0m\n\u001B[0;32m   1200\u001B[0m \u001B[38;5;66;03m# fall thru to straight lookup\u001B[39;00m\n\u001B[0;32m   1201\u001B[0m \u001B[38;5;28mself\u001B[39m\u001B[38;5;241m.\u001B[39m_validate_key(key, axis)\n\u001B[1;32m-> 1202\u001B[0m \u001B[38;5;28;01mreturn\u001B[39;00m \u001B[38;5;28;43mself\u001B[39;49m\u001B[38;5;241;43m.\u001B[39;49m\u001B[43m_get_label\u001B[49m\u001B[43m(\u001B[49m\u001B[43mkey\u001B[49m\u001B[43m,\u001B[49m\u001B[43m \u001B[49m\u001B[43maxis\u001B[49m\u001B[38;5;241;43m=\u001B[39;49m\u001B[43maxis\u001B[49m\u001B[43m)\u001B[49m\n",
      "File \u001B[1;32m~\\devel\\python\\sql_dep\\venv\\lib\\site-packages\\pandas\\core\\indexing.py:1153\u001B[0m, in \u001B[0;36m_LocIndexer._get_label\u001B[1;34m(self, label, axis)\u001B[0m\n\u001B[0;32m   1151\u001B[0m \u001B[38;5;28;01mdef\u001B[39;00m \u001B[38;5;21m_get_label\u001B[39m(\u001B[38;5;28mself\u001B[39m, label, axis: \u001B[38;5;28mint\u001B[39m):\n\u001B[0;32m   1152\u001B[0m     \u001B[38;5;66;03m# GH#5667 this will fail if the label is not present in the axis.\u001B[39;00m\n\u001B[1;32m-> 1153\u001B[0m     \u001B[38;5;28;01mreturn\u001B[39;00m \u001B[38;5;28;43mself\u001B[39;49m\u001B[38;5;241;43m.\u001B[39;49m\u001B[43mobj\u001B[49m\u001B[38;5;241;43m.\u001B[39;49m\u001B[43mxs\u001B[49m\u001B[43m(\u001B[49m\u001B[43mlabel\u001B[49m\u001B[43m,\u001B[49m\u001B[43m \u001B[49m\u001B[43maxis\u001B[49m\u001B[38;5;241;43m=\u001B[39;49m\u001B[43maxis\u001B[49m\u001B[43m)\u001B[49m\n",
      "File \u001B[1;32m~\\devel\\python\\sql_dep\\venv\\lib\\site-packages\\pandas\\core\\generic.py:3864\u001B[0m, in \u001B[0;36mNDFrame.xs\u001B[1;34m(self, key, axis, level, drop_level)\u001B[0m\n\u001B[0;32m   3862\u001B[0m             new_index \u001B[38;5;241m=\u001B[39m index[loc]\n\u001B[0;32m   3863\u001B[0m \u001B[38;5;28;01melse\u001B[39;00m:\n\u001B[1;32m-> 3864\u001B[0m     loc \u001B[38;5;241m=\u001B[39m \u001B[43mindex\u001B[49m\u001B[38;5;241;43m.\u001B[39;49m\u001B[43mget_loc\u001B[49m\u001B[43m(\u001B[49m\u001B[43mkey\u001B[49m\u001B[43m)\u001B[49m\n\u001B[0;32m   3866\u001B[0m     \u001B[38;5;28;01mif\u001B[39;00m \u001B[38;5;28misinstance\u001B[39m(loc, np\u001B[38;5;241m.\u001B[39mndarray):\n\u001B[0;32m   3867\u001B[0m         \u001B[38;5;28;01mif\u001B[39;00m loc\u001B[38;5;241m.\u001B[39mdtype \u001B[38;5;241m==\u001B[39m np\u001B[38;5;241m.\u001B[39mbool_:\n",
      "File \u001B[1;32m~\\devel\\python\\sql_dep\\venv\\lib\\site-packages\\pandas\\core\\indexes\\range.py:389\u001B[0m, in \u001B[0;36mRangeIndex.get_loc\u001B[1;34m(self, key, method, tolerance)\u001B[0m\n\u001B[0;32m    387\u001B[0m             \u001B[38;5;28;01mraise\u001B[39;00m \u001B[38;5;167;01mKeyError\u001B[39;00m(key) \u001B[38;5;28;01mfrom\u001B[39;00m \u001B[38;5;21;01merr\u001B[39;00m\n\u001B[0;32m    388\u001B[0m     \u001B[38;5;28mself\u001B[39m\u001B[38;5;241m.\u001B[39m_check_indexing_error(key)\n\u001B[1;32m--> 389\u001B[0m     \u001B[38;5;28;01mraise\u001B[39;00m \u001B[38;5;167;01mKeyError\u001B[39;00m(key)\n\u001B[0;32m    390\u001B[0m \u001B[38;5;28;01mreturn\u001B[39;00m \u001B[38;5;28msuper\u001B[39m()\u001B[38;5;241m.\u001B[39mget_loc(key, method\u001B[38;5;241m=\u001B[39mmethod, tolerance\u001B[38;5;241m=\u001B[39mtolerance)\n",
      "\u001B[1;31mKeyError\u001B[0m: 'view_name'"
     ]
    }
   ],
   "source": [
    "vcd.loc['view_name'] == view_name"
   ],
   "metadata": {
    "collapsed": false,
    "pycharm": {
     "name": "#%%\n"
    }
   }
  },
  {
   "cell_type": "code",
   "execution_count": 156,
   "outputs": [
    {
     "data": {
      "text/plain": "'AD_PRDProject_List'"
     },
     "execution_count": 156,
     "metadata": {},
     "output_type": "execute_result"
    }
   ],
   "source": [
    "view_name"
   ],
   "metadata": {
    "collapsed": false,
    "pycharm": {
     "name": "#%%\n"
    }
   }
  },
  {
   "cell_type": "code",
   "execution_count": 157,
   "outputs": [
    {
     "data": {
      "text/plain": "     schema_name                                   view_name  column_name  \\\n0            dbo                          AD_PRDProject_List   Department   \n1            dbo                          AD_PRDProject_List        Email   \n2            dbo                          AD_PRDProject_List     FullName   \n3            dbo                          AD_PRDProject_List   GroupEmail   \n4            dbo                          AD_PRDProject_List    GroupName   \n...          ...                                         ...          ...   \n5643       stage  Avetta_Person_Role_Status_Report_TRANSFORM         Role   \n5644       stage  Avetta_Person_Role_Status_Report_TRANSFORM  Role_Expiry   \n5645       stage  Avetta_Person_Role_Status_Report_TRANSFORM      Role_ID   \n5646       stage  Avetta_Person_Role_Status_Report_TRANSFORM       Status   \n5647       stage  Avetta_Person_Role_Status_Report_TRANSFORM   Sub_Expiry   \n\n     data_type   data_type_ext nullable comments  \n0      varchar    varchar(100)        Y     None  \n1      varchar    varchar(100)        N     None  \n2      varchar    varchar(511)        N     None  \n3      varchar    varchar(100)        Y     None  \n4      varchar    varchar(100)        N     None  \n...        ...             ...      ...      ...  \n5643  nvarchar  nvarchar(4000)        Y     None  \n5644      date            date        Y     None  \n5645       int             int        Y     None  \n5646  nvarchar    nvarchar(50)        Y     None  \n5647      date            date        Y     None  \n\n[5648 rows x 7 columns]",
      "text/html": "<div>\n<style scoped>\n    .dataframe tbody tr th:only-of-type {\n        vertical-align: middle;\n    }\n\n    .dataframe tbody tr th {\n        vertical-align: top;\n    }\n\n    .dataframe thead th {\n        text-align: right;\n    }\n</style>\n<table border=\"1\" class=\"dataframe\">\n  <thead>\n    <tr style=\"text-align: right;\">\n      <th></th>\n      <th>schema_name</th>\n      <th>view_name</th>\n      <th>column_name</th>\n      <th>data_type</th>\n      <th>data_type_ext</th>\n      <th>nullable</th>\n      <th>comments</th>\n    </tr>\n  </thead>\n  <tbody>\n    <tr>\n      <th>0</th>\n      <td>dbo</td>\n      <td>AD_PRDProject_List</td>\n      <td>Department</td>\n      <td>varchar</td>\n      <td>varchar(100)</td>\n      <td>Y</td>\n      <td>None</td>\n    </tr>\n    <tr>\n      <th>1</th>\n      <td>dbo</td>\n      <td>AD_PRDProject_List</td>\n      <td>Email</td>\n      <td>varchar</td>\n      <td>varchar(100)</td>\n      <td>N</td>\n      <td>None</td>\n    </tr>\n    <tr>\n      <th>2</th>\n      <td>dbo</td>\n      <td>AD_PRDProject_List</td>\n      <td>FullName</td>\n      <td>varchar</td>\n      <td>varchar(511)</td>\n      <td>N</td>\n      <td>None</td>\n    </tr>\n    <tr>\n      <th>3</th>\n      <td>dbo</td>\n      <td>AD_PRDProject_List</td>\n      <td>GroupEmail</td>\n      <td>varchar</td>\n      <td>varchar(100)</td>\n      <td>Y</td>\n      <td>None</td>\n    </tr>\n    <tr>\n      <th>4</th>\n      <td>dbo</td>\n      <td>AD_PRDProject_List</td>\n      <td>GroupName</td>\n      <td>varchar</td>\n      <td>varchar(100)</td>\n      <td>N</td>\n      <td>None</td>\n    </tr>\n    <tr>\n      <th>...</th>\n      <td>...</td>\n      <td>...</td>\n      <td>...</td>\n      <td>...</td>\n      <td>...</td>\n      <td>...</td>\n      <td>...</td>\n    </tr>\n    <tr>\n      <th>5643</th>\n      <td>stage</td>\n      <td>Avetta_Person_Role_Status_Report_TRANSFORM</td>\n      <td>Role</td>\n      <td>nvarchar</td>\n      <td>nvarchar(4000)</td>\n      <td>Y</td>\n      <td>None</td>\n    </tr>\n    <tr>\n      <th>5644</th>\n      <td>stage</td>\n      <td>Avetta_Person_Role_Status_Report_TRANSFORM</td>\n      <td>Role_Expiry</td>\n      <td>date</td>\n      <td>date</td>\n      <td>Y</td>\n      <td>None</td>\n    </tr>\n    <tr>\n      <th>5645</th>\n      <td>stage</td>\n      <td>Avetta_Person_Role_Status_Report_TRANSFORM</td>\n      <td>Role_ID</td>\n      <td>int</td>\n      <td>int</td>\n      <td>Y</td>\n      <td>None</td>\n    </tr>\n    <tr>\n      <th>5646</th>\n      <td>stage</td>\n      <td>Avetta_Person_Role_Status_Report_TRANSFORM</td>\n      <td>Status</td>\n      <td>nvarchar</td>\n      <td>nvarchar(50)</td>\n      <td>Y</td>\n      <td>None</td>\n    </tr>\n    <tr>\n      <th>5647</th>\n      <td>stage</td>\n      <td>Avetta_Person_Role_Status_Report_TRANSFORM</td>\n      <td>Sub_Expiry</td>\n      <td>date</td>\n      <td>date</td>\n      <td>Y</td>\n      <td>None</td>\n    </tr>\n  </tbody>\n</table>\n<p>5648 rows × 7 columns</p>\n</div>"
     },
     "execution_count": 157,
     "metadata": {},
     "output_type": "execute_result"
    }
   ],
   "source": [
    "vcd"
   ],
   "metadata": {
    "collapsed": false,
    "pycharm": {
     "name": "#%%\n"
    }
   }
  },
  {
   "cell_type": "code",
   "execution_count": 173,
   "outputs": [
    {
     "data": {
      "text/plain": "'dbo'"
     },
     "execution_count": 173,
     "metadata": {},
     "output_type": "execute_result"
    }
   ],
   "source": [
    "vcd_filter = vcd['view_name'] == 'AD_User_Details'\n",
    "view_schema = vcd.loc[vcd_filter]\n"
   ],
   "metadata": {
    "collapsed": false,
    "pycharm": {
     "name": "#%%\n"
    }
   }
  },
  {
   "cell_type": "code",
   "execution_count": 174,
   "outputs": [
    {
     "data": {
      "text/plain": "    schema_name                                   view_name  \\\n0           dbo                          AD_PRDProject_List   \n1           dbo                             AD_User_Details   \n2           dbo                              AX_AP_SCVendor   \n3           dbo                 AX_Attachment_JournalHeader   \n4           dbo                  AX_Attachment_JournalLines   \n..          ...                                         ...   \n209         dbo                     zSSRS_OI_File_POInvoice   \n210         dbo                   zSSRS_SOSU_ProjectGLTrans   \n211         dbo              zUltipro_InternalPostingstoCSV   \n212         dbo                      zUpload_LBZ_ItemMaster   \n213       stage  Avetta_Person_Role_Status_Report_TRANSFORM   \n\n                    created           last_modified  \\\n0   2018-12-03 13:05:42.303 2018-12-03 13:05:42.303   \n1   2017-03-09 17:35:53.943 2019-01-30 11:16:17.153   \n2   2015-10-20 11:29:56.300 2015-10-26 09:57:14.750   \n3   2017-02-28 13:11:43.113 2017-02-28 13:11:43.113   \n4   2017-02-28 10:40:56.417 2017-02-28 13:23:05.813   \n..                      ...                     ...   \n209 2017-03-27 15:22:15.720 2017-03-28 14:12:52.620   \n210 2017-12-28 08:10:38.410 2018-01-05 10:01:21.580   \n211 2018-02-12 09:19:15.763 2019-02-14 11:43:26.717   \n212 2017-05-23 19:26:20.800 2018-11-13 08:48:05.333   \n213 2022-04-07 11:34:37.920 2022-04-07 11:57:59.850   \n\n                                            definition comments  \n0    \\r\\nCREATE VIEW dbo.AD_PRDProject_List\\r\\nAS\\r...     None  \n1    \\r\\n\\r\\n\\r\\n\\r\\n\\r\\n\\r\\n\\r\\n\\r\\n\\r\\nCREATE VIE...     None  \n2    \\r\\n\\r\\n\\r\\n\\r\\nCREATE VIEW [dbo].[AX_AP_SCVen...     None  \n3    \\r\\n\\r\\n\\r\\n\\r\\n\\r\\nCREATE VIEW [dbo].[AX_Atta...     None  \n4    \\r\\n\\r\\n\\r\\n\\r\\n\\r\\n\\r\\nCREATE VIEW [dbo].[AX_...     None  \n..                                                 ...      ...  \n209  \\r\\n\\r\\n\\r\\n\\r\\n\\r\\n\\r\\n\\r\\n\\r\\n\\r\\n\\r\\nCREATE...     None  \n210  \\r\\n\\r\\n\\r\\n\\r\\n\\r\\n\\r\\n\\r\\n/*****************...     None  \n211  \\r\\n\\r\\n\\r\\nCREATE VIEW [dbo].[zUltipro_Intern...     None  \n212  /*\\r\\nCreated: \\r\\n\\tUnknown\\r\\n\\r\\nModified:\\...     None  \n213  \\r\\nCREATE view [stage].[Avetta_Person_Role_St...     None  \n\n[214 rows x 6 columns]",
      "text/html": "<div>\n<style scoped>\n    .dataframe tbody tr th:only-of-type {\n        vertical-align: middle;\n    }\n\n    .dataframe tbody tr th {\n        vertical-align: top;\n    }\n\n    .dataframe thead th {\n        text-align: right;\n    }\n</style>\n<table border=\"1\" class=\"dataframe\">\n  <thead>\n    <tr style=\"text-align: right;\">\n      <th></th>\n      <th>schema_name</th>\n      <th>view_name</th>\n      <th>created</th>\n      <th>last_modified</th>\n      <th>definition</th>\n      <th>comments</th>\n    </tr>\n  </thead>\n  <tbody>\n    <tr>\n      <th>0</th>\n      <td>dbo</td>\n      <td>AD_PRDProject_List</td>\n      <td>2018-12-03 13:05:42.303</td>\n      <td>2018-12-03 13:05:42.303</td>\n      <td>\\r\\nCREATE VIEW dbo.AD_PRDProject_List\\r\\nAS\\r...</td>\n      <td>None</td>\n    </tr>\n    <tr>\n      <th>1</th>\n      <td>dbo</td>\n      <td>AD_User_Details</td>\n      <td>2017-03-09 17:35:53.943</td>\n      <td>2019-01-30 11:16:17.153</td>\n      <td>\\r\\n\\r\\n\\r\\n\\r\\n\\r\\n\\r\\n\\r\\n\\r\\n\\r\\nCREATE VIE...</td>\n      <td>None</td>\n    </tr>\n    <tr>\n      <th>2</th>\n      <td>dbo</td>\n      <td>AX_AP_SCVendor</td>\n      <td>2015-10-20 11:29:56.300</td>\n      <td>2015-10-26 09:57:14.750</td>\n      <td>\\r\\n\\r\\n\\r\\n\\r\\nCREATE VIEW [dbo].[AX_AP_SCVen...</td>\n      <td>None</td>\n    </tr>\n    <tr>\n      <th>3</th>\n      <td>dbo</td>\n      <td>AX_Attachment_JournalHeader</td>\n      <td>2017-02-28 13:11:43.113</td>\n      <td>2017-02-28 13:11:43.113</td>\n      <td>\\r\\n\\r\\n\\r\\n\\r\\n\\r\\nCREATE VIEW [dbo].[AX_Atta...</td>\n      <td>None</td>\n    </tr>\n    <tr>\n      <th>4</th>\n      <td>dbo</td>\n      <td>AX_Attachment_JournalLines</td>\n      <td>2017-02-28 10:40:56.417</td>\n      <td>2017-02-28 13:23:05.813</td>\n      <td>\\r\\n\\r\\n\\r\\n\\r\\n\\r\\n\\r\\nCREATE VIEW [dbo].[AX_...</td>\n      <td>None</td>\n    </tr>\n    <tr>\n      <th>...</th>\n      <td>...</td>\n      <td>...</td>\n      <td>...</td>\n      <td>...</td>\n      <td>...</td>\n      <td>...</td>\n    </tr>\n    <tr>\n      <th>209</th>\n      <td>dbo</td>\n      <td>zSSRS_OI_File_POInvoice</td>\n      <td>2017-03-27 15:22:15.720</td>\n      <td>2017-03-28 14:12:52.620</td>\n      <td>\\r\\n\\r\\n\\r\\n\\r\\n\\r\\n\\r\\n\\r\\n\\r\\n\\r\\n\\r\\nCREATE...</td>\n      <td>None</td>\n    </tr>\n    <tr>\n      <th>210</th>\n      <td>dbo</td>\n      <td>zSSRS_SOSU_ProjectGLTrans</td>\n      <td>2017-12-28 08:10:38.410</td>\n      <td>2018-01-05 10:01:21.580</td>\n      <td>\\r\\n\\r\\n\\r\\n\\r\\n\\r\\n\\r\\n\\r\\n/*****************...</td>\n      <td>None</td>\n    </tr>\n    <tr>\n      <th>211</th>\n      <td>dbo</td>\n      <td>zUltipro_InternalPostingstoCSV</td>\n      <td>2018-02-12 09:19:15.763</td>\n      <td>2019-02-14 11:43:26.717</td>\n      <td>\\r\\n\\r\\n\\r\\nCREATE VIEW [dbo].[zUltipro_Intern...</td>\n      <td>None</td>\n    </tr>\n    <tr>\n      <th>212</th>\n      <td>dbo</td>\n      <td>zUpload_LBZ_ItemMaster</td>\n      <td>2017-05-23 19:26:20.800</td>\n      <td>2018-11-13 08:48:05.333</td>\n      <td>/*\\r\\nCreated: \\r\\n\\tUnknown\\r\\n\\r\\nModified:\\...</td>\n      <td>None</td>\n    </tr>\n    <tr>\n      <th>213</th>\n      <td>stage</td>\n      <td>Avetta_Person_Role_Status_Report_TRANSFORM</td>\n      <td>2022-04-07 11:34:37.920</td>\n      <td>2022-04-07 11:57:59.850</td>\n      <td>\\r\\nCREATE view [stage].[Avetta_Person_Role_St...</td>\n      <td>None</td>\n    </tr>\n  </tbody>\n</table>\n<p>214 rows × 6 columns</p>\n</div>"
     },
     "execution_count": 174,
     "metadata": {},
     "output_type": "execute_result"
    }
   ],
   "source": [
    "view_def"
   ],
   "metadata": {
    "collapsed": false,
    "pycharm": {
     "name": "#%%\n"
    }
   }
  },
  {
   "cell_type": "code",
   "execution_count": 175,
   "outputs": [
    {
     "ename": "SyntaxError",
     "evalue": "EOL while scanning string literal (66175917.py, line 1)",
     "output_type": "error",
     "traceback": [
      "\u001B[1;36m  Input \u001B[1;32mIn [175]\u001B[1;36m\u001B[0m\n\u001B[1;33m    view_def.loc[view_def_filter]['definition]\u001B[0m\n\u001B[1;37m                                              ^\u001B[0m\n\u001B[1;31mSyntaxError\u001B[0m\u001B[1;31m:\u001B[0m EOL while scanning string literal\n"
     ]
    }
   ],
   "source": [
    "view_def.loc[view_def_filter]['definition]"
   ],
   "metadata": {
    "collapsed": false,
    "pycharm": {
     "name": "#%%\n"
    }
   }
  },
  {
   "cell_type": "code",
   "execution_count": null,
   "outputs": [],
   "source": [],
   "metadata": {
    "collapsed": false,
    "pycharm": {
     "name": "#%%\n"
    }
   }
  },
  {
   "cell_type": "code",
   "execution_count": null,
   "outputs": [],
   "source": [],
   "metadata": {
    "collapsed": false,
    "pycharm": {
     "name": "#%%\n"
    }
   }
  },
  {
   "cell_type": "code",
   "execution_count": null,
   "outputs": [],
   "source": [],
   "metadata": {
    "collapsed": false,
    "pycharm": {
     "name": "#%%\n"
    }
   }
  },
  {
   "cell_type": "code",
   "execution_count": null,
   "outputs": [],
   "source": [],
   "metadata": {
    "collapsed": false,
    "pycharm": {
     "name": "#%%\n"
    }
   }
  },
  {
   "cell_type": "code",
   "execution_count": null,
   "outputs": [],
   "source": [],
   "metadata": {
    "collapsed": false,
    "pycharm": {
     "name": "#%%\n"
    }
   }
  },
  {
   "cell_type": "code",
   "execution_count": null,
   "outputs": [],
   "source": [],
   "metadata": {
    "collapsed": false,
    "pycharm": {
     "name": "#%%\n"
    }
   }
  },
  {
   "cell_type": "code",
   "execution_count": null,
   "outputs": [],
   "source": [],
   "metadata": {
    "collapsed": false,
    "pycharm": {
     "name": "#%%\n"
    }
   }
  },
  {
   "cell_type": "markdown",
   "source": [
    "# GENERATE .md files for use in obsidian or wiki"
   ],
   "metadata": {
    "collapsed": false,
    "pycharm": {
     "name": "#%% md\n"
    }
   }
  },
  {
   "cell_type": "code",
   "execution_count": 82,
   "outputs": [
    {
     "ename": "NameError",
     "evalue": "name 'deps' is not defined",
     "output_type": "error",
     "traceback": [
      "\u001B[1;31m---------------------------------------------------------------------------\u001B[0m",
      "\u001B[1;31mNameError\u001B[0m                                 Traceback (most recent call last)",
      "Input \u001B[1;32mIn [82]\u001B[0m, in \u001B[0;36m<cell line: 5>\u001B[1;34m()\u001B[0m\n\u001B[0;32m     48\u001B[0m file\u001B[38;5;241m.\u001B[39mwrite(\u001B[38;5;124m\"\u001B[39m\u001B[38;5;124m##### DEPENDENCIES :\u001B[39m\u001B[38;5;130;01m\\n\u001B[39;00m\u001B[38;5;130;01m\\n\u001B[39;00m\u001B[38;5;124m\"\u001B[39m)\n\u001B[0;32m     49\u001B[0m file\u001B[38;5;241m.\u001B[39mwrite(\u001B[38;5;124m\"\u001B[39m\u001B[38;5;124mParents:\u001B[39m\u001B[38;5;130;01m\\n\u001B[39;00m\u001B[38;5;124m\"\u001B[39m)\n\u001B[1;32m---> 50\u001B[0m parents \u001B[38;5;241m=\u001B[39m \u001B[43mget_parents\u001B[49m\u001B[43m(\u001B[49m\u001B[43mdeps_df\u001B[49m\u001B[43m,\u001B[49m\u001B[43m \u001B[49m\u001B[43mdb\u001B[49m\u001B[43m,\u001B[49m\u001B[43m \u001B[49m\u001B[43mdb_schema\u001B[49m\u001B[43m,\u001B[49m\u001B[43m \u001B[49m\u001B[38;5;28;43mobject\u001B[39;49m\u001B[43m)\u001B[49m\n\u001B[0;32m     51\u001B[0m \u001B[38;5;28;01mif\u001B[39;00m \u001B[38;5;28mlen\u001B[39m(parents) \u001B[38;5;241m>\u001B[39m\u001B[38;5;241m=\u001B[39m \u001B[38;5;241m1\u001B[39m:\n\u001B[0;32m     52\u001B[0m     file\u001B[38;5;241m.\u001B[39mwrite(markdown_table(parents))\n",
      "File \u001B[1;32m~\\devel\\python\\sql_dep\\queries.py:67\u001B[0m, in \u001B[0;36mget_parents\u001B[1;34m(deps_df, db, schema, object_name)\u001B[0m\n\u001B[0;32m     65\u001B[0m \u001B[38;5;28;01mdef\u001B[39;00m \u001B[38;5;21mget_parents\u001B[39m(deps_df,db, schema, object_name):\n\u001B[0;32m     66\u001B[0m     \u001B[38;5;66;03m# Filter the deps dataframe from fetch_all_db_dependencies to parents for the given object.\u001B[39;00m\n\u001B[1;32m---> 67\u001B[0m     parents \u001B[38;5;241m=\u001B[39m \u001B[43mdeps\u001B[49m\u001B[38;5;241m.\u001B[39mloc[(deps[\u001B[38;5;124m'\u001B[39m\u001B[38;5;124mDATABASE\u001B[39m\u001B[38;5;124m'\u001B[39m] \u001B[38;5;241m==\u001B[39m db) \u001B[38;5;241m&\u001B[39m\n\u001B[0;32m     68\u001B[0m                        (deps[\u001B[38;5;124m'\u001B[39m\u001B[38;5;124mreferencing_schema_name\u001B[39m\u001B[38;5;124m'\u001B[39m] \u001B[38;5;241m==\u001B[39m schema) \u001B[38;5;241m&\u001B[39m\n\u001B[0;32m     69\u001B[0m                        (deps[\u001B[38;5;124m'\u001B[39m\u001B[38;5;124mreferencing_object_name\u001B[39m\u001B[38;5;124m'\u001B[39m] \u001B[38;5;241m==\u001B[39m object_name)]\n\u001B[0;32m     70\u001B[0m     \u001B[38;5;66;03m# Trim result to these 4 columns\u001B[39;00m\n\u001B[0;32m     71\u001B[0m     parents \u001B[38;5;241m=\u001B[39m parents[[\u001B[38;5;124m'\u001B[39m\u001B[38;5;124mreferenced_server_name\u001B[39m\u001B[38;5;124m'\u001B[39m,\n\u001B[0;32m     72\u001B[0m                        \u001B[38;5;124m'\u001B[39m\u001B[38;5;124mreferenced_db_name\u001B[39m\u001B[38;5;124m'\u001B[39m,\n\u001B[0;32m     73\u001B[0m                        \u001B[38;5;124m'\u001B[39m\u001B[38;5;124mreferenced_schema_name\u001B[39m\u001B[38;5;124m'\u001B[39m,\n\u001B[0;32m     74\u001B[0m                        \u001B[38;5;124m'\u001B[39m\u001B[38;5;124mreferenced_entity_name\u001B[39m\u001B[38;5;124m'\u001B[39m]]\n",
      "\u001B[1;31mNameError\u001B[0m: name 'deps' is not defined"
     ]
    }
   ],
   "source": [
    "# Generate base directories + include directories\n",
    "DataCatalog_Path = Path(\"C:/obsidian/datacatalog/bidatacentre\")\n",
    "Include_Path = DataCatalog_Path / \"include\"\n",
    "\n",
    "for db in list(db_df['name']):\n",
    "    engine = connect_sqlserver_windowsauth('bidatacentre',db)\n",
    "    # Table Details\n",
    "    tab_det_df = fetch_table_details(engine)\n",
    "    tab_dates = fetch_table_dates_and_rowcount(engine)\n",
    "    # View Details\n",
    "\n",
    "    # Get all DB Dependencies\n",
    "    deps_df = fetch_all_db_dependencies(engine)\n",
    "\n",
    "    for db_schema in list(tab_det_df['schema_name'].unique()):\n",
    "        (Include_Path / db / db_schema).mkdir(parents=True, exist_ok=True)\n",
    "        (DataCatalog_Path / db / db_schema).mkdir(parents=True, exist_ok=True)\n",
    "        # drill down to individual schema / table and generate files.\n",
    "        for table in list((tab_det_df.loc[tab_det_df['schema_name'] == db_schema])['table_name'].unique()):\n",
    "            # Just the column details for this table\n",
    "            tab_df = tab_det_df.loc[ (tab_det_df['schema_name'] == db_schema) & (tab_det_df['table_name'] == table) ]\n",
    "            tab_df = tab_df[['column_name',\n",
    "                             'data_type_ext',\n",
    "                             'nullable',\n",
    "                             'default_value',\n",
    "                             'primary_key',\n",
    "                             'foreign_key',\n",
    "                             'unique_key',\n",
    "                             'comments']]\n",
    "            tab_df.rename(columns={'column_name': 'Column',\n",
    "                     'data_type_ext': 'DataType',\n",
    "                     'nullable': 'Nullable',\n",
    "                     'default_value': 'Default',\n",
    "                     'primary_key': 'IS_PK',\n",
    "                     'foreign_key': 'IS_FK',\n",
    "                     'unique_key': 'Unique',\n",
    "                     'comments': 'Comments'}, inplace=True)\n",
    "\n",
    "            tabfile = table + \".md\"\n",
    "            row = tab_dates.loc[(tab_dates['schema_name'] == db_schema) & (tab_dates['table_name'] == table)]\n",
    "            with open ((DataCatalog_Path / db / db_schema / tabfile ), mode='w') as file:\n",
    "                file.write(\"##### SUMMARY :\\n\\n\")\n",
    "                file.write(f\"DB: **{db}**  SCHEMA: **{db_schema}**  OBJECT: **{table}** \\n\")\n",
    "                file.write(f\"Created: **{row.iloc[0]['created']}**  Modified: **{row.iloc[0]['last_modified']}**\\n\")\n",
    "                file.write(f\"Rows: **{row.iloc[0]['num_rows']}**\\nComments: **{row.iloc[0]['comments']}**\\n\")\n",
    "                file.write(\"\\n\\n\")\n",
    "\n",
    "                file.write(\"##### DEPENDENCIES :\\n\\n\")\n",
    "                file.write(\"Parents:\\n\")\n",
    "                parents = get_parents(deps_df, db, db_schema, object)\n",
    "                if len(parents) >= 1:\n",
    "                    file.write(markdown_table(parents))\n",
    "                else:\n",
    "                    file.write(\"**None**\")\n",
    "                file.write(\"\\n\\n\")\n",
    "\n",
    "                file.write(\"Children:\\n\")\n",
    "                children = get_children(deps_df, db, db_schema, object)\n",
    "                if len(children) >= 1:\n",
    "                    print(children)\n",
    "                    file.write(markdown_table(children))\n",
    "                else:\n",
    "                    file.write(\"**None**\")\n",
    "                file.write(\"\\n\\n\")\n",
    "\n",
    "                file.write(\"##### COLUMN DEFINITIONS:\\n\\n\")\n",
    "                file.write(markdown_table(tab_df))\n",
    "                file.write(\"\\n\\n\")\n",
    "                file.write(\"##### EXPLORATORY DATA ANALYSIS:\\n\\n\")\n",
    "                # Use actual data for tables with less than 1000 rows\n",
    "                if row.iloc[0]['num_rows'] <= 1000:\n",
    "                    rows = fetch_all_rows(engine, db_schema, table)\n",
    "                    # Using pandas_profiling report for simple EDA\n",
    "                    profile = ProfileReport(rows, title=table)\n",
    "                    tabfile = f\"{table}_profile.html\"\n",
    "                    filename = (Include_Path / db / db_schema / tabfile )\n",
    "                    profile.to_file(filename)\n",
    "                    file.write(f'<iframe src=\"{filename}\" height=300 width=1000>\\n\\n')\n",
    "                    file.write(f\"Open in browser: ![[{tabfile}]]\\n\")\n",
    "                    file.write(\"\\n\\n\")\n",
    "                else:\n",
    "                    # Methods to sample a random percentage of a table in MS SQL Server\n",
    "                    # https://docs.microsoft.com/en-us/previous-versions/sql/sql-server-2008-r2/ms189108(v=sql.105)?redirectedfrom=MSDN\n",
    "                    #rows = fetch_sample_rows(engine, db_schema, table, sample_pct=10)\n",
    "\n",
    "                    file.write(\"\\n\\n\")\n",
    "\n",
    "                file.write(\"##### USER NOTES:\\n\\n\")\n",
    "                file.write(f\"![[include/{db}/{db_schema}/{table}_user_notes.md]]\\n\\n\")\n",
    "\n"
   ],
   "metadata": {
    "collapsed": false,
    "pycharm": {
     "name": "#%%\n"
    }
   }
  },
  {
   "cell_type": "code",
   "execution_count": null,
   "outputs": [],
   "source": [],
   "metadata": {
    "collapsed": false,
    "pycharm": {
     "name": "#%%\n"
    }
   }
  },
  {
   "cell_type": "code",
   "execution_count": null,
   "outputs": [],
   "source": [],
   "metadata": {
    "collapsed": false,
    "pycharm": {
     "name": "#%%\n"
    }
   }
  },
  {
   "cell_type": "code",
   "execution_count": null,
   "outputs": [],
   "source": [],
   "metadata": {
    "collapsed": false,
    "pycharm": {
     "name": "#%%\n"
    }
   }
  },
  {
   "cell_type": "code",
   "execution_count": null,
   "outputs": [],
   "source": [],
   "metadata": {
    "collapsed": false,
    "pycharm": {
     "name": "#%%\n"
    }
   }
  },
  {
   "cell_type": "code",
   "execution_count": null,
   "outputs": [],
   "source": [],
   "metadata": {
    "collapsed": false,
    "pycharm": {
     "name": "#%%\n"
    }
   }
  },
  {
   "cell_type": "code",
   "execution_count": null,
   "outputs": [],
   "source": [],
   "metadata": {
    "collapsed": false,
    "pycharm": {
     "name": "#%%\n"
    }
   }
  },
  {
   "cell_type": "code",
   "execution_count": null,
   "outputs": [],
   "source": [],
   "metadata": {
    "collapsed": false,
    "pycharm": {
     "name": "#%%\n"
    }
   }
  },
  {
   "cell_type": "code",
   "execution_count": null,
   "outputs": [],
   "source": [],
   "metadata": {
    "collapsed": false,
    "pycharm": {
     "name": "#%%\n"
    }
   }
  },
  {
   "cell_type": "code",
   "execution_count": null,
   "outputs": [],
   "source": [],
   "metadata": {
    "collapsed": false,
    "pycharm": {
     "name": "#%%\n"
    }
   }
  },
  {
   "cell_type": "code",
   "execution_count": null,
   "outputs": [],
   "source": [],
   "metadata": {
    "collapsed": false,
    "pycharm": {
     "name": "#%%\n"
    }
   }
  },
  {
   "cell_type": "code",
   "execution_count": null,
   "outputs": [],
   "source": [],
   "metadata": {
    "collapsed": false,
    "pycharm": {
     "name": "#%%\n"
    }
   }
  },
  {
   "cell_type": "code",
   "execution_count": null,
   "outputs": [],
   "source": [],
   "metadata": {
    "collapsed": false,
    "pycharm": {
     "name": "#%%\n"
    }
   }
  },
  {
   "cell_type": "code",
   "execution_count": null,
   "outputs": [],
   "source": [],
   "metadata": {
    "collapsed": false,
    "pycharm": {
     "name": "#%%\n"
    }
   }
  },
  {
   "cell_type": "code",
   "execution_count": null,
   "outputs": [],
   "source": [],
   "metadata": {
    "collapsed": false,
    "pycharm": {
     "name": "#%%\n"
    }
   }
  },
  {
   "cell_type": "code",
   "execution_count": null,
   "outputs": [],
   "source": [],
   "metadata": {
    "collapsed": false,
    "pycharm": {
     "name": "#%%\n"
    }
   }
  },
  {
   "cell_type": "code",
   "execution_count": null,
   "outputs": [],
   "source": [],
   "metadata": {
    "collapsed": false,
    "pycharm": {
     "name": "#%%\n"
    }
   }
  },
  {
   "cell_type": "code",
   "execution_count": null,
   "outputs": [],
   "source": [],
   "metadata": {
    "collapsed": false,
    "pycharm": {
     "name": "#%%\n"
    }
   }
  },
  {
   "cell_type": "code",
   "execution_count": null,
   "outputs": [],
   "source": [],
   "metadata": {
    "collapsed": false,
    "pycharm": {
     "name": "#%%\n"
    }
   }
  },
  {
   "cell_type": "code",
   "execution_count": null,
   "outputs": [],
   "source": [],
   "metadata": {
    "collapsed": false,
    "pycharm": {
     "name": "#%%\n"
    }
   }
  },
  {
   "cell_type": "code",
   "execution_count": null,
   "outputs": [],
   "source": [],
   "metadata": {
    "collapsed": false,
    "pycharm": {
     "name": "#%%\n"
    }
   }
  },
  {
   "cell_type": "code",
   "execution_count": null,
   "outputs": [],
   "source": [],
   "metadata": {
    "collapsed": false,
    "pycharm": {
     "name": "#%%\n"
    }
   }
  },
  {
   "cell_type": "code",
   "execution_count": null,
   "outputs": [],
   "source": [],
   "metadata": {
    "collapsed": false,
    "pycharm": {
     "name": "#%%\n"
    }
   }
  },
  {
   "cell_type": "code",
   "execution_count": null,
   "outputs": [],
   "source": [],
   "metadata": {
    "collapsed": false,
    "pycharm": {
     "name": "#%%\n"
    }
   }
  },
  {
   "cell_type": "code",
   "execution_count": null,
   "outputs": [],
   "source": [],
   "metadata": {
    "collapsed": false,
    "pycharm": {
     "name": "#%%\n"
    }
   }
  },
  {
   "cell_type": "code",
   "execution_count": null,
   "outputs": [],
   "source": [],
   "metadata": {
    "collapsed": false,
    "pycharm": {
     "name": "#%%\n"
    }
   }
  },
  {
   "cell_type": "code",
   "execution_count": null,
   "outputs": [],
   "source": [],
   "metadata": {
    "collapsed": false,
    "pycharm": {
     "name": "#%%\n"
    }
   }
  },
  {
   "cell_type": "code",
   "execution_count": null,
   "outputs": [],
   "source": [],
   "metadata": {
    "collapsed": false,
    "pycharm": {
     "name": "#%%\n"
    }
   }
  },
  {
   "cell_type": "code",
   "execution_count": null,
   "outputs": [],
   "source": [],
   "metadata": {
    "collapsed": false,
    "pycharm": {
     "name": "#%%\n"
    }
   }
  }
 ],
 "metadata": {
  "kernelspec": {
   "display_name": "Python 3",
   "language": "python",
   "name": "python3"
  },
  "language_info": {
   "codemirror_mode": {
    "name": "ipython",
    "version": 2
   },
   "file_extension": ".py",
   "mimetype": "text/x-python",
   "name": "python",
   "nbconvert_exporter": "python",
   "pygments_lexer": "ipython2",
   "version": "2.7.6"
  }
 },
 "nbformat": 4,
 "nbformat_minor": 0
}